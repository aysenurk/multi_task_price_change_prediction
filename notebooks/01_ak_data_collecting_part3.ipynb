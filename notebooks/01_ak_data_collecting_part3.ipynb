{
 "cells": [
  {
   "cell_type": "code",
   "execution_count": 1,
   "metadata": {
    "id": "edbKx492v8CK"
   },
   "outputs": [],
   "source": [
    "import pandas as pd\n",
    "import ccxt"
   ]
  },
  {
   "cell_type": "markdown",
   "metadata": {},
   "source": [
    "## Data obtaining from ccxt library \n",
    "--------------------------------------------\n",
    "motivation, get high frequency data from exchange\n",
    "exchange(s) should be decided \\\n",
    "Another thing is that cryptocurrency against which currency should be decided. \\\n",
    "anlamadığım bir durum var doları cryptocurrency -lere karşı bulamıyorum"
   ]
  },
  {
   "cell_type": "code",
   "execution_count": null,
   "metadata": {},
   "outputs": [],
   "source": [
    "#https://backtest-rookies.com/2018/03/08/download-cryptocurrency-data-with-ccxt/\n",
    "#https://www.linkedin.com/pulse/download-historical-data-all-cryptocoins-ccxt-gursel-karacor/?articleId=6636391574811090944   \n",
    "## final: https://github.com/codeninja/CCXT-Historical-Data/blob/master/Binance%20Historical%20Data%20.ipynb"
   ]
  },
  {
   "cell_type": "code",
   "execution_count": 2,
   "metadata": {},
   "outputs": [],
   "source": [
    "import os\n",
    "from pathlib import Path\n",
    "\n",
    "import sys\n",
    "import csv\n",
    "\n",
    "import ccxt\n",
    "# -----------------------------------------------------------------------------\n",
    "\n",
    "def retry_fetch_ohlcv(exchange, max_retries, symbol, timeframe, since, limit):\n",
    "    num_retries = 0\n",
    "    try:\n",
    "        num_retries += 1\n",
    "        ohlcv = exchange.fetch_ohlcv(symbol, timeframe, since, limit)\n",
    "        # print('Fetched', len(ohlcv), symbol, 'candles from', exchange.iso8601 (ohlcv[0][0]), 'to', exchange.iso8601 (ohlcv[-1][0]))\n",
    "        return ohlcv\n",
    "    except Exception:\n",
    "        if num_retries > max_retries:\n",
    "            raise  # Exception('Failed to fetch', timeframe, symbol, 'OHLCV in', max_retries, 'attempts')\n",
    "\n",
    "\n",
    "def scrape_ohlcv(exchange, max_retries, symbol, timeframe, since, limit):\n",
    "    earliest_timestamp = exchange.milliseconds()\n",
    "    timeframe_duration_in_seconds = exchange.parse_timeframe(timeframe)\n",
    "    timeframe_duration_in_ms = timeframe_duration_in_seconds * 1000\n",
    "    timedelta = limit * timeframe_duration_in_ms\n",
    "    all_ohlcv = []\n",
    "    while True:\n",
    "        fetch_since = earliest_timestamp - timedelta\n",
    "        ohlcv = retry_fetch_ohlcv(exchange, max_retries, symbol, timeframe, fetch_since, limit)\n",
    "        # if we have reached the beginning of history\n",
    "        if len(ohlcv) == 0:\n",
    "            break\n",
    "        if ohlcv[0][0] >= earliest_timestamp:\n",
    "            break\n",
    "        earliest_timestamp = ohlcv[0][0]\n",
    "        all_ohlcv = ohlcv + all_ohlcv\n",
    "        print(len(all_ohlcv), symbol, 'candles in total from', exchange.iso8601(all_ohlcv[0][0]), 'to', exchange.iso8601(all_ohlcv[-1][0]))\n",
    "        # if we have reached the checkpoint\n",
    "        if fetch_since < since:\n",
    "            break\n",
    "    return all_ohlcv\n",
    "\n",
    "\n",
    "def write_to_csv(filename, exchange, data):\n",
    "    p = Path(\"../data/0_raw/\", str(exchange))\n",
    "    p.mkdir(parents=True, exist_ok=True)\n",
    "    full_path = p / str(filename)\n",
    "    with Path(full_path).open('w+', newline='') as output_file:\n",
    "        csv_writer = csv.writer(output_file, delimiter=',', quotechar='\"', quoting=csv.QUOTE_MINIMAL)\n",
    "        csv_writer.writerows(data)\n",
    "\n",
    "\n",
    "def scrape_candles_to_csv(filename, exchange_id, max_retries, symbol, timeframe, since, limit):\n",
    "    # instantiate the exchange by id\n",
    "    exchange = getattr(ccxt, exchange_id)({\n",
    "        'enableRateLimit': True,  # required by the Manual\n",
    "    })\n",
    "    # convert since from string to milliseconds integer if needed\n",
    "    if isinstance(since, str):\n",
    "        since = exchange.parse8601(since)\n",
    "    # preload all markets from the exchange\n",
    "    exchange.load_markets()\n",
    "    # fetch all candles+\n",
    "    ohlcv = scrape_ohlcv(exchange, max_retries, symbol, timeframe, since, limit)\n",
    "    # save them to csv file\n",
    "    write_to_csv(filename, exchange, ohlcv)\n",
    "    print('Saved', len(ohlcv), 'candles from', exchange.iso8601(ohlcv[0][0]), 'to', exchange.iso8601(ohlcv[-1][0]), 'to', filename)"
   ]
  },
  {
   "cell_type": "code",
   "execution_count": null,
   "metadata": {},
   "outputs": [],
   "source": [
    "#BUSD ile çok az veri çekilebildiği için usdt yi de çektim."
   ]
  },
  {
   "cell_type": "code",
   "execution_count": 3,
   "metadata": {},
   "outputs": [
    {
     "name": "stdout",
     "output_type": "stream",
     "text": [
      "996 BTC/USDT candles in total from 2021-07-05T13:00:00.000Z to 2021-08-16T04:00:00.000Z\n",
      "1996 BTC/USDT candles in total from 2021-05-24T21:00:00.000Z to 2021-08-16T04:00:00.000Z\n",
      "2991 BTC/USDT candles in total from 2021-04-13T05:00:00.000Z to 2021-08-16T04:00:00.000Z\n",
      "3990 BTC/USDT candles in total from 2021-03-02T13:00:00.000Z to 2021-08-16T04:00:00.000Z\n",
      "4989 BTC/USDT candles in total from 2021-01-19T21:00:00.000Z to 2021-08-16T04:00:00.000Z\n",
      "5985 BTC/USDT candles in total from 2020-12-09T05:00:00.000Z to 2021-08-16T04:00:00.000Z\n",
      "6984 BTC/USDT candles in total from 2020-10-28T13:00:00.000Z to 2021-08-16T04:00:00.000Z\n",
      "7984 BTC/USDT candles in total from 2020-09-16T21:00:00.000Z to 2021-08-16T04:00:00.000Z\n",
      "8984 BTC/USDT candles in total from 2020-08-06T05:00:00.000Z to 2021-08-16T04:00:00.000Z\n",
      "9981 BTC/USDT candles in total from 2020-06-25T13:00:00.000Z to 2021-08-16T04:00:00.000Z\n",
      "10981 BTC/USDT candles in total from 2020-05-14T21:00:00.000Z to 2021-08-16T04:00:00.000Z\n",
      "11979 BTC/USDT candles in total from 2020-04-03T05:00:00.000Z to 2021-08-16T04:00:00.000Z\n",
      "12978 BTC/USDT candles in total from 2020-02-21T13:00:00.000Z to 2021-08-16T04:00:00.000Z\n",
      "13972 BTC/USDT candles in total from 2020-01-10T21:00:00.000Z to 2021-08-16T04:00:00.000Z\n",
      "14972 BTC/USDT candles in total from 2019-11-30T05:00:00.000Z to 2021-08-16T04:00:00.000Z\n",
      "15968 BTC/USDT candles in total from 2019-10-19T13:00:00.000Z to 2021-08-16T04:00:00.000Z\n",
      "16968 BTC/USDT candles in total from 2019-09-07T21:00:00.000Z to 2021-08-16T04:00:00.000Z\n",
      "17960 BTC/USDT candles in total from 2019-07-28T05:00:00.000Z to 2021-08-16T04:00:00.000Z\n",
      "18960 BTC/USDT candles in total from 2019-06-16T13:00:00.000Z to 2021-08-16T04:00:00.000Z\n",
      "19950 BTC/USDT candles in total from 2019-05-05T21:00:00.000Z to 2021-08-16T04:00:00.000Z\n",
      "20950 BTC/USDT candles in total from 2019-03-25T05:00:00.000Z to 2021-08-16T04:00:00.000Z\n",
      "21944 BTC/USDT candles in total from 2019-02-11T13:00:00.000Z to 2021-08-16T04:00:00.000Z\n",
      "22944 BTC/USDT candles in total from 2018-12-31T21:00:00.000Z to 2021-08-16T04:00:00.000Z\n",
      "23944 BTC/USDT candles in total from 2018-11-20T05:00:00.000Z to 2021-08-16T04:00:00.000Z\n",
      "24934 BTC/USDT candles in total from 2018-10-09T13:00:00.000Z to 2021-08-16T04:00:00.000Z\n",
      "25934 BTC/USDT candles in total from 2018-08-28T21:00:00.000Z to 2021-08-16T04:00:00.000Z\n",
      "26934 BTC/USDT candles in total from 2018-07-18T05:00:00.000Z to 2021-08-16T04:00:00.000Z\n",
      "27916 BTC/USDT candles in total from 2018-06-06T13:00:00.000Z to 2021-08-16T04:00:00.000Z\n",
      "28916 BTC/USDT candles in total from 2018-04-25T21:00:00.000Z to 2021-08-16T04:00:00.000Z\n",
      "29916 BTC/USDT candles in total from 2018-03-15T05:00:00.000Z to 2021-08-16T04:00:00.000Z\n",
      "30884 BTC/USDT candles in total from 2018-02-01T13:00:00.000Z to 2021-08-16T04:00:00.000Z\n",
      "31883 BTC/USDT candles in total from 2017-12-21T21:00:00.000Z to 2021-08-16T04:00:00.000Z\n",
      "32883 BTC/USDT candles in total from 2017-11-10T05:00:00.000Z to 2021-08-16T04:00:00.000Z\n",
      "33883 BTC/USDT candles in total from 2017-09-29T13:00:00.000Z to 2021-08-16T04:00:00.000Z\n",
      "34876 BTC/USDT candles in total from 2017-08-18T21:00:00.000Z to 2021-08-16T04:00:00.000Z\n",
      "34917 BTC/USDT candles in total from 2017-08-17T04:00:00.000Z to 2021-08-16T04:00:00.000Z\n",
      "Saved 34917 candles from 2017-08-17T04:00:00.000Z to 2021-08-16T04:00:00.000Z to ./btc_usdt_1h.csv\n"
     ]
    }
   ],
   "source": [
    "scrape_candles_to_csv('./btc_usdt_1h.csv', 'binance', 3, 'BTC/USDT', '1h', '2017-01-0100:00:00Z', 1000)"
   ]
  },
  {
   "cell_type": "code",
   "execution_count": 4,
   "metadata": {},
   "outputs": [
    {
     "name": "stdout",
     "output_type": "stream",
     "text": [
      "996 ETH/USDT candles in total from 2021-07-05T13:00:00.000Z to 2021-08-16T04:00:00.000Z\n",
      "1996 ETH/USDT candles in total from 2021-05-24T21:00:00.000Z to 2021-08-16T04:00:00.000Z\n",
      "2991 ETH/USDT candles in total from 2021-04-13T05:00:00.000Z to 2021-08-16T04:00:00.000Z\n",
      "3990 ETH/USDT candles in total from 2021-03-02T13:00:00.000Z to 2021-08-16T04:00:00.000Z\n",
      "4989 ETH/USDT candles in total from 2021-01-19T21:00:00.000Z to 2021-08-16T04:00:00.000Z\n",
      "5985 ETH/USDT candles in total from 2020-12-09T05:00:00.000Z to 2021-08-16T04:00:00.000Z\n",
      "6984 ETH/USDT candles in total from 2020-10-28T13:00:00.000Z to 2021-08-16T04:00:00.000Z\n",
      "7984 ETH/USDT candles in total from 2020-09-16T21:00:00.000Z to 2021-08-16T04:00:00.000Z\n",
      "8984 ETH/USDT candles in total from 2020-08-06T05:00:00.000Z to 2021-08-16T04:00:00.000Z\n",
      "9981 ETH/USDT candles in total from 2020-06-25T13:00:00.000Z to 2021-08-16T04:00:00.000Z\n",
      "10981 ETH/USDT candles in total from 2020-05-14T21:00:00.000Z to 2021-08-16T04:00:00.000Z\n",
      "11979 ETH/USDT candles in total from 2020-04-03T05:00:00.000Z to 2021-08-16T04:00:00.000Z\n",
      "12978 ETH/USDT candles in total from 2020-02-21T13:00:00.000Z to 2021-08-16T04:00:00.000Z\n",
      "13972 ETH/USDT candles in total from 2020-01-10T21:00:00.000Z to 2021-08-16T04:00:00.000Z\n",
      "14972 ETH/USDT candles in total from 2019-11-30T05:00:00.000Z to 2021-08-16T04:00:00.000Z\n",
      "15968 ETH/USDT candles in total from 2019-10-19T13:00:00.000Z to 2021-08-16T04:00:00.000Z\n",
      "16968 ETH/USDT candles in total from 2019-09-07T21:00:00.000Z to 2021-08-16T04:00:00.000Z\n",
      "17960 ETH/USDT candles in total from 2019-07-28T05:00:00.000Z to 2021-08-16T04:00:00.000Z\n",
      "18960 ETH/USDT candles in total from 2019-06-16T13:00:00.000Z to 2021-08-16T04:00:00.000Z\n",
      "19950 ETH/USDT candles in total from 2019-05-05T21:00:00.000Z to 2021-08-16T04:00:00.000Z\n",
      "20950 ETH/USDT candles in total from 2019-03-25T05:00:00.000Z to 2021-08-16T04:00:00.000Z\n",
      "21944 ETH/USDT candles in total from 2019-02-11T13:00:00.000Z to 2021-08-16T04:00:00.000Z\n",
      "22944 ETH/USDT candles in total from 2018-12-31T21:00:00.000Z to 2021-08-16T04:00:00.000Z\n",
      "23944 ETH/USDT candles in total from 2018-11-20T05:00:00.000Z to 2021-08-16T04:00:00.000Z\n",
      "24934 ETH/USDT candles in total from 2018-10-09T13:00:00.000Z to 2021-08-16T04:00:00.000Z\n",
      "25934 ETH/USDT candles in total from 2018-08-28T21:00:00.000Z to 2021-08-16T04:00:00.000Z\n",
      "26934 ETH/USDT candles in total from 2018-07-18T05:00:00.000Z to 2021-08-16T04:00:00.000Z\n",
      "27916 ETH/USDT candles in total from 2018-06-06T13:00:00.000Z to 2021-08-16T04:00:00.000Z\n",
      "28916 ETH/USDT candles in total from 2018-04-25T21:00:00.000Z to 2021-08-16T04:00:00.000Z\n",
      "29916 ETH/USDT candles in total from 2018-03-15T05:00:00.000Z to 2021-08-16T04:00:00.000Z\n",
      "30884 ETH/USDT candles in total from 2018-02-01T13:00:00.000Z to 2021-08-16T04:00:00.000Z\n",
      "31883 ETH/USDT candles in total from 2017-12-21T21:00:00.000Z to 2021-08-16T04:00:00.000Z\n",
      "32883 ETH/USDT candles in total from 2017-11-10T05:00:00.000Z to 2021-08-16T04:00:00.000Z\n",
      "33883 ETH/USDT candles in total from 2017-09-29T13:00:00.000Z to 2021-08-16T04:00:00.000Z\n",
      "34876 ETH/USDT candles in total from 2017-08-18T21:00:00.000Z to 2021-08-16T04:00:00.000Z\n",
      "34917 ETH/USDT candles in total from 2017-08-17T04:00:00.000Z to 2021-08-16T04:00:00.000Z\n",
      "Saved 34917 candles from 2017-08-17T04:00:00.000Z to 2021-08-16T04:00:00.000Z to ./eth_usdt_1h.csv\n"
     ]
    }
   ],
   "source": [
    "scrape_candles_to_csv('./eth_usdt_1h.csv', 'binance', 3, 'ETH/USDT', '1h', '2017-01-0100:00:00Z', 1000)"
   ]
  },
  {
   "cell_type": "code",
   "execution_count": 5,
   "metadata": {},
   "outputs": [
    {
     "name": "stdout",
     "output_type": "stream",
     "text": [
      "996 LTC/USDT candles in total from 2021-07-05T13:00:00.000Z to 2021-08-16T04:00:00.000Z\n",
      "1996 LTC/USDT candles in total from 2021-05-24T21:00:00.000Z to 2021-08-16T04:00:00.000Z\n",
      "2991 LTC/USDT candles in total from 2021-04-13T05:00:00.000Z to 2021-08-16T04:00:00.000Z\n",
      "3990 LTC/USDT candles in total from 2021-03-02T13:00:00.000Z to 2021-08-16T04:00:00.000Z\n",
      "4989 LTC/USDT candles in total from 2021-01-19T21:00:00.000Z to 2021-08-16T04:00:00.000Z\n",
      "5985 LTC/USDT candles in total from 2020-12-09T05:00:00.000Z to 2021-08-16T04:00:00.000Z\n",
      "6984 LTC/USDT candles in total from 2020-10-28T13:00:00.000Z to 2021-08-16T04:00:00.000Z\n",
      "7984 LTC/USDT candles in total from 2020-09-16T21:00:00.000Z to 2021-08-16T04:00:00.000Z\n",
      "8984 LTC/USDT candles in total from 2020-08-06T05:00:00.000Z to 2021-08-16T04:00:00.000Z\n",
      "9981 LTC/USDT candles in total from 2020-06-25T13:00:00.000Z to 2021-08-16T04:00:00.000Z\n",
      "10981 LTC/USDT candles in total from 2020-05-14T21:00:00.000Z to 2021-08-16T04:00:00.000Z\n",
      "11979 LTC/USDT candles in total from 2020-04-03T05:00:00.000Z to 2021-08-16T04:00:00.000Z\n",
      "12978 LTC/USDT candles in total from 2020-02-21T13:00:00.000Z to 2021-08-16T04:00:00.000Z\n",
      "13972 LTC/USDT candles in total from 2020-01-10T21:00:00.000Z to 2021-08-16T04:00:00.000Z\n",
      "14972 LTC/USDT candles in total from 2019-11-30T05:00:00.000Z to 2021-08-16T04:00:00.000Z\n",
      "15968 LTC/USDT candles in total from 2019-10-19T13:00:00.000Z to 2021-08-16T04:00:00.000Z\n",
      "16968 LTC/USDT candles in total from 2019-09-07T21:00:00.000Z to 2021-08-16T04:00:00.000Z\n",
      "17960 LTC/USDT candles in total from 2019-07-28T05:00:00.000Z to 2021-08-16T04:00:00.000Z\n",
      "18960 LTC/USDT candles in total from 2019-06-16T13:00:00.000Z to 2021-08-16T04:00:00.000Z\n",
      "19950 LTC/USDT candles in total from 2019-05-05T21:00:00.000Z to 2021-08-16T04:00:00.000Z\n",
      "20950 LTC/USDT candles in total from 2019-03-25T05:00:00.000Z to 2021-08-16T04:00:00.000Z\n",
      "21944 LTC/USDT candles in total from 2019-02-11T13:00:00.000Z to 2021-08-16T04:00:00.000Z\n",
      "22944 LTC/USDT candles in total from 2018-12-31T21:00:00.000Z to 2021-08-16T04:00:00.000Z\n",
      "23944 LTC/USDT candles in total from 2018-11-20T05:00:00.000Z to 2021-08-16T04:00:00.000Z\n",
      "24934 LTC/USDT candles in total from 2018-10-09T13:00:00.000Z to 2021-08-16T04:00:00.000Z\n",
      "25934 LTC/USDT candles in total from 2018-08-28T21:00:00.000Z to 2021-08-16T04:00:00.000Z\n",
      "26934 LTC/USDT candles in total from 2018-07-18T05:00:00.000Z to 2021-08-16T04:00:00.000Z\n",
      "27916 LTC/USDT candles in total from 2018-06-06T13:00:00.000Z to 2021-08-16T04:00:00.000Z\n",
      "28916 LTC/USDT candles in total from 2018-04-25T21:00:00.000Z to 2021-08-16T04:00:00.000Z\n",
      "29916 LTC/USDT candles in total from 2018-03-15T05:00:00.000Z to 2021-08-16T04:00:00.000Z\n",
      "30884 LTC/USDT candles in total from 2018-02-01T13:00:00.000Z to 2021-08-16T04:00:00.000Z\n",
      "31883 LTC/USDT candles in total from 2017-12-21T21:00:00.000Z to 2021-08-16T04:00:00.000Z\n",
      "32093 LTC/USDT candles in total from 2017-12-13T03:00:00.000Z to 2021-08-16T04:00:00.000Z\n",
      "Saved 32093 candles from 2017-12-13T03:00:00.000Z to 2021-08-16T04:00:00.000Z to ./ltc_usdt_1h.csv\n"
     ]
    }
   ],
   "source": [
    "scrape_candles_to_csv('./ltc_usdt_1h.csv', 'binance', 3, 'LTC/USDT', '1h', '2017-01-0100:00:00Z', 1000)"
   ]
  },
  {
   "cell_type": "code",
   "execution_count": 6,
   "metadata": {},
   "outputs": [],
   "source": [
    "for filename in [\"btc_usdt_1h.csv\", \"eth_usdt_1h.csv\", \"ltc_usdt_1h.csv\"]:\n",
    "    df = pd.read_csv('../data/0_raw/Binance/' + filename, header=None)\n",
    "    df.columns = ['Timestamp', 'Open', 'High', 'Low', 'Close', 'Volume']\n",
    "    df.set_index('Timestamp', inplace=True)\n",
    "    df.index = df.index /1000\n",
    "    df[\"Date\"] = pd.to_datetime(df.index,unit='s')\n",
    "    df.to_csv(\"../data/0_raw/\" + filename)"
   ]
  },
  {
   "cell_type": "code",
   "execution_count": null,
   "metadata": {},
   "outputs": [],
   "source": []
  },
  {
   "cell_type": "code",
   "execution_count": null,
   "metadata": {},
   "outputs": [],
   "source": [
    "#https://coinmarketcap.com/all/views/all/"
   ]
  },
  {
   "cell_type": "code",
   "execution_count": 7,
   "metadata": {},
   "outputs": [
    {
     "name": "stdout",
     "output_type": "stream",
     "text": [
      "996 ADA/USDT candles in total from 2021-07-05T13:00:00.000Z to 2021-08-16T04:00:00.000Z\n",
      "1996 ADA/USDT candles in total from 2021-05-24T21:00:00.000Z to 2021-08-16T04:00:00.000Z\n",
      "2991 ADA/USDT candles in total from 2021-04-13T05:00:00.000Z to 2021-08-16T04:00:00.000Z\n",
      "3990 ADA/USDT candles in total from 2021-03-02T13:00:00.000Z to 2021-08-16T04:00:00.000Z\n",
      "4989 ADA/USDT candles in total from 2021-01-19T21:00:00.000Z to 2021-08-16T04:00:00.000Z\n",
      "5985 ADA/USDT candles in total from 2020-12-09T05:00:00.000Z to 2021-08-16T04:00:00.000Z\n",
      "6984 ADA/USDT candles in total from 2020-10-28T13:00:00.000Z to 2021-08-16T04:00:00.000Z\n",
      "7984 ADA/USDT candles in total from 2020-09-16T21:00:00.000Z to 2021-08-16T04:00:00.000Z\n",
      "8984 ADA/USDT candles in total from 2020-08-06T05:00:00.000Z to 2021-08-16T04:00:00.000Z\n",
      "9981 ADA/USDT candles in total from 2020-06-25T13:00:00.000Z to 2021-08-16T04:00:00.000Z\n",
      "10981 ADA/USDT candles in total from 2020-05-14T21:00:00.000Z to 2021-08-16T04:00:00.000Z\n",
      "11979 ADA/USDT candles in total from 2020-04-03T05:00:00.000Z to 2021-08-16T04:00:00.000Z\n",
      "12978 ADA/USDT candles in total from 2020-02-21T13:00:00.000Z to 2021-08-16T04:00:00.000Z\n",
      "13972 ADA/USDT candles in total from 2020-01-10T21:00:00.000Z to 2021-08-16T04:00:00.000Z\n",
      "14972 ADA/USDT candles in total from 2019-11-30T05:00:00.000Z to 2021-08-16T04:00:00.000Z\n",
      "15968 ADA/USDT candles in total from 2019-10-19T13:00:00.000Z to 2021-08-16T04:00:00.000Z\n",
      "16968 ADA/USDT candles in total from 2019-09-07T21:00:00.000Z to 2021-08-16T04:00:00.000Z\n",
      "17960 ADA/USDT candles in total from 2019-07-28T05:00:00.000Z to 2021-08-16T04:00:00.000Z\n",
      "18960 ADA/USDT candles in total from 2019-06-16T13:00:00.000Z to 2021-08-16T04:00:00.000Z\n",
      "19950 ADA/USDT candles in total from 2019-05-05T21:00:00.000Z to 2021-08-16T04:00:00.000Z\n",
      "20950 ADA/USDT candles in total from 2019-03-25T05:00:00.000Z to 2021-08-16T04:00:00.000Z\n",
      "21944 ADA/USDT candles in total from 2019-02-11T13:00:00.000Z to 2021-08-16T04:00:00.000Z\n",
      "22944 ADA/USDT candles in total from 2018-12-31T21:00:00.000Z to 2021-08-16T04:00:00.000Z\n",
      "23944 ADA/USDT candles in total from 2018-11-20T05:00:00.000Z to 2021-08-16T04:00:00.000Z\n",
      "24934 ADA/USDT candles in total from 2018-10-09T13:00:00.000Z to 2021-08-16T04:00:00.000Z\n",
      "25934 ADA/USDT candles in total from 2018-08-28T21:00:00.000Z to 2021-08-16T04:00:00.000Z\n",
      "26934 ADA/USDT candles in total from 2018-07-18T05:00:00.000Z to 2021-08-16T04:00:00.000Z\n",
      "27916 ADA/USDT candles in total from 2018-06-06T13:00:00.000Z to 2021-08-16T04:00:00.000Z\n",
      "28916 ADA/USDT candles in total from 2018-04-25T21:00:00.000Z to 2021-08-16T04:00:00.000Z\n",
      "29125 ADA/USDT candles in total from 2018-04-17T04:00:00.000Z to 2021-08-16T04:00:00.000Z\n",
      "Saved 29125 candles from 2018-04-17T04:00:00.000Z to 2021-08-16T04:00:00.000Z to ./ada_usdt_1h.csv\n"
     ]
    }
   ],
   "source": [
    "scrape_candles_to_csv('./ada_usdt_1h.csv', 'binance', 3, 'ADA/USDT', '1h', '2017-01-0100:00:00Z', 1000)"
   ]
  },
  {
   "cell_type": "code",
   "execution_count": 8,
   "metadata": {},
   "outputs": [
    {
     "name": "stdout",
     "output_type": "stream",
     "text": [
      "996 XRP/USDT candles in total from 2021-07-05T13:00:00.000Z to 2021-08-16T04:00:00.000Z\n",
      "1996 XRP/USDT candles in total from 2021-05-24T21:00:00.000Z to 2021-08-16T04:00:00.000Z\n",
      "2991 XRP/USDT candles in total from 2021-04-13T05:00:00.000Z to 2021-08-16T04:00:00.000Z\n",
      "3990 XRP/USDT candles in total from 2021-03-02T13:00:00.000Z to 2021-08-16T04:00:00.000Z\n",
      "4989 XRP/USDT candles in total from 2021-01-19T21:00:00.000Z to 2021-08-16T04:00:00.000Z\n",
      "5985 XRP/USDT candles in total from 2020-12-09T05:00:00.000Z to 2021-08-16T04:00:00.000Z\n",
      "6984 XRP/USDT candles in total from 2020-10-28T13:00:00.000Z to 2021-08-16T04:00:00.000Z\n",
      "7984 XRP/USDT candles in total from 2020-09-16T21:00:00.000Z to 2021-08-16T04:00:00.000Z\n",
      "8984 XRP/USDT candles in total from 2020-08-06T05:00:00.000Z to 2021-08-16T04:00:00.000Z\n",
      "9981 XRP/USDT candles in total from 2020-06-25T13:00:00.000Z to 2021-08-16T04:00:00.000Z\n",
      "10981 XRP/USDT candles in total from 2020-05-14T21:00:00.000Z to 2021-08-16T04:00:00.000Z\n",
      "11979 XRP/USDT candles in total from 2020-04-03T05:00:00.000Z to 2021-08-16T04:00:00.000Z\n",
      "12978 XRP/USDT candles in total from 2020-02-21T13:00:00.000Z to 2021-08-16T04:00:00.000Z\n",
      "13972 XRP/USDT candles in total from 2020-01-10T21:00:00.000Z to 2021-08-16T04:00:00.000Z\n",
      "14972 XRP/USDT candles in total from 2019-11-30T05:00:00.000Z to 2021-08-16T04:00:00.000Z\n",
      "15968 XRP/USDT candles in total from 2019-10-19T13:00:00.000Z to 2021-08-16T04:00:00.000Z\n",
      "16968 XRP/USDT candles in total from 2019-09-07T21:00:00.000Z to 2021-08-16T04:00:00.000Z\n",
      "17960 XRP/USDT candles in total from 2019-07-28T05:00:00.000Z to 2021-08-16T04:00:00.000Z\n",
      "18960 XRP/USDT candles in total from 2019-06-16T13:00:00.000Z to 2021-08-16T04:00:00.000Z\n",
      "19950 XRP/USDT candles in total from 2019-05-05T21:00:00.000Z to 2021-08-16T04:00:00.000Z\n",
      "20950 XRP/USDT candles in total from 2019-03-25T05:00:00.000Z to 2021-08-16T04:00:00.000Z\n",
      "21944 XRP/USDT candles in total from 2019-02-11T13:00:00.000Z to 2021-08-16T04:00:00.000Z\n",
      "22944 XRP/USDT candles in total from 2018-12-31T21:00:00.000Z to 2021-08-16T04:00:00.000Z\n",
      "23944 XRP/USDT candles in total from 2018-11-20T05:00:00.000Z to 2021-08-16T04:00:00.000Z\n",
      "24934 XRP/USDT candles in total from 2018-10-09T13:00:00.000Z to 2021-08-16T04:00:00.000Z\n",
      "25934 XRP/USDT candles in total from 2018-08-28T21:00:00.000Z to 2021-08-16T04:00:00.000Z\n",
      "26934 XRP/USDT candles in total from 2018-07-18T05:00:00.000Z to 2021-08-16T04:00:00.000Z\n",
      "27916 XRP/USDT candles in total from 2018-06-06T13:00:00.000Z to 2021-08-16T04:00:00.000Z\n",
      "28713 XRP/USDT candles in total from 2018-05-04T08:00:00.000Z to 2021-08-16T04:00:00.000Z\n",
      "Saved 28713 candles from 2018-05-04T08:00:00.000Z to 2021-08-16T04:00:00.000Z to ./xrp_usdt_1h.csv\n"
     ]
    }
   ],
   "source": [
    "scrape_candles_to_csv('./xrp_usdt_1h.csv', 'binance', 3, 'XRP/USDT', '1h', '2017-01-0100:00:00Z', 1000)"
   ]
  },
  {
   "cell_type": "code",
   "execution_count": 9,
   "metadata": {},
   "outputs": [
    {
     "name": "stdout",
     "output_type": "stream",
     "text": [
      "996 DOGE/USDT candles in total from 2021-07-05T13:00:00.000Z to 2021-08-16T04:00:00.000Z\n",
      "1996 DOGE/USDT candles in total from 2021-05-24T21:00:00.000Z to 2021-08-16T04:00:00.000Z\n",
      "2991 DOGE/USDT candles in total from 2021-04-13T05:00:00.000Z to 2021-08-16T04:00:00.000Z\n",
      "3990 DOGE/USDT candles in total from 2021-03-02T13:00:00.000Z to 2021-08-16T04:00:00.000Z\n",
      "4989 DOGE/USDT candles in total from 2021-01-19T21:00:00.000Z to 2021-08-16T04:00:00.000Z\n",
      "5985 DOGE/USDT candles in total from 2020-12-09T05:00:00.000Z to 2021-08-16T04:00:00.000Z\n",
      "6984 DOGE/USDT candles in total from 2020-10-28T13:00:00.000Z to 2021-08-16T04:00:00.000Z\n",
      "7984 DOGE/USDT candles in total from 2020-09-16T21:00:00.000Z to 2021-08-16T04:00:00.000Z\n",
      "8984 DOGE/USDT candles in total from 2020-08-06T05:00:00.000Z to 2021-08-16T04:00:00.000Z\n",
      "9981 DOGE/USDT candles in total from 2020-06-25T13:00:00.000Z to 2021-08-16T04:00:00.000Z\n",
      "10981 DOGE/USDT candles in total from 2020-05-14T21:00:00.000Z to 2021-08-16T04:00:00.000Z\n",
      "11979 DOGE/USDT candles in total from 2020-04-03T05:00:00.000Z to 2021-08-16T04:00:00.000Z\n",
      "12978 DOGE/USDT candles in total from 2020-02-21T13:00:00.000Z to 2021-08-16T04:00:00.000Z\n",
      "13972 DOGE/USDT candles in total from 2020-01-10T21:00:00.000Z to 2021-08-16T04:00:00.000Z\n",
      "14972 DOGE/USDT candles in total from 2019-11-30T05:00:00.000Z to 2021-08-16T04:00:00.000Z\n",
      "15968 DOGE/USDT candles in total from 2019-10-19T13:00:00.000Z to 2021-08-16T04:00:00.000Z\n",
      "16968 DOGE/USDT candles in total from 2019-09-07T21:00:00.000Z to 2021-08-16T04:00:00.000Z\n",
      "17960 DOGE/USDT candles in total from 2019-07-28T05:00:00.000Z to 2021-08-16T04:00:00.000Z\n",
      "18505 DOGE/USDT candles in total from 2019-07-05T12:00:00.000Z to 2021-08-16T04:00:00.000Z\n",
      "Saved 18505 candles from 2019-07-05T12:00:00.000Z to 2021-08-16T04:00:00.000Z to ./doge_usdt_1h.csv\n"
     ]
    }
   ],
   "source": [
    "scrape_candles_to_csv('./doge_usdt_1h.csv', 'binance', 3, 'DOGE/USDT', '1h', '2017-01-0100:00:00Z', 1000)"
   ]
  },
  {
   "cell_type": "code",
   "execution_count": 10,
   "metadata": {},
   "outputs": [
    {
     "name": "stdout",
     "output_type": "stream",
     "text": [
      "996 DOT/USDT candles in total from 2021-07-05T13:00:00.000Z to 2021-08-16T04:00:00.000Z\n",
      "1996 DOT/USDT candles in total from 2021-05-24T21:00:00.000Z to 2021-08-16T04:00:00.000Z\n",
      "2991 DOT/USDT candles in total from 2021-04-13T05:00:00.000Z to 2021-08-16T04:00:00.000Z\n",
      "3990 DOT/USDT candles in total from 2021-03-02T13:00:00.000Z to 2021-08-16T04:00:00.000Z\n",
      "4989 DOT/USDT candles in total from 2021-01-19T21:00:00.000Z to 2021-08-16T04:00:00.000Z\n",
      "5985 DOT/USDT candles in total from 2020-12-09T05:00:00.000Z to 2021-08-16T04:00:00.000Z\n",
      "6984 DOT/USDT candles in total from 2020-10-28T13:00:00.000Z to 2021-08-16T04:00:00.000Z\n",
      "7984 DOT/USDT candles in total from 2020-09-16T21:00:00.000Z to 2021-08-16T04:00:00.000Z\n",
      "8678 DOT/USDT candles in total from 2020-08-18T23:00:00.000Z to 2021-08-16T04:00:00.000Z\n",
      "Saved 8678 candles from 2020-08-18T23:00:00.000Z to 2021-08-16T04:00:00.000Z to ./dot_usdt_1h.csv\n"
     ]
    }
   ],
   "source": [
    "scrape_candles_to_csv('./dot_usdt_1h.csv', 'binance', 3, 'DOT/USDT', '1h', '2017-01-0100:00:00Z', 1000) \n",
    "#bu azmış çıkarabiliriz"
   ]
  },
  {
   "cell_type": "code",
   "execution_count": 12,
   "metadata": {},
   "outputs": [],
   "source": [
    "for filename in ['./ada_usdt_1h.csv', './xrp_usdt_1h.csv', './dot_usdt_1h.csv']:\n",
    "    df = pd.read_csv('../data/0_raw/Binance/' + filename, header=None)\n",
    "    df.columns = ['Timestamp', 'Open', 'High', 'Low', 'Close', 'Volume']\n",
    "    df.set_index('Timestamp', inplace=True)\n",
    "    df.index = df.index /1000\n",
    "    df[\"Date\"] = pd.to_datetime(df.index, unit='s')\n",
    "    df.to_csv(\"../data/0_raw/\" + filename)"
   ]
  },
  {
   "cell_type": "code",
   "execution_count": null,
   "metadata": {},
   "outputs": [],
   "source": []
  }
 ],
 "metadata": {
  "colab": {
   "name": "01_ak_data_collecting.ipynb",
   "provenance": []
  },
  "kernelspec": {
   "display_name": "Python 3",
   "language": "python",
   "name": "python3"
  },
  "language_info": {
   "codemirror_mode": {
    "name": "ipython",
    "version": 3
   },
   "file_extension": ".py",
   "mimetype": "text/x-python",
   "name": "python",
   "nbconvert_exporter": "python",
   "pygments_lexer": "ipython3",
   "version": "3.8.3"
  }
 },
 "nbformat": 4,
 "nbformat_minor": 4
}
