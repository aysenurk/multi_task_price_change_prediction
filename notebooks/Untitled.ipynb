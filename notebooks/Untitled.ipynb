{
 "cells": [
  {
   "cell_type": "code",
   "execution_count": 36,
   "metadata": {},
   "outputs": [],
   "source": [
    "import pandas as pd\n",
    "import numpy as np\n",
    "\n",
    "import torch\n",
    "from torch import nn\n",
    "from torch.nn import functional as F\n",
    "from torch.utils.data import DataLoader, Dataset\n",
    "\n",
    "import pytorch_lightning as pl\n",
    "\n",
    "from pytorch_lightning.callbacks.early_stopping import EarlyStopping\n",
    "\n",
    "from pytorch_lightning.loggers import WandbLogger\n",
    "from pytorch_lightning.loggers import TensorBoardLogger\n",
    "import wandb\n",
    "\n",
    "from DataPreparation import get_data"
   ]
  },
  {
   "cell_type": "code",
   "execution_count": 37,
   "metadata": {},
   "outputs": [],
   "source": [
    "class TimeSeriesDataset(Dataset):\n",
    "    def __init__(self, \n",
    "                 currency_list,\n",
    "                 x: np.ndarray, \n",
    "                 y: np.ndarray,\n",
    "                 data_use_type,\n",
    "                 train_percentage,\n",
    "                 val_percentage,\n",
    "                 test_percentage,\n",
    "                 seq_len, \n",
    "                 ):\n",
    "        self.currencies = currency_list\n",
    "        self.n_currencies = len(self.currencies)\n",
    "        self.x = torch.tensor(x[:self.n_currencies]).float()\n",
    "        self.y = torch.tensor(y[:self.n_currencies]).long()\n",
    "        self.seq_len = seq_len\n",
    "        self.data_use_type = data_use_type\n",
    "        \n",
    "        \n",
    "        #self.train_size = int(len(self.x[0]) * train_percentage)\n",
    "        self.val_size = int(len(self.x[0]) * val_percentage)\n",
    "        self.test_size = int(len(self.x[0]) * test_percentage)\n",
    "        self.train_size = len(self.x[0]) - self.val_size - self.test_size \n",
    "        print(self.test_size, self.val_size, self.train_size) \n",
    "        \n",
    "        self.train_mean = [self.x[i][:self.train_size].mean(axis=0) for i in range(self.n_currencies)]\n",
    "        print(self.train_mean)\n",
    "        self.train_std = [self.x[i][:self.train_size].std(axis=0) for i in range(self.n_currencies)]\n",
    "        \n",
    "#         self.train_min = [self.x[i][:self.train_size].min() for i in range(n_currencies)]\n",
    "#         self.train_max = [self.x[i][:self.train_size].max() for i in range(n_currencies)]\n",
    "        \n",
    "    def __len__(self):\n",
    "        \n",
    "        if self.data_use_type == \"train\":\n",
    "            return self.train_size - ( self.seq_len)\n",
    "\n",
    "        elif self.data_use_type == \"val\":\n",
    "            return self.val_size\n",
    "  \n",
    "        else:\n",
    "            return self.test_size\n",
    "        \n",
    "    \n",
    "    def __getitem__(self, index):\n",
    "        \n",
    "        item = dict()\n",
    "        \n",
    "        if self.data_use_type ==\"val\":\n",
    "            index = self.train_size + index - self.seq_len\n",
    "            \n",
    "        elif self.data_use_type ==\"test\":\n",
    "            index = self.train_size + self.val_size + index - self.seq_len\n",
    "        \n",
    "        for i in range(self.n_currencies):\n",
    "            window = self.x[i][index:index+self.seq_len]\n",
    "            window = (window -self.train_mean[i]) / self.train_std[i]\n",
    "            \n",
    "            item[self.currencies[i] + \"_window\"] = window\n",
    "            item[self.currencies[i] + \"_label\"]  = self.y[i][index+self.seq_len]\n",
    "\n",
    "        return item"
   ]
  },
  {
   "cell_type": "code",
   "execution_count": 38,
   "metadata": {},
   "outputs": [],
   "source": [
    "def name_model(config):\n",
    "    task = \"multi_task_\" + \"_\".join(config[\"currency_list\"]) if len(config[\"currency_list\"]) > 1 else \"single_task_\" + config[\"currency_list\"][0]\n",
    "    classification = \"multi_classification\" if config[\"n_classes\"] > 2 else \"binary_classification\"\n",
    "    lstm = \"stack_lstm\" if len(config[\"lstm_hidden_sizes\"]) > 1 else \"single_lstm\"\n",
    "    trend_removed = \"trend_removed\" if config[\"remove_trend\"] else \"\"\n",
    "    loss_weighted = \"loss_weighted\" if config[\"loss_weight_calculate\"] else \"\"\n",
    "    indicators  = \"indicators\" if config[\"indicators\"] else \"\"\n",
    "    imfs = \"imfs\" if config[\"imfs\"] else \"\"\n",
    "    return \"_\".join([task, lstm, loss_weighted, classification, trend_removed])\n",
    "\n",
    "CONFIG = {#fix for this project\n",
    "          \"window_size\": 50, \n",
    "          \"dataset_percentages\": [0.97, 0.007, 0.023],\n",
    "          \"frenquency\": \"D\", \n",
    "          \"neutral_quantile\": 0.33,\n",
    "          \"batch_size\": 16,\n",
    "          \"bidirectional\": False}\n",
    "config = CONFIG.copy()\n",
    "config.update({\"n_classes\": 2,\n",
    "          \"currency_list\": ['BTC'],#['BTC', 'ETH', 'LTC'],\n",
    "          \"remove_trend\": True,\n",
    "          \"lstm_hidden_sizes\": [128, 128, 128],\n",
    "          \"loss_weight_calculate\": False, \n",
    "          \"indicators\": True, \n",
    "          \"imfs\": False,\n",
    "               \"ohlv\": True})"
   ]
  },
  {
   "cell_type": "code",
   "execution_count": 39,
   "metadata": {},
   "outputs": [
    {
     "ename": "ModuleNotFoundError",
     "evalue": "No module named 'PyEMD'",
     "output_type": "error",
     "traceback": [
      "\u001b[0;31m---------------------------------------------------------------------------\u001b[0m",
      "\u001b[0;31mModuleNotFoundError\u001b[0m                       Traceback (most recent call last)",
      "\u001b[0;32m<ipython-input-39-acc2eb5613fc>\u001b[0m in \u001b[0;36m<module>\u001b[0;34m\u001b[0m\n\u001b[1;32m     17\u001b[0m \u001b[0mOHLV\u001b[0m \u001b[0;34m=\u001b[0m \u001b[0mconfig\u001b[0m\u001b[0;34m[\u001b[0m\u001b[0;34m\"ohlv\"\u001b[0m\u001b[0;34m]\u001b[0m\u001b[0;34m\u001b[0m\u001b[0;34m\u001b[0m\u001b[0m\n\u001b[1;32m     18\u001b[0m \u001b[0;31m#####\u001b[0m\u001b[0;34m\u001b[0m\u001b[0;34m\u001b[0m\u001b[0;34m\u001b[0m\u001b[0m\n\u001b[0;32m---> 19\u001b[0;31m X, y, features, dfs = get_data(CURRENCY_LST,\n\u001b[0m\u001b[1;32m     20\u001b[0m                             \u001b[0mN_CLASSES\u001b[0m\u001b[0;34m,\u001b[0m\u001b[0;34m\u001b[0m\u001b[0;34m\u001b[0m\u001b[0m\n\u001b[1;32m     21\u001b[0m                              \u001b[0mFREQUENCY\u001b[0m\u001b[0;34m,\u001b[0m\u001b[0;34m\u001b[0m\u001b[0;34m\u001b[0m\u001b[0m\n",
      "\u001b[0;32m~/Projects/OzU/multi_task_price_change_prediction/notebooks/DataPreparation.py\u001b[0m in \u001b[0;36mget_data\u001b[0;34m(currency_lst, n_classes, frequency, window_size, neutral_quantile, beg_date, end_date, log_price, remove_trend, include_indicators, include_imfs, open_high_low_volume)\u001b[0m\n\u001b[1;32m     59\u001b[0m \u001b[0;34m\u001b[0m\u001b[0m\n\u001b[1;32m     60\u001b[0m             \u001b[0;32mif\u001b[0m \u001b[0minclude_imfs\u001b[0m\u001b[0;34m:\u001b[0m\u001b[0;34m\u001b[0m\u001b[0;34m\u001b[0m\u001b[0m\n\u001b[0;32m---> 61\u001b[0;31m                 \u001b[0;32mfrom\u001b[0m \u001b[0mPyEMD\u001b[0m \u001b[0;32mimport\u001b[0m \u001b[0mEEMD\u001b[0m\u001b[0;34m\u001b[0m\u001b[0;34m\u001b[0m\u001b[0m\n\u001b[0m\u001b[1;32m     62\u001b[0m                 \u001b[0meemd\u001b[0m \u001b[0;34m=\u001b[0m \u001b[0mEEMD\u001b[0m\u001b[0;34m(\u001b[0m\u001b[0;34m)\u001b[0m\u001b[0;34m\u001b[0m\u001b[0;34m\u001b[0m\u001b[0m\n\u001b[1;32m     63\u001b[0m                 \u001b[0mimfs\u001b[0m \u001b[0;34m=\u001b[0m \u001b[0meemd\u001b[0m\u001b[0;34m(\u001b[0m\u001b[0mdf\u001b[0m\u001b[0;34m[\u001b[0m\u001b[0;34m\"close\"\u001b[0m\u001b[0;34m]\u001b[0m\u001b[0;34m.\u001b[0m\u001b[0mvalues\u001b[0m\u001b[0;34m)\u001b[0m\u001b[0;34m\u001b[0m\u001b[0;34m\u001b[0m\u001b[0m\n",
      "\u001b[0;31mModuleNotFoundError\u001b[0m: No module named 'PyEMD'"
     ]
    }
   ],
   "source": [
    "MODEL_NAME = name_model(config)\n",
    "\n",
    "CURRENCY_LST = config[\"currency_list\"]\n",
    "N_CLASSES = config[\"n_classes\"]\n",
    "LSTM_HIDDEN_SIZES = config[\"lstm_hidden_sizes\"]\n",
    "BIDIRECTIONAL = config[\"bidirectional\"]\n",
    "REMOVE_TREND =config[\"remove_trend\"]\n",
    "LOSS_WEIGHT_CALCULATE = config[\"loss_weight_calculate\"]\n",
    "\n",
    "TRAIN_PERCENTAGE, VAL_PERCENTAGE, TEST_PERCENTAGE = config[\"dataset_percentages\"] \n",
    "WINDOW_SIZE = config[\"window_size\"]\n",
    "FREQUENCY = config[\"frenquency\"]\n",
    "NEUTRAL_QUANTILE = config[\"neutral_quantile\"] if N_CLASSES > 2 else 0 \n",
    "BATCH_SIZE= config[\"batch_size\"]\n",
    "INDICATORS = config[\"indicators\"]\n",
    "IMFS = config[\"imfs\"]\n",
    "OHLV = config[\"ohlv\"]\n",
    "#####\n",
    "X, y, features, dfs = get_data(CURRENCY_LST,\n",
    "                            N_CLASSES,\n",
    "                             FREQUENCY, \n",
    "                             WINDOW_SIZE,\n",
    "                             neutral_quantile = NEUTRAL_QUANTILE,\n",
    "                             log_price=True,\n",
    "                             remove_trend=REMOVE_TREND,\n",
    "                             include_indicators = INDICATORS,\n",
    "                             include_imfs = True\n",
    "                            )\n",
    "INPUT_FEATURE_SIZE = X.shape[-1]"
   ]
  },
  {
   "cell_type": "code",
   "execution_count": 40,
   "metadata": {},
   "outputs": [
    {
     "name": "stdout",
     "output_type": "stream",
     "text": [
      "Collecting PyEMD\n",
      "  Downloading pyemd-0.5.1.tar.gz (91 kB)\n",
      "\u001b[K     |████████████████████████████████| 91 kB 228 kB/s eta 0:00:01\n",
      "\u001b[?25hRequirement already satisfied: numpy<2.0.0,>=1.9.0 in /home/aysenurk/anaconda3/lib/python3.8/site-packages (from PyEMD) (1.18.5)\n",
      "Building wheels for collected packages: PyEMD\n",
      "  Building wheel for PyEMD (setup.py) ... \u001b[?25ldone\n",
      "\u001b[?25h  Created wheel for PyEMD: filename=pyemd-0.5.1-cp38-cp38-linux_x86_64.whl size=582739 sha256=3417626fd554f5ec8ea6e6d57cdcca719ab41724fd6342da2baceae2751f2975\n",
      "  Stored in directory: /home/aysenurk/.cache/pip/wheels/a2/a5/34/f960a47ca5c06b0e91b6f48117a79a66f53a879f8fac9529bf\n",
      "Successfully built PyEMD\n",
      "Installing collected packages: PyEMD\n",
      "Successfully installed PyEMD-0.5.1\n"
     ]
    }
   ],
   "source": [
    "!pip install PyEMD"
   ]
  },
  {
   "cell_type": "code",
   "execution_count": 34,
   "metadata": {},
   "outputs": [
    {
     "data": {
      "text/plain": [
       "(84,)"
      ]
     },
     "execution_count": 34,
     "metadata": {},
     "output_type": "execute_result"
    }
   ],
   "source": [
    "X[0][0].shape"
   ]
  },
  {
   "cell_type": "code",
   "execution_count": 35,
   "metadata": {},
   "outputs": [
    {
     "name": "stdout",
     "output_type": "stream",
     "text": [
      "31 9 1313\n",
      "[tensor([-5.0744e-05,  1.8045e+06,  7.9578e+05,  1.0896e-01,  2.3417e+06,\n",
      "         5.2833e+01,  2.6741e+08,  2.6392e+08,  3.1912e+02,  6.3611e+03,\n",
      "         1.0571e+04,  7.1437e+02,  1.0489e+04,  1.2099e+04,  8.8788e+03,\n",
      "         2.7589e+01,  5.6297e-01,  8.3778e-02,  4.4935e-02,  1.0654e+04,\n",
      "         1.1382e+04,  9.9257e+03,  1.2225e+01,  6.1807e-01,  2.5590e-01,\n",
      "         1.3481e-01,  8.7893e+03,  1.2222e+04,  1.0505e+04,  2.9928e+01,\n",
      "         5.5979e-01,  8.3091e+00,  2.5967e+02,  2.5326e+02,  6.4109e+00,\n",
      "         1.0650e+04,  1.0375e+04,  1.0651e+04,  1.0391e+04,  2.9581e+01,\n",
      "         2.1951e+01,  1.9870e+01,  1.0315e+00,  9.5711e-01,  7.4427e-02,\n",
      "         1.9354e-01,  2.4941e+01,  2.0288e+01, -1.5619e+01,  5.6813e+01,\n",
      "         5.4309e+01,  2.5041e+00,  1.0660e+04,  1.0433e+04,  1.0547e+04,\n",
      "         1.0156e+04,  9.7321e+03,  9.4731e+03,  5.4148e+01,  4.2142e+01,\n",
      "         1.2006e+01,  1.0105e+04,  1.0918e+04,  3.7319e-02,  3.7319e-02,\n",
      "         5.5104e+01,  5.3583e+01,  5.0895e-01,  5.0834e-01,  5.0766e-01,\n",
      "         5.6638e+00,  5.5452e+01,  5.5940e+01,  5.5965e+01, -4.4060e+01,\n",
      "         5.5693e+02,  1.0827e+04,  3.6293e+00,  1.1036e+00,  1.1240e+00,\n",
      "        -2.0422e-02,  2.8634e-01,  1.9268e-01,  1.5351e+02])]\n",
      "31 9 1313\n",
      "[tensor([-5.0744e-05,  1.8045e+06,  7.9578e+05,  1.0896e-01,  2.3417e+06,\n",
      "         5.2833e+01,  2.6741e+08,  2.6392e+08,  3.1912e+02,  6.3611e+03,\n",
      "         1.0571e+04,  7.1437e+02,  1.0489e+04,  1.2099e+04,  8.8788e+03,\n",
      "         2.7589e+01,  5.6297e-01,  8.3778e-02,  4.4935e-02,  1.0654e+04,\n",
      "         1.1382e+04,  9.9257e+03,  1.2225e+01,  6.1807e-01,  2.5590e-01,\n",
      "         1.3481e-01,  8.7893e+03,  1.2222e+04,  1.0505e+04,  2.9928e+01,\n",
      "         5.5979e-01,  8.3091e+00,  2.5967e+02,  2.5326e+02,  6.4109e+00,\n",
      "         1.0650e+04,  1.0375e+04,  1.0651e+04,  1.0391e+04,  2.9581e+01,\n",
      "         2.1951e+01,  1.9870e+01,  1.0315e+00,  9.5711e-01,  7.4427e-02,\n",
      "         1.9354e-01,  2.4941e+01,  2.0288e+01, -1.5619e+01,  5.6813e+01,\n",
      "         5.4309e+01,  2.5041e+00,  1.0660e+04,  1.0433e+04,  1.0547e+04,\n",
      "         1.0156e+04,  9.7321e+03,  9.4731e+03,  5.4148e+01,  4.2142e+01,\n",
      "         1.2006e+01,  1.0105e+04,  1.0918e+04,  3.7319e-02,  3.7319e-02,\n",
      "         5.5104e+01,  5.3583e+01,  5.0895e-01,  5.0834e-01,  5.0766e-01,\n",
      "         5.6638e+00,  5.5452e+01,  5.5940e+01,  5.5965e+01, -4.4060e+01,\n",
      "         5.5693e+02,  1.0827e+04,  3.6293e+00,  1.1036e+00,  1.1240e+00,\n",
      "        -2.0422e-02,  2.8634e-01,  1.9268e-01,  1.5351e+02])]\n",
      "31 9 1313\n",
      "[tensor([-5.0744e-05,  1.8045e+06,  7.9578e+05,  1.0896e-01,  2.3417e+06,\n",
      "         5.2833e+01,  2.6741e+08,  2.6392e+08,  3.1912e+02,  6.3611e+03,\n",
      "         1.0571e+04,  7.1437e+02,  1.0489e+04,  1.2099e+04,  8.8788e+03,\n",
      "         2.7589e+01,  5.6297e-01,  8.3778e-02,  4.4935e-02,  1.0654e+04,\n",
      "         1.1382e+04,  9.9257e+03,  1.2225e+01,  6.1807e-01,  2.5590e-01,\n",
      "         1.3481e-01,  8.7893e+03,  1.2222e+04,  1.0505e+04,  2.9928e+01,\n",
      "         5.5979e-01,  8.3091e+00,  2.5967e+02,  2.5326e+02,  6.4109e+00,\n",
      "         1.0650e+04,  1.0375e+04,  1.0651e+04,  1.0391e+04,  2.9581e+01,\n",
      "         2.1951e+01,  1.9870e+01,  1.0315e+00,  9.5711e-01,  7.4427e-02,\n",
      "         1.9354e-01,  2.4941e+01,  2.0288e+01, -1.5619e+01,  5.6813e+01,\n",
      "         5.4309e+01,  2.5041e+00,  1.0660e+04,  1.0433e+04,  1.0547e+04,\n",
      "         1.0156e+04,  9.7321e+03,  9.4731e+03,  5.4148e+01,  4.2142e+01,\n",
      "         1.2006e+01,  1.0105e+04,  1.0918e+04,  3.7319e-02,  3.7319e-02,\n",
      "         5.5104e+01,  5.3583e+01,  5.0895e-01,  5.0834e-01,  5.0766e-01,\n",
      "         5.6638e+00,  5.5452e+01,  5.5940e+01,  5.5965e+01, -4.4060e+01,\n",
      "         5.5693e+02,  1.0827e+04,  3.6293e+00,  1.1036e+00,  1.1240e+00,\n",
      "        -2.0422e-02,  2.8634e-01,  1.9268e-01,  1.5351e+02])]\n"
     ]
    }
   ],
   "source": [
    "train_dataset, val_dataset, test_dataset = [TimeSeriesDataset(CURRENCY_LST, \n",
    "                                                          X, \n",
    "                                                          y, \n",
    "                                                          dtype, \n",
    "                                                          TRAIN_PERCENTAGE, \n",
    "                                                          VAL_PERCENTAGE, \n",
    "                                                          TEST_PERCENTAGE, \n",
    "                                                          WINDOW_SIZE) for dtype in ['train', 'val', 'test']]"
   ]
  },
  {
   "cell_type": "code",
   "execution_count": 18,
   "metadata": {},
   "outputs": [
    {
     "data": {
      "text/plain": [
       "tensor([[-0.0102, -0.0102, -0.0102,  ..., -0.0102, -0.0102, -0.0102],\n",
       "        [-0.0102, -0.0102, -0.0102,  ..., -0.0102, -0.0102, -0.0102],\n",
       "        [-0.0102, -0.0102, -0.0102,  ..., -0.0102, -0.0102, -0.0102],\n",
       "        ...,\n",
       "        [-0.0102, -0.0102, -0.0102,  ..., -0.0102, -0.0102, -0.0102],\n",
       "        [-0.0102, -0.0102, -0.0102,  ..., -0.0102, -0.0102, -0.0102],\n",
       "        [-0.0102, -0.0102, -0.0102,  ..., -0.0102, -0.0102, -0.0102]])"
      ]
     },
     "execution_count": 18,
     "metadata": {},
     "output_type": "execute_result"
    }
   ],
   "source": [
    "train_dataset[1][\"BTC_window\"]"
   ]
  },
  {
   "cell_type": "code",
   "execution_count": null,
   "metadata": {},
   "outputs": [],
   "source": []
  }
 ],
 "metadata": {
  "kernelspec": {
   "display_name": "Python 3",
   "language": "python",
   "name": "python3"
  },
  "language_info": {
   "codemirror_mode": {
    "name": "ipython",
    "version": 3
   },
   "file_extension": ".py",
   "mimetype": "text/x-python",
   "name": "python",
   "nbconvert_exporter": "python",
   "pygments_lexer": "ipython3",
   "version": "3.8.3"
  }
 },
 "nbformat": 4,
 "nbformat_minor": 4
}
