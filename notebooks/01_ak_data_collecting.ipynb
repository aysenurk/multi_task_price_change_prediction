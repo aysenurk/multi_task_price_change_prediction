{
 "cells": [
  {
   "cell_type": "code",
   "execution_count": 2,
   "metadata": {
    "id": "edbKx492v8CK"
   },
   "outputs": [],
   "source": [
    "import pandas as pd\n",
    "import ccxt"
   ]
  },
  {
   "cell_type": "code",
   "execution_count": null,
   "metadata": {
    "id": "QfAnLncCv8Co",
    "outputId": "2645a331-714a-4eb0-bab3-61443319256a"
   },
   "outputs": [
    {
     "name": "stdout",
     "output_type": "stream",
     "text": [
      "Hello world\n"
     ]
    }
   ],
   "source": [
    "print(\"Hello world\")"
   ]
  },
  {
   "cell_type": "code",
   "execution_count": 1,
   "metadata": {
    "colab": {
     "base_uri": "https://localhost:8080/"
    },
    "id": "KqGlq7aPv8Cp",
    "outputId": "6b91cf11-036e-4919-87a5-7d9e4e80784e"
   },
   "outputs": [
    {
     "name": "stdout",
     "output_type": "stream",
     "text": [
      "Hello from Colab!\n"
     ]
    }
   ],
   "source": [
    "print(\"Hello from Colab!\")"
   ]
  },
  {
   "cell_type": "markdown",
   "metadata": {},
   "source": [
    "## Data obtained from CoinDesk \n",
    "------------------------------\n",
    "### freq: daily \n",
    "### informations: Closing Price(USD), 24h Open(USD), 24h High(USD), 24h Low(USD)"
   ]
  },
  {
   "cell_type": "code",
   "execution_count": 20,
   "metadata": {
    "id": "AfxXfCluwAA2"
   },
   "outputs": [],
   "source": [
    "btc = pd.read_csv(\"../data/0_raw/BTC_USD_2013-10-01_2021-04-21-CoinDesk.csv\")"
   ]
  },
  {
   "cell_type": "code",
   "execution_count": 21,
   "metadata": {},
   "outputs": [
    {
     "data": {
      "text/html": [
       "<div>\n",
       "<style scoped>\n",
       "    .dataframe tbody tr th:only-of-type {\n",
       "        vertical-align: middle;\n",
       "    }\n",
       "\n",
       "    .dataframe tbody tr th {\n",
       "        vertical-align: top;\n",
       "    }\n",
       "\n",
       "    .dataframe thead th {\n",
       "        text-align: right;\n",
       "    }\n",
       "</style>\n",
       "<table border=\"1\" class=\"dataframe\">\n",
       "  <thead>\n",
       "    <tr style=\"text-align: right;\">\n",
       "      <th></th>\n",
       "      <th>Currency</th>\n",
       "      <th>Date</th>\n",
       "      <th>Closing Price (USD)</th>\n",
       "      <th>24h Open (USD)</th>\n",
       "      <th>24h High (USD)</th>\n",
       "      <th>24h Low (USD)</th>\n",
       "    </tr>\n",
       "  </thead>\n",
       "  <tbody>\n",
       "    <tr>\n",
       "      <th>0</th>\n",
       "      <td>BTC</td>\n",
       "      <td>2013-10-01</td>\n",
       "      <td>123.654990</td>\n",
       "      <td>124.304660</td>\n",
       "      <td>124.751660</td>\n",
       "      <td>122.563490</td>\n",
       "    </tr>\n",
       "    <tr>\n",
       "      <th>1</th>\n",
       "      <td>BTC</td>\n",
       "      <td>2013-10-02</td>\n",
       "      <td>125.455000</td>\n",
       "      <td>123.654990</td>\n",
       "      <td>125.758500</td>\n",
       "      <td>123.633830</td>\n",
       "    </tr>\n",
       "    <tr>\n",
       "      <th>2</th>\n",
       "      <td>BTC</td>\n",
       "      <td>2013-10-03</td>\n",
       "      <td>108.584830</td>\n",
       "      <td>125.455000</td>\n",
       "      <td>125.665660</td>\n",
       "      <td>83.328330</td>\n",
       "    </tr>\n",
       "    <tr>\n",
       "      <th>3</th>\n",
       "      <td>BTC</td>\n",
       "      <td>2013-10-04</td>\n",
       "      <td>118.674660</td>\n",
       "      <td>108.584830</td>\n",
       "      <td>118.675000</td>\n",
       "      <td>107.058160</td>\n",
       "    </tr>\n",
       "    <tr>\n",
       "      <th>4</th>\n",
       "      <td>BTC</td>\n",
       "      <td>2013-10-05</td>\n",
       "      <td>121.338660</td>\n",
       "      <td>118.674660</td>\n",
       "      <td>121.936330</td>\n",
       "      <td>118.005660</td>\n",
       "    </tr>\n",
       "    <tr>\n",
       "      <th>...</th>\n",
       "      <td>...</td>\n",
       "      <td>...</td>\n",
       "      <td>...</td>\n",
       "      <td>...</td>\n",
       "      <td>...</td>\n",
       "      <td>...</td>\n",
       "    </tr>\n",
       "    <tr>\n",
       "      <th>2754</th>\n",
       "      <td>BTC</td>\n",
       "      <td>2021-04-17</td>\n",
       "      <td>61965.782598</td>\n",
       "      <td>63225.093917</td>\n",
       "      <td>63520.325374</td>\n",
       "      <td>60033.534667</td>\n",
       "    </tr>\n",
       "    <tr>\n",
       "      <th>2755</th>\n",
       "      <td>BTC</td>\n",
       "      <td>2021-04-18</td>\n",
       "      <td>60574.444728</td>\n",
       "      <td>61444.232503</td>\n",
       "      <td>62534.028498</td>\n",
       "      <td>59802.889267</td>\n",
       "    </tr>\n",
       "    <tr>\n",
       "      <th>2756</th>\n",
       "      <td>BTC</td>\n",
       "      <td>2021-04-19</td>\n",
       "      <td>56850.830166</td>\n",
       "      <td>60191.525406</td>\n",
       "      <td>60531.988848</td>\n",
       "      <td>52148.983544</td>\n",
       "    </tr>\n",
       "    <tr>\n",
       "      <th>2757</th>\n",
       "      <td>BTC</td>\n",
       "      <td>2021-04-20</td>\n",
       "      <td>56224.101588</td>\n",
       "      <td>56335.389141</td>\n",
       "      <td>57609.368118</td>\n",
       "      <td>54449.245330</td>\n",
       "    </tr>\n",
       "    <tr>\n",
       "      <th>2758</th>\n",
       "      <td>BTC</td>\n",
       "      <td>2021-04-21</td>\n",
       "      <td>56608.769748</td>\n",
       "      <td>55723.227263</td>\n",
       "      <td>57121.943902</td>\n",
       "      <td>53442.851660</td>\n",
       "    </tr>\n",
       "  </tbody>\n",
       "</table>\n",
       "<p>2759 rows × 6 columns</p>\n",
       "</div>"
      ],
      "text/plain": [
       "     Currency        Date  Closing Price (USD)  24h Open (USD)  \\\n",
       "0         BTC  2013-10-01           123.654990      124.304660   \n",
       "1         BTC  2013-10-02           125.455000      123.654990   \n",
       "2         BTC  2013-10-03           108.584830      125.455000   \n",
       "3         BTC  2013-10-04           118.674660      108.584830   \n",
       "4         BTC  2013-10-05           121.338660      118.674660   \n",
       "...       ...         ...                  ...             ...   \n",
       "2754      BTC  2021-04-17         61965.782598    63225.093917   \n",
       "2755      BTC  2021-04-18         60574.444728    61444.232503   \n",
       "2756      BTC  2021-04-19         56850.830166    60191.525406   \n",
       "2757      BTC  2021-04-20         56224.101588    56335.389141   \n",
       "2758      BTC  2021-04-21         56608.769748    55723.227263   \n",
       "\n",
       "      24h High (USD)  24h Low (USD)  \n",
       "0         124.751660     122.563490  \n",
       "1         125.758500     123.633830  \n",
       "2         125.665660      83.328330  \n",
       "3         118.675000     107.058160  \n",
       "4         121.936330     118.005660  \n",
       "...              ...            ...  \n",
       "2754    63520.325374   60033.534667  \n",
       "2755    62534.028498   59802.889267  \n",
       "2756    60531.988848   52148.983544  \n",
       "2757    57609.368118   54449.245330  \n",
       "2758    57121.943902   53442.851660  \n",
       "\n",
       "[2759 rows x 6 columns]"
      ]
     },
     "execution_count": 21,
     "metadata": {},
     "output_type": "execute_result"
    }
   ],
   "source": [
    "btc"
   ]
  },
  {
   "cell_type": "code",
   "execution_count": 33,
   "metadata": {},
   "outputs": [],
   "source": [
    "eth = pd.read_csv(\"../data/0_raw/ETH_USD_2015-08-09_2021-04-21-CoinDesk.csv\")"
   ]
  },
  {
   "cell_type": "code",
   "execution_count": 34,
   "metadata": {},
   "outputs": [
    {
     "data": {
      "text/html": [
       "<div>\n",
       "<style scoped>\n",
       "    .dataframe tbody tr th:only-of-type {\n",
       "        vertical-align: middle;\n",
       "    }\n",
       "\n",
       "    .dataframe tbody tr th {\n",
       "        vertical-align: top;\n",
       "    }\n",
       "\n",
       "    .dataframe thead th {\n",
       "        text-align: right;\n",
       "    }\n",
       "</style>\n",
       "<table border=\"1\" class=\"dataframe\">\n",
       "  <thead>\n",
       "    <tr style=\"text-align: right;\">\n",
       "      <th></th>\n",
       "      <th>Currency</th>\n",
       "      <th>Date</th>\n",
       "      <th>Closing Price (USD)</th>\n",
       "      <th>24h Open (USD)</th>\n",
       "      <th>24h High (USD)</th>\n",
       "      <th>24h Low (USD)</th>\n",
       "    </tr>\n",
       "  </thead>\n",
       "  <tbody>\n",
       "    <tr>\n",
       "      <th>0</th>\n",
       "      <td>ETH</td>\n",
       "      <td>2015-08-09</td>\n",
       "      <td>0.909046</td>\n",
       "      <td>1.749289</td>\n",
       "      <td>1.916540</td>\n",
       "      <td>0.794497</td>\n",
       "    </tr>\n",
       "    <tr>\n",
       "      <th>1</th>\n",
       "      <td>ETH</td>\n",
       "      <td>2015-08-10</td>\n",
       "      <td>0.692321</td>\n",
       "      <td>0.909046</td>\n",
       "      <td>0.909046</td>\n",
       "      <td>0.692321</td>\n",
       "    </tr>\n",
       "    <tr>\n",
       "      <th>2</th>\n",
       "      <td>ETH</td>\n",
       "      <td>2015-08-11</td>\n",
       "      <td>0.668067</td>\n",
       "      <td>0.692321</td>\n",
       "      <td>0.692321</td>\n",
       "      <td>0.654331</td>\n",
       "    </tr>\n",
       "    <tr>\n",
       "      <th>3</th>\n",
       "      <td>ETH</td>\n",
       "      <td>2015-08-12</td>\n",
       "      <td>0.850151</td>\n",
       "      <td>0.668067</td>\n",
       "      <td>1.148621</td>\n",
       "      <td>0.668067</td>\n",
       "    </tr>\n",
       "    <tr>\n",
       "      <th>4</th>\n",
       "      <td>ETH</td>\n",
       "      <td>2015-08-13</td>\n",
       "      <td>1.266023</td>\n",
       "      <td>0.850151</td>\n",
       "      <td>1.266023</td>\n",
       "      <td>0.850151</td>\n",
       "    </tr>\n",
       "    <tr>\n",
       "      <th>...</th>\n",
       "      <td>...</td>\n",
       "      <td>...</td>\n",
       "      <td>...</td>\n",
       "      <td>...</td>\n",
       "      <td>...</td>\n",
       "      <td>...</td>\n",
       "    </tr>\n",
       "    <tr>\n",
       "      <th>2077</th>\n",
       "      <td>ETH</td>\n",
       "      <td>2021-04-17</td>\n",
       "      <td>2438.429594</td>\n",
       "      <td>2516.393168</td>\n",
       "      <td>2541.548966</td>\n",
       "      <td>2328.830718</td>\n",
       "    </tr>\n",
       "    <tr>\n",
       "      <th>2078</th>\n",
       "      <td>ETH</td>\n",
       "      <td>2021-04-18</td>\n",
       "      <td>2374.755810</td>\n",
       "      <td>2426.476182</td>\n",
       "      <td>2495.921609</td>\n",
       "      <td>2320.285017</td>\n",
       "    </tr>\n",
       "    <tr>\n",
       "      <th>2079</th>\n",
       "      <td>ETH</td>\n",
       "      <td>2021-04-19</td>\n",
       "      <td>2249.008696</td>\n",
       "      <td>2323.384415</td>\n",
       "      <td>2344.369598</td>\n",
       "      <td>1978.224247</td>\n",
       "    </tr>\n",
       "    <tr>\n",
       "      <th>2080</th>\n",
       "      <td>ETH</td>\n",
       "      <td>2021-04-20</td>\n",
       "      <td>2201.648351</td>\n",
       "      <td>2242.321493</td>\n",
       "      <td>2278.921376</td>\n",
       "      <td>2086.202945</td>\n",
       "    </tr>\n",
       "    <tr>\n",
       "      <th>2081</th>\n",
       "      <td>ETH</td>\n",
       "      <td>2021-04-21</td>\n",
       "      <td>2329.177332</td>\n",
       "      <td>2164.471961</td>\n",
       "      <td>2348.593614</td>\n",
       "      <td>2056.251140</td>\n",
       "    </tr>\n",
       "  </tbody>\n",
       "</table>\n",
       "<p>2082 rows × 6 columns</p>\n",
       "</div>"
      ],
      "text/plain": [
       "     Currency        Date  Closing Price (USD)  24h Open (USD)  \\\n",
       "0         ETH  2015-08-09             0.909046        1.749289   \n",
       "1         ETH  2015-08-10             0.692321        0.909046   \n",
       "2         ETH  2015-08-11             0.668067        0.692321   \n",
       "3         ETH  2015-08-12             0.850151        0.668067   \n",
       "4         ETH  2015-08-13             1.266023        0.850151   \n",
       "...       ...         ...                  ...             ...   \n",
       "2077      ETH  2021-04-17          2438.429594     2516.393168   \n",
       "2078      ETH  2021-04-18          2374.755810     2426.476182   \n",
       "2079      ETH  2021-04-19          2249.008696     2323.384415   \n",
       "2080      ETH  2021-04-20          2201.648351     2242.321493   \n",
       "2081      ETH  2021-04-21          2329.177332     2164.471961   \n",
       "\n",
       "      24h High (USD)  24h Low (USD)  \n",
       "0           1.916540       0.794497  \n",
       "1           0.909046       0.692321  \n",
       "2           0.692321       0.654331  \n",
       "3           1.148621       0.668067  \n",
       "4           1.266023       0.850151  \n",
       "...              ...            ...  \n",
       "2077     2541.548966    2328.830718  \n",
       "2078     2495.921609    2320.285017  \n",
       "2079     2344.369598    1978.224247  \n",
       "2080     2278.921376    2086.202945  \n",
       "2081     2348.593614    2056.251140  \n",
       "\n",
       "[2082 rows x 6 columns]"
      ]
     },
     "execution_count": 34,
     "metadata": {},
     "output_type": "execute_result"
    }
   ],
   "source": [
    "eth"
   ]
  },
  {
   "cell_type": "markdown",
   "metadata": {},
   "source": [
    "## Data obtaining from ccxt library \n",
    "--------------------------------------------\n",
    "motivation, get high frequency data from exchange\n",
    "exchange(s) should be decided \\\n",
    "Another thing is that cryptocurrency against which currency should be decided. \\\n",
    "anlamadığım bir durum var doları cryptocurrency -lere karşı bulamıyorum"
   ]
  },
  {
   "cell_type": "code",
   "execution_count": null,
   "metadata": {},
   "outputs": [],
   "source": []
  },
  {
   "cell_type": "code",
   "execution_count": 4,
   "metadata": {},
   "outputs": [],
   "source": [
    "exch = 'binance' # initial exchange\n",
    "t_frame = '4h' # 1-day timeframe, usually from 1-minute to 1-week depending on the exchange\n",
    "symbol = 'ETH/BTC' # initial symbol\n",
    "#exchange_list = ['binance','bitfinex','bytetrade','ftx','kraken','poloniex','upbit','acx','bequant','bigone','bitforex','bitkk','bitz','btcalpha','coinex','crex24','digifinex','gateio','hitbtc2','huobipro','huobiru','kucoin','lbank','okex','okex3','stex','upbit','whitebit','zb']\n",
    "exchange_list = ['binance']\n",
    "# Get our Exchange\n",
    "try:\n",
    "    exchange = getattr (ccxt, exch) ()\n",
    "except AttributeError:\n",
    "    print('-'*36,' ERROR ','-'*35)\n",
    "    print('Exchange \"{}\" not found. Please check the exchange is supported.'.format(exch))\n",
    "    print('-'*80)\n",
    "    quit()\n",
    " \n",
    "# Check if fetching of OHLC Data is supported\n",
    "if exchange.has[\"fetchOHLCV\"] != True:\n",
    "    print('-'*36,' ERROR ','-'*35)\n",
    "    print('{} does not support fetching OHLC data. Please use another  exchange'.format(exch))\n",
    "    print('-'*80)\n",
    "    quit()\n",
    " \n",
    "# Check requested timeframe is available. If not return a helpful error.\n",
    "if (not hasattr(exchange, 'timeframes')) or (t_frame not in exchange.timeframes):\n",
    "    print('-'*36,' ERROR ','-'*35)\n",
    "    print('The requested timeframe ({}) is not available from {}\\n'.format(t_frame,exch))\n",
    "    print('Available timeframes are:')\n",
    "    for key in exchange.timeframes.keys():\n",
    "        print('  - ' + key)\n",
    "    print('-'*80)\n",
    "    quit()\n",
    " \n",
    "# Check if the symbol is available on the Exchange\n",
    "exchange.load_markets()\n",
    "if symbol not in exchange.symbols:\n",
    "    print('-'*36,' ERROR ','-'*35)\n",
    "    print('The requested symbol ({}) is not available from {}\\n'.format(symbol,exch))\n",
    "    print('Available symbols are:')\n",
    "    for key in exchange.symbols:\n",
    "        print('  - ' + key)\n",
    "    print('-'*80)\n",
    "    quit()"
   ]
  },
  {
   "cell_type": "code",
   "execution_count": 5,
   "metadata": {},
   "outputs": [],
   "source": [
    "data = exchange.fetch_ohlcv(symbol, t_frame)\n",
    "header = ['Timestamp', 'Open', 'High', 'Low', 'Close', 'Volume']\n",
    "df = pd.DataFrame(data, columns=header).set_index('Timestamp')\n",
    "df['symbol'] = symbol\n",
    "syms = [symbol]\n",
    "filename = '{}.csv'.format(t_frame)\n",
    "\n",
    "for exch in exchange_list:\n",
    "    try:\n",
    "        exchange = getattr (ccxt, exch) ()\n",
    "    except AttributeError:\n",
    "        print('-'*36,' ERROR ','-'*35)\n",
    "        print('Exchange \"{}\" not found. Please check the exchange is supported.'.format(exch))\n",
    "        print('-'*80)\n",
    "        quit()\n",
    "    if exchange.has[\"fetchOHLCV\"] != True:\n",
    "        print('-'*36,' ERROR ','-'*35)\n",
    "        print('{} does not support fetching OHLC data. Please use another exchange'.format(exch))\n",
    "        print('-'*80)\n",
    "        quit()\n",
    "    if (not hasattr(exchange, 'timeframes')) or (t_frame not in exchange.timeframes):\n",
    "        print('-'*36,' ERROR ','-'*35)\n",
    "        print('The requested timeframe ({}) is not available from {}\\n'.format(t_frame,exch))\n",
    "        print('Available timeframes are:')\n",
    "        for key in exchange.timeframes.keys():\n",
    "            print('  - ' + key)\n",
    "        print('-'*80)\n",
    "        quit()\n",
    "    exchange.load_markets()\n",
    "    for coin in exchange.symbols:\n",
    "        if coin in syms or coin[-3:] != 'BTC':\n",
    "            continue\n",
    "        else:\n",
    "            try:\n",
    "                data = exchange.fetch_ohlcv(coin, t_frame)\n",
    "            except:\n",
    "                continue\n",
    "            data_df = pd.DataFrame(data, columns=header).set_index('Timestamp')\n",
    "            data_df['symbol'] = coin\n",
    "            df = df.append(data_df)\n",
    "            syms.append(coin)\n",
    "df.index = df.index/1000 #Timestamp is 1000 times bigger than it should be in this case\n",
    "df['Date'] = pd.to_datetime(df.index,unit='s')\n",
    "df.to_csv(filename)"
   ]
  },
  {
   "cell_type": "code",
   "execution_count": 13,
   "metadata": {},
   "outputs": [],
   "source": [
    "data = pd.read_csv(\"./4h.csv\")"
   ]
  },
  {
   "cell_type": "code",
   "execution_count": 17,
   "metadata": {},
   "outputs": [
    {
     "data": {
      "text/plain": [
       "'2018-04-30 12:00:00'"
      ]
     },
     "execution_count": 17,
     "metadata": {},
     "output_type": "execute_result"
    }
   ],
   "source": [
    "data.Date.min()"
   ]
  },
  {
   "cell_type": "code",
   "execution_count": 24,
   "metadata": {},
   "outputs": [],
   "source": [
    "data = data.sort_values(\"Date\")"
   ]
  },
  {
   "cell_type": "code",
   "execution_count": 31,
   "metadata": {},
   "outputs": [
    {
     "data": {
      "text/plain": [
       "<AxesSubplot:>"
      ]
     },
     "execution_count": 31,
     "metadata": {},
     "output_type": "execute_result"
    },
    {
     "data": {
      "image/png": "[encoded data removed]",
      "text/plain": [
       "<Figure size 432x288 with 1 Axes>"
      ]
     },
     "metadata": {
      "needs_background": "light"
     },
     "output_type": "display_data"
    }
   ],
   "source": [
    "data.groupby(\"symbol\").size().hist()"
   ]
  },
  {
   "cell_type": "code",
   "execution_count": 19,
   "metadata": {},
   "outputs": [
    {
     "data": {
      "text/plain": [
       "array(['ETH/BTC', '1INCH/BTC', 'AAVE/BTC', 'ACM/BTC', 'ADA/BTC',\n",
       "       'ADX/BTC', 'AE/BTC', 'AERGO/BTC', 'AGI/BTC', 'AION/BTC',\n",
       "       'AKRO/BTC', 'ALGO/BTC', 'ALICE/BTC', 'ALPHA/BTC', 'AMB/BTC',\n",
       "       'ANKR/BTC', 'ANT/BTC', 'APPC/BTC', 'ARDR/BTC', 'ARK/BTC',\n",
       "       'ARN/BTC', 'ARPA/BTC', 'ASR/BTC', 'AST/BTC', 'ATM/BTC', 'ATOM/BTC',\n",
       "       'AUCTION/BTC', 'AUDIO/BTC', 'AUTO/BTC', 'AVA/BTC', 'AVAX/BTC',\n",
       "       'AXS/BTC', 'BADGER/BTC', 'BAL/BTC', 'BAND/BTC', 'BAR/BTC',\n",
       "       'BAT/BTC', 'BCC/BTC', 'BCD/BTC', 'BCH/BTC', 'BCN/BTC', 'BCPT/BTC',\n",
       "       'BEAM/BTC', 'BEL/BTC', 'BLZ/BTC', 'BNB/BTC', 'BNT/BTC', 'BOT/BTC',\n",
       "       'BQX/BTC', 'BRD/BTC', 'BSV/BTC', 'BTCB/BTC', 'BTCST/BTC',\n",
       "       'BTG/BTC', 'BTS/BTC', 'BTT/BTC', 'BZRX/BTC', 'CAKE/BTC', 'CDT/BTC',\n",
       "       'CELO/BTC', 'CELR/BTC', 'CFX/BTC', 'CHAT/BTC', 'CHR/BTC',\n",
       "       'CHZ/BTC', 'CKB/BTC', 'CLOAK/BTC', 'CMT/BTC', 'CND/BTC',\n",
       "       'COCOS/BTC', 'COMP/BTC', 'COS/BTC', 'COTI/BTC', 'CRV/BTC',\n",
       "       'CTK/BTC', 'CTSI/BTC', 'CTXC/BTC', 'CVC/BTC', 'DAI/BTC',\n",
       "       'DASH/BTC', 'DATA/BTC', 'DCR/BTC', 'DEGO/BTC', 'DENT/BTC',\n",
       "       'DGB/BTC', 'DGD/BTC', 'DIA/BTC', 'DLT/BTC', 'DNT/BTC', 'DOCK/BTC',\n",
       "       'DODO/BTC', 'DOGE/BTC', 'DOT/BTC', 'DREP/BTC', 'DUSK/BTC',\n",
       "       'EASY/BTC', 'EDO/BTC', 'EGLD/BTC', 'ELF/BTC', 'ENG/BTC', 'ENJ/BTC',\n",
       "       'EOS/BTC', 'EPS/BTC', 'ERD/BTC', 'ETC/BTC', 'EVX/BTC', 'FET/BTC',\n",
       "       'FIL/BTC', 'FIO/BTC', 'FIRO/BTC', 'FIS/BTC', 'FLM/BTC', 'FOR/BTC',\n",
       "       'FRONT/BTC', 'FTM/BTC', 'FTT/BTC', 'FUEL/BTC', 'FUN/BTC',\n",
       "       'FXS/BTC', 'GAS/BTC', 'GLM/BTC', 'GNT/BTC', 'GO/BTC', 'GRS/BTC',\n",
       "       'GRT/BTC', 'GTO/BTC', 'GVT/BTC', 'GXS/BTC', 'HARD/BTC', 'HBAR/BTC',\n",
       "       'HC/BTC', 'HIVE/BTC', 'HNT/BTC', 'HOT/BTC', 'HSR/BTC', 'ICN/BTC',\n",
       "       'ICX/BTC', 'IDEX/BTC', 'INJ/BTC', 'INS/BTC', 'IOST/BTC',\n",
       "       'IOTA/BTC', 'IOTX/BTC', 'IRIS/BTC', 'JST/BTC', 'JUV/BTC',\n",
       "       'KAVA/BTC', 'KEY/BTC', 'KMD/BTC', 'KNC/BTC', 'KSM/BTC', 'LEND/BTC',\n",
       "       'LINA/BTC', 'LINK/BTC', 'LIT/BTC', 'LOOM/BTC', 'LRC/BTC',\n",
       "       'LSK/BTC', 'LTC/BTC', 'LTO/BTC', 'LUN/BTC', 'LUNA/BTC', 'MANA/BTC',\n",
       "       'MATIC/BTC', 'MBL/BTC', 'MCO/BTC', 'MDA/BTC', 'MDT/BTC', 'MFT/BTC',\n",
       "       'MIR/BTC', 'MITH/BTC', 'MKR/BTC', 'MOD/BTC', 'MTH/BTC', 'MTL/BTC',\n",
       "       'NANO/BTC', 'NAS/BTC', 'NAV/BTC', 'NBS/BTC', 'NCASH/BTC',\n",
       "       'NEAR/BTC', 'NEBL/BTC', 'NEO/BTC', 'NKN/BTC', 'NMR/BTC',\n",
       "       'NPXS/BTC', 'NULS/BTC', 'NXS/BTC', 'OAX/BTC', 'OCEAN/BTC',\n",
       "       'OG/BTC', 'OGN/BTC', 'OM/BTC', 'OMG/BTC', 'ONE/BTC', 'ONG/BTC',\n",
       "       'ONT/BTC', 'ORN/BTC', 'OST/BTC', 'OXT/BTC', 'PAX/BTC', 'PAXG/BTC',\n",
       "       'PERL/BTC', 'PERP/BTC', 'PHA/BTC', 'PHB/BTC', 'PHX/BTC',\n",
       "       'PIVX/BTC', 'PNT/BTC', 'POA/BTC', 'POE/BTC', 'POLY/BTC',\n",
       "       'POND/BTC', 'POWR/BTC', 'PPT/BTC', 'PSG/BTC', 'QKC/BTC', 'QLC/BTC',\n",
       "       'QSP/BTC', 'QTUM/BTC', 'RAMP/BTC', 'RCN/BTC', 'RDN/BTC',\n",
       "       'REEF/BTC', 'REN/BTC', 'RENBTC/BTC', 'REP/BTC', 'REQ/BTC',\n",
       "       'RIF/BTC', 'RLC/BTC', 'ROSE/BTC', 'RPX/BTC', 'RSR/BTC', 'RUNE/BTC',\n",
       "       'RVN/BTC', 'SALT/BTC', 'SAND/BTC', 'SC/BTC', 'SCRT/BTC', 'SFP/BTC',\n",
       "       'SKL/BTC', 'SKY/BTC', 'SNGLS/BTC', 'SNM/BTC', 'SNT/BTC', 'SNX/BTC',\n",
       "       'SOL/BTC', 'SRM/BTC', 'STEEM/BTC', 'STMX/BTC', 'STORJ/BTC',\n",
       "       'STORM/BTC', 'STPT/BTC', 'STRAT/BTC', 'STRAX/BTC', 'STX/BTC',\n",
       "       'SUB/BTC', 'SUN/BTC', 'SUPER/BTC', 'SUSD/BTC', 'SUSHI/BTC',\n",
       "       'SXP/BTC', 'SYS/BTC', 'TCT/BTC', 'TFUEL/BTC', 'THETA/BTC',\n",
       "       'TKO/BTC', 'TLM/BTC', 'TNB/BTC', 'TNT/BTC', 'TOMO/BTC', 'TRB/BTC',\n",
       "       'TRIG/BTC', 'TROY/BTC', 'TRU/BTC', 'TRX/BTC', 'TUSD/BTC',\n",
       "       'TVK/BTC', 'TWT/BTC', 'UMA/BTC', 'UNFI/BTC', 'UNI/BTC', 'UTK/BTC',\n",
       "       'VEN/BTC', 'VET/BTC', 'VIA/BTC', 'VIB/BTC', 'VIBE/BTC', 'VIDT/BTC',\n",
       "       'VITE/BTC', 'WABI/BTC', 'WAN/BTC', 'WAVES/BTC', 'WBTC/BTC',\n",
       "       'WIN/BTC', 'WING/BTC', 'WINGS/BTC', 'WNXM/BTC', 'WPR/BTC',\n",
       "       'WRX/BTC', 'WTC/BTC', 'XEM/BTC', 'XLM/BTC', 'XMR/BTC', 'XRP/BTC',\n",
       "       'XTZ/BTC', 'XVG/BTC', 'XVS/BTC', 'XZC/BTC', 'YFI/BTC', 'YFII/BTC',\n",
       "       'YOYOW/BTC', 'ZEC/BTC', 'ZEN/BTC', 'ZIL/BTC', 'ZRX/BTC'],\n",
       "      dtype=object)"
      ]
     },
     "execution_count": 19,
     "metadata": {},
     "output_type": "execute_result"
    }
   ],
   "source": [
    "data.symbol.unique()"
   ]
  },
  {
   "cell_type": "code",
   "execution_count": null,
   "metadata": {},
   "outputs": [],
   "source": []
  }
 ],
 "metadata": {
  "colab": {
   "name": "01_ak_data_collecting.ipynb",
   "provenance": []
  },
  "kernelspec": {
   "display_name": "py3_multi_task_price_change_prediction",
   "language": "python",
   "name": "py3_multi_task_price_change_prediction"
  },
  "language_info": {
   "codemirror_mode": {
    "name": "ipython",
    "version": 3
   },
   "file_extension": ".py",
   "mimetype": "text/x-python",
   "name": "python",
   "nbconvert_exporter": "python",
   "pygments_lexer": "ipython3",
   "version": "3.8.5"
  }
 },
 "nbformat": 4,
 "nbformat_minor": 4
}
