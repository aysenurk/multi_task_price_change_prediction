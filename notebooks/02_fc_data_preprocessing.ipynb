{
 "cells": [
  {
   "cell_type": "code",
   "execution_count": 106,
   "metadata": {},
   "outputs": [],
   "source": [
    "import pandas as pd\n",
    "import numpy as np\n",
    "import random\n",
    "random.seed(42)\n",
    "np.random.seed(42)\n",
    "from sklearn.preprocessing import MinMaxScaler, StandardScaler\n",
    "from datetime import datetime, timedelta\n",
    "from PyEMD import EEMD\n",
    "from scipy import stats"
   ]
  },
  {
   "cell_type": "code",
   "execution_count": 116,
   "metadata": {},
   "outputs": [],
   "source": [
    "def get_data(CURRENCY_LST,\n",
    "             FREQUENCY, \n",
    "             WINDOW_SIZE,\n",
    "             neutral_quantile = 0.25,\n",
    "             beg_date = pd.Timestamp(2013,1,1),\n",
    "             end_date = pd.Timestamp.now(),\n",
    "             log_price = True, \n",
    "             include_indicators = True,\n",
    "             include_imfs = True):\n",
    "        \n",
    "        currency_dfs = {}\n",
    "        for cur in CURRENCY_LST: \n",
    "            currency_dfs[cur] = pd.read_csv(f\"../data/0_raw/Indicators/{str.lower(cur)}_usdt_1d_indicators.csv\", index_col=0)\n",
    "        \n",
    "        for cur, df in currency_dfs.items():\n",
    "            df.Date = df.Date.apply(pd.Timestamp)\n",
    "            df.sort_values(\"Date\", ascending=True, inplace=True)\n",
    "            df.set_index(\"Date\", inplace=True)\n",
    "            df.drop([\"Timestamp\",\"Open\", \"High\", \"Low\"], axis=1, inplace=True)\n",
    "            df.rename(str.lower, axis=1, inplace=True)\n",
    "            \n",
    "            if log_price:\n",
    "                df[\"close\"] = df[\"close\"].apply(np.log)\n",
    "           \n",
    "            price_diff = df[\"close\"].diff().dropna()\n",
    "\n",
    "            rolling_quantiles = price_diff.abs().rolling(WINDOW_SIZE).quantile(neutral_quantile)\n",
    "            rolling_quantiles.dropna(inplace=True)\n",
    "            conditions = [(price_diff[WINDOW_SIZE-1:] < 0) & (price_diff[WINDOW_SIZE-1:].abs() > rolling_quantiles),\n",
    "                          (price_diff[WINDOW_SIZE-1:] > 0) & (price_diff[WINDOW_SIZE-1:].abs() > rolling_quantiles)]\n",
    "\n",
    "            classes = [1,2] # 0 is the default class if none of conditions is met\n",
    "\n",
    "            y = pd.DataFrame(np.select(conditions, classes, default=0), index=price_diff[WINDOW_SIZE-1:].index)\n",
    "            df.insert(loc=0, column=\"change_dir\", value=y)\n",
    "            \n",
    "            if not include_indicators:\n",
    "                df = df[['change_dir', 'close']]\n",
    "            \n",
    "            if include_imfs:\n",
    "                eemd = EEMD()\n",
    "                imfs = eemd(df[PRICE_TYPE].values)\n",
    "                imf_features = [\"imf_\"+str(i) for i in range(imfs.shape[0])]\n",
    "                df = pd.concat((df, pd.DataFrame(imfs.T, columns=imf_features, index=df.index)), axis=1)\n",
    "                \n",
    "            currency_dfs[cur] = df\n",
    "\n",
    "        min_dates = [df.index.min() for cur, df in currency_dfs.items()]\n",
    "        max_dates = [df.index.max() for cur, df in currency_dfs.items()]\n",
    "        beg_date = max([max(min_dates), beg_date])\n",
    "        end_date = min([min(max_dates), end_date])\n",
    "        common_range = pd.date_range(beg_date, end_date, freq=FREQUENCY)\n",
    "        \n",
    "        arr = np.array([currency_dfs[cur].loc[common_range].values for cur in CURRENCY_LST])\n",
    "        features = df.columns.tolist()\n",
    "        \n",
    "        return arr, y, features, currency_dfs"
   ]
  },
  {
   "cell_type": "code",
   "execution_count": 117,
   "metadata": {},
   "outputs": [],
   "source": [
    "CURRENCY_LST = ['BTC', 'ETH', \"LTC\"]\n",
    "PRICE_TYPE = 'close'\n",
    "FREQUENCY = \"D\"\n",
    "WINDOW_SIZE = 50\n",
    "neutral_quantile = 0.25"
   ]
  },
  {
   "cell_type": "code",
   "execution_count": null,
   "metadata": {},
   "outputs": [],
   "source": [
    "arr, y, features, dfs = get_data(CURRENCY_LST,\n",
    "                            FREQUENCY, \n",
    "                            WINDOW_SIZE,\n",
    "                            neutral_quantile = neutral_quantile,\n",
    "                            log_price=True,\n",
    "                            include_indicators=False,\n",
    "                            include_imfs = False)"
   ]
  }
 ],
 "metadata": {
  "kernelspec": {
   "display_name": "Python 3",
   "language": "python",
   "name": "python3"
  },
  "language_info": {
   "codemirror_mode": {
    "name": "ipython",
    "version": 3
   },
   "file_extension": ".py",
   "mimetype": "text/x-python",
   "name": "python",
   "nbconvert_exporter": "python",
   "pygments_lexer": "ipython3",
   "version": "3.8.3"
  }
 },
 "nbformat": 4,
 "nbformat_minor": 4
}
