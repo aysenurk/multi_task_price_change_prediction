{
 "cells": [
  {
   "cell_type": "code",
   "execution_count": 3,
   "metadata": {
    "id": "edbKx492v8CK"
   },
   "outputs": [],
   "source": [
    "import pandas as pd\n",
    "import ccxt"
   ]
  },
  {
   "cell_type": "markdown",
   "metadata": {},
   "source": [
    "## Data obtaining from ccxt library \n",
    "--------------------------------------------\n",
    "motivation, get high frequency data from exchange\n",
    "exchange(s) should be decided \\\n",
    "Another thing is that cryptocurrency against which currency should be decided. \\\n",
    "anlamadığım bir durum var doları cryptocurrency -lere karşı bulamıyorum"
   ]
  },
  {
   "cell_type": "code",
   "execution_count": null,
   "metadata": {},
   "outputs": [],
   "source": [
    "#https://backtest-rookies.com/2018/03/08/download-cryptocurrency-data-with-ccxt/\n",
    "#https://www.linkedin.com/pulse/download-historical-data-all-cryptocoins-ccxt-gursel-karacor/?articleId=6636391574811090944   \n",
    "## final: https://github.com/codeninja/CCXT-Historical-Data/blob/master/Binance%20Historical%20Data%20.ipynb"
   ]
  },
  {
   "cell_type": "code",
   "execution_count": 4,
   "metadata": {},
   "outputs": [],
   "source": [
    "import os\n",
    "from pathlib import Path\n",
    "\n",
    "import sys\n",
    "import csv\n",
    "\n",
    "import ccxt\n",
    "# -----------------------------------------------------------------------------\n",
    "\n",
    "def retry_fetch_ohlcv(exchange, max_retries, symbol, timeframe, since, limit):\n",
    "    num_retries = 0\n",
    "    try:\n",
    "        num_retries += 1\n",
    "        ohlcv = exchange.fetch_ohlcv(symbol, timeframe, since, limit)\n",
    "        # print('Fetched', len(ohlcv), symbol, 'candles from', exchange.iso8601 (ohlcv[0][0]), 'to', exchange.iso8601 (ohlcv[-1][0]))\n",
    "        return ohlcv\n",
    "    except Exception:\n",
    "        if num_retries > max_retries:\n",
    "            raise  # Exception('Failed to fetch', timeframe, symbol, 'OHLCV in', max_retries, 'attempts')\n",
    "\n",
    "\n",
    "def scrape_ohlcv(exchange, max_retries, symbol, timeframe, since, limit):\n",
    "    earliest_timestamp = exchange.milliseconds()\n",
    "    timeframe_duration_in_seconds = exchange.parse_timeframe(timeframe)\n",
    "    timeframe_duration_in_ms = timeframe_duration_in_seconds * 1000\n",
    "    timedelta = limit * timeframe_duration_in_ms\n",
    "    all_ohlcv = []\n",
    "    while True:\n",
    "        fetch_since = earliest_timestamp - timedelta\n",
    "        ohlcv = retry_fetch_ohlcv(exchange, max_retries, symbol, timeframe, fetch_since, limit)\n",
    "        # if we have reached the beginning of history\n",
    "        if len(ohlcv) == 0:\n",
    "            break\n",
    "        if ohlcv[0][0] >= earliest_timestamp:\n",
    "            break\n",
    "        earliest_timestamp = ohlcv[0][0]\n",
    "        all_ohlcv = ohlcv + all_ohlcv\n",
    "        print(len(all_ohlcv), symbol, 'candles in total from', exchange.iso8601(all_ohlcv[0][0]), 'to', exchange.iso8601(all_ohlcv[-1][0]))\n",
    "        # if we have reached the checkpoint\n",
    "        if fetch_since < since:\n",
    "            break\n",
    "    return all_ohlcv\n",
    "\n",
    "\n",
    "def write_to_csv(filename, exchange, data):\n",
    "    p = Path(\"../data/0_raw/\", str(exchange))\n",
    "    p.mkdir(parents=True, exist_ok=True)\n",
    "    full_path = p / str(filename)\n",
    "    with Path(full_path).open('w+', newline='') as output_file:\n",
    "        csv_writer = csv.writer(output_file, delimiter=',', quotechar='\"', quoting=csv.QUOTE_MINIMAL)\n",
    "        csv_writer.writerows(data)\n",
    "\n",
    "\n",
    "def scrape_candles_to_csv(filename, exchange_id, max_retries, symbol, timeframe, since, limit):\n",
    "    # instantiate the exchange by id\n",
    "    exchange = getattr(ccxt, exchange_id)({\n",
    "        'enableRateLimit': True,  # required by the Manual\n",
    "    })\n",
    "    # convert since from string to milliseconds integer if needed\n",
    "    if isinstance(since, str):\n",
    "        since = exchange.parse8601(since)\n",
    "    # preload all markets from the exchange\n",
    "    exchange.load_markets()\n",
    "    # fetch all candles+\n",
    "    ohlcv = scrape_ohlcv(exchange, max_retries, symbol, timeframe, since, limit)\n",
    "    # save them to csv file\n",
    "    write_to_csv(filename, exchange, ohlcv)\n",
    "    print('Saved', len(ohlcv), 'candles from', exchange.iso8601(ohlcv[0][0]), 'to', exchange.iso8601(ohlcv[-1][0]), 'to', filename)"
   ]
  },
  {
   "cell_type": "code",
   "execution_count": null,
   "metadata": {},
   "outputs": [],
   "source": [
    "#BUSD ile çok az veri çekilebildiği için usdt yi de çektim."
   ]
  },
  {
   "cell_type": "code",
   "execution_count": 5,
   "metadata": {},
   "outputs": [
    {
     "name": "stdout",
     "output_type": "stream",
     "text": [
      "1000 BTC/USDT candles in total from 2020-12-06T06:00:00.000Z to 2021-08-13T00:00:00.000Z\n",
      "2000 BTC/USDT candles in total from 2020-03-31T06:00:00.000Z to 2021-08-13T00:00:00.000Z\n",
      "3000 BTC/USDT candles in total from 2019-07-25T06:00:00.000Z to 2021-08-13T00:00:00.000Z\n",
      "3999 BTC/USDT candles in total from 2018-11-17T06:00:00.000Z to 2021-08-13T00:00:00.000Z\n",
      "4998 BTC/USDT candles in total from 2018-03-12T06:00:00.000Z to 2021-08-13T00:00:00.000Z\n",
      "5823 BTC/USDT candles in total from 2017-08-17T00:00:00.000Z to 2021-08-13T00:00:00.000Z\n",
      "Saved 5823 candles from 2017-08-17T00:00:00.000Z to 2021-08-13T00:00:00.000Z to ./btc_usdt_6h.csv\n"
     ]
    }
   ],
   "source": [
    "scrape_candles_to_csv('./btc_usdt_6h.csv', 'binance', 3, 'BTC/USDT', '6h', '2017-01-0100:00:00Z', 1000)"
   ]
  },
  {
   "cell_type": "code",
   "execution_count": 6,
   "metadata": {},
   "outputs": [
    {
     "name": "stdout",
     "output_type": "stream",
     "text": [
      "1000 ETH/USDT candles in total from 2020-12-06T06:00:00.000Z to 2021-08-13T00:00:00.000Z\n",
      "2000 ETH/USDT candles in total from 2020-03-31T06:00:00.000Z to 2021-08-13T00:00:00.000Z\n",
      "3000 ETH/USDT candles in total from 2019-07-25T06:00:00.000Z to 2021-08-13T00:00:00.000Z\n",
      "3999 ETH/USDT candles in total from 2018-11-17T06:00:00.000Z to 2021-08-13T00:00:00.000Z\n",
      "4998 ETH/USDT candles in total from 2018-03-12T06:00:00.000Z to 2021-08-13T00:00:00.000Z\n",
      "5823 ETH/USDT candles in total from 2017-08-17T00:00:00.000Z to 2021-08-13T00:00:00.000Z\n",
      "Saved 5823 candles from 2017-08-17T00:00:00.000Z to 2021-08-13T00:00:00.000Z to ./eth_usdt_6h.csv\n"
     ]
    }
   ],
   "source": [
    "scrape_candles_to_csv('./eth_usdt_6h.csv', 'binance', 3, 'ETH/USDT', '6h', '2017-01-0100:00:00Z', 1000)"
   ]
  },
  {
   "cell_type": "code",
   "execution_count": 7,
   "metadata": {},
   "outputs": [
    {
     "name": "stdout",
     "output_type": "stream",
     "text": [
      "1000 LTC/USDT candles in total from 2020-12-06T06:00:00.000Z to 2021-08-13T00:00:00.000Z\n",
      "2000 LTC/USDT candles in total from 2020-03-31T06:00:00.000Z to 2021-08-13T00:00:00.000Z\n",
      "3000 LTC/USDT candles in total from 2019-07-25T06:00:00.000Z to 2021-08-13T00:00:00.000Z\n",
      "3999 LTC/USDT candles in total from 2018-11-17T06:00:00.000Z to 2021-08-13T00:00:00.000Z\n",
      "4998 LTC/USDT candles in total from 2018-03-12T06:00:00.000Z to 2021-08-13T00:00:00.000Z\n",
      "5351 LTC/USDT candles in total from 2017-12-13T00:00:00.000Z to 2021-08-13T00:00:00.000Z\n",
      "Saved 5351 candles from 2017-12-13T00:00:00.000Z to 2021-08-13T00:00:00.000Z to ./ltc_usdt_6h.csv\n"
     ]
    }
   ],
   "source": [
    "scrape_candles_to_csv('./ltc_usdt_6h.csv', 'binance', 3, 'LTC/USDT', '6h', '2017-01-0100:00:00Z', 1000)"
   ]
  },
  {
   "cell_type": "code",
   "execution_count": 8,
   "metadata": {},
   "outputs": [],
   "source": [
    "for filename in [\"btc_usdt_6h.csv\", \"eth_usdt_6h.csv\", \"ltc_usdt_6h.csv\"]:\n",
    "    df = pd.read_csv('../data/0_raw/Binance/' + filename, header=None)\n",
    "    df.columns = ['Timestamp', 'Open', 'High', 'Low', 'Close', 'Volume']\n",
    "    df.set_index('Timestamp', inplace=True)\n",
    "    df.index = df.index /1000\n",
    "    df[\"Date\"] = pd.to_datetime(df.index,unit='s')\n",
    "    df.to_csv(\"../data/0_raw/\" + filename)"
   ]
  },
  {
   "cell_type": "code",
   "execution_count": null,
   "metadata": {},
   "outputs": [],
   "source": []
  },
  {
   "cell_type": "code",
   "execution_count": null,
   "metadata": {},
   "outputs": [],
   "source": [
    "#https://coinmarketcap.com/all/views/all/"
   ]
  },
  {
   "cell_type": "code",
   "execution_count": 11,
   "metadata": {},
   "outputs": [
    {
     "name": "stdout",
     "output_type": "stream",
     "text": [
      "1000 ADA/USDT candles in total from 2020-12-06T06:00:00.000Z to 2021-08-13T00:00:00.000Z\n",
      "2000 ADA/USDT candles in total from 2020-03-31T06:00:00.000Z to 2021-08-13T00:00:00.000Z\n",
      "3000 ADA/USDT candles in total from 2019-07-25T06:00:00.000Z to 2021-08-13T00:00:00.000Z\n",
      "3999 ADA/USDT candles in total from 2018-11-17T06:00:00.000Z to 2021-08-13T00:00:00.000Z\n",
      "4855 ADA/USDT candles in total from 2018-04-17T00:00:00.000Z to 2021-08-13T00:00:00.000Z\n",
      "Saved 4855 candles from 2018-04-17T00:00:00.000Z to 2021-08-13T00:00:00.000Z to ./ada_usdt_6h.csv\n"
     ]
    }
   ],
   "source": [
    "scrape_candles_to_csv('./ada_usdt_6h.csv', 'binance', 3, 'ADA/USDT', '6h', '2017-01-0100:00:00Z', 1000)"
   ]
  },
  {
   "cell_type": "code",
   "execution_count": 12,
   "metadata": {},
   "outputs": [
    {
     "name": "stdout",
     "output_type": "stream",
     "text": [
      "1000 XRP/USDT candles in total from 2020-12-06T06:00:00.000Z to 2021-08-13T00:00:00.000Z\n",
      "2000 XRP/USDT candles in total from 2020-03-31T06:00:00.000Z to 2021-08-13T00:00:00.000Z\n",
      "3000 XRP/USDT candles in total from 2019-07-25T06:00:00.000Z to 2021-08-13T00:00:00.000Z\n",
      "3999 XRP/USDT candles in total from 2018-11-17T06:00:00.000Z to 2021-08-13T00:00:00.000Z\n",
      "4786 XRP/USDT candles in total from 2018-05-04T06:00:00.000Z to 2021-08-13T00:00:00.000Z\n",
      "Saved 4786 candles from 2018-05-04T06:00:00.000Z to 2021-08-13T00:00:00.000Z to ./xrp_usdt_6h.csv\n"
     ]
    }
   ],
   "source": [
    "scrape_candles_to_csv('./xrp_usdt_6h.csv', 'binance', 3, 'XRP/USDT', '6h', '2017-01-0100:00:00Z', 1000)"
   ]
  },
  {
   "cell_type": "code",
   "execution_count": 13,
   "metadata": {},
   "outputs": [
    {
     "name": "stdout",
     "output_type": "stream",
     "text": [
      "1000 DOGE/USDT candles in total from 2020-12-06T06:00:00.000Z to 2021-08-13T00:00:00.000Z\n",
      "2000 DOGE/USDT candles in total from 2020-03-31T06:00:00.000Z to 2021-08-13T00:00:00.000Z\n",
      "3000 DOGE/USDT candles in total from 2019-07-25T06:00:00.000Z to 2021-08-13T00:00:00.000Z\n",
      "3079 DOGE/USDT candles in total from 2019-07-05T12:00:00.000Z to 2021-08-13T00:00:00.000Z\n",
      "Saved 3079 candles from 2019-07-05T12:00:00.000Z to 2021-08-13T00:00:00.000Z to ./doge_usdt_6h.csv\n"
     ]
    }
   ],
   "source": [
    "scrape_candles_to_csv('./doge_usdt_6h.csv', 'binance', 3, 'DOGE/USDT', '6h', '2017-01-0100:00:00Z', 1000)"
   ]
  },
  {
   "cell_type": "code",
   "execution_count": 14,
   "metadata": {},
   "outputs": [
    {
     "name": "stdout",
     "output_type": "stream",
     "text": [
      "1000 DOT/USDT candles in total from 2020-12-06T06:00:00.000Z to 2021-08-13T00:00:00.000Z\n",
      "1438 DOT/USDT candles in total from 2020-08-18T18:00:00.000Z to 2021-08-13T00:00:00.000Z\n",
      "Saved 1438 candles from 2020-08-18T18:00:00.000Z to 2021-08-13T00:00:00.000Z to ./dot_usdt_6h.csv\n"
     ]
    }
   ],
   "source": [
    "scrape_candles_to_csv('./dot_usdt_6h.csv', 'binance', 3, 'DOT/USDT', '6h', '2017-01-0100:00:00Z', 1000) \n",
    "#bu azmış çıkarabiliriz"
   ]
  },
  {
   "cell_type": "code",
   "execution_count": 15,
   "metadata": {},
   "outputs": [],
   "source": [
    "for filename in ['./ada_usdt_6h.csv', './xrp_usdt_6h.csv', './dot_usdt_6h.csv']:\n",
    "    df = pd.read_csv('../data/0_raw/Binance/' + filename, header=None)\n",
    "    df.columns = ['Timestamp', 'Open', 'High', 'Low', 'Close', 'Volume']\n",
    "    df.set_index('Timestamp', inplace=True)\n",
    "    df.index = df.index /1000\n",
    "    df[\"Date\"] = pd.to_datetime(df.index, unit='s')\n",
    "    df.to_csv(\"../data/0_raw/\" + filename)"
   ]
  },
  {
   "cell_type": "code",
   "execution_count": 16,
   "metadata": {},
   "outputs": [
    {
     "name": "stdout",
     "output_type": "stream",
     "text": [
      "1000 ADA/USDT candles in total from 2018-11-18T00:00:00.000Z to 2021-08-13T00:00:00.000Z\n",
      "1215 ADA/USDT candles in total from 2018-04-17T00:00:00.000Z to 2021-08-13T00:00:00.000Z\n",
      "Saved 1215 candles from 2018-04-17T00:00:00.000Z to 2021-08-13T00:00:00.000Z to ./ada_usdt_1d.csv\n",
      "1000 XRP/USDT candles in total from 2018-11-18T00:00:00.000Z to 2021-08-13T00:00:00.000Z\n",
      "1198 XRP/USDT candles in total from 2018-05-04T00:00:00.000Z to 2021-08-13T00:00:00.000Z\n",
      "Saved 1198 candles from 2018-05-04T00:00:00.000Z to 2021-08-13T00:00:00.000Z to ./xrp_usdt_1d.csv\n",
      "361 DOT/USDT candles in total from 2020-08-18T00:00:00.000Z to 2021-08-13T00:00:00.000Z\n",
      "Saved 361 candles from 2020-08-18T00:00:00.000Z to 2021-08-13T00:00:00.000Z to ./dot_usdt_1d.csv\n"
     ]
    }
   ],
   "source": [
    "scrape_candles_to_csv('./ada_usdt_1d.csv', 'binance', 3, 'ADA/USDT', '1d', '2017-01-0100:00:00Z', 1000)\n",
    "scrape_candles_to_csv('./xrp_usdt_1d.csv', 'binance', 3, 'XRP/USDT', '1d', '2017-01-0100:00:00Z', 1000)\n",
    "scrape_candles_to_csv('./dot_usdt_1d.csv', 'binance', 3, 'DOT/USDT', '1d', '2017-01-0100:00:00Z', 1000) \n",
    "#bu azmış çıkarabiliriz"
   ]
  },
  {
   "cell_type": "code",
   "execution_count": null,
   "metadata": {},
   "outputs": [],
   "source": [
    "for filename in ['./ada_usdt_1d.csv', './xrp_usdt_1d.csv', './dot_usdt_1d.csv']:\n",
    "    df = pd.read_csv('../data/0_raw/Binance/' + filename, header=None)\n",
    "    df.columns = ['Timestamp', 'Open', 'High', 'Low', 'Close', 'Volume']\n",
    "    df.set_index('Timestamp', inplace=True)\n",
    "    df.index = df.index /1000\n",
    "    df[\"Date\"] = pd.to_datetime(df.index, unit='s')\n",
    "    df.to_csv(\"../data/0_raw/\" + filename)"
   ]
  }
 ],
 "metadata": {
  "colab": {
   "name": "01_ak_data_collecting.ipynb",
   "provenance": []
  },
  "kernelspec": {
   "display_name": "Python 3",
   "language": "python",
   "name": "python3"
  },
  "language_info": {
   "codemirror_mode": {
    "name": "ipython",
    "version": 3
   },
   "file_extension": ".py",
   "mimetype": "text/x-python",
   "name": "python",
   "nbconvert_exporter": "python",
   "pygments_lexer": "ipython3",
   "version": "3.8.3"
  }
 },
 "nbformat": 4,
 "nbformat_minor": 4
}
