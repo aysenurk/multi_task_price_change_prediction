{
 "cells": [
  {
   "cell_type": "code",
   "execution_count": 19,
   "metadata": {},
   "outputs": [],
   "source": [
    "import pandas as pd\n",
    "import numpy as np"
   ]
  },
  {
   "cell_type": "code",
   "execution_count": 20,
   "metadata": {
    "scrolled": true
   },
   "outputs": [],
   "source": [
    "import torch\n",
    "from torch import nn\n",
    "from torch.nn import functional as F\n",
    "from torch.utils.data import DataLoader, Dataset\n",
    "\n",
    "import pytorch_lightning as pl\n",
    "from pytorch_lightning.metrics import F1\n",
    "from pytorch_lightning.loggers import WandbLogger\n",
    "from pytorch_lightning.loggers import TensorBoardLogger"
   ]
  },
  {
   "cell_type": "code",
   "execution_count": 21,
   "metadata": {},
   "outputs": [],
   "source": [
    "from sklearn.metrics import (\n",
    "    f1_score,\n",
    "    accuracy_score,\n",
    "    classification_report,\n",
    "    confusion_matrix,\n",
    ")"
   ]
  },
  {
   "cell_type": "code",
   "execution_count": 22,
   "metadata": {},
   "outputs": [],
   "source": [
    "btc = pd.read_csv(\"../data/0_raw/BTC_USD_2013-10-01_2021-04-21-CoinDesk.csv\")"
   ]
  },
  {
   "cell_type": "code",
   "execution_count": 23,
   "metadata": {},
   "outputs": [
    {
     "data": {
      "text/plain": [
       "Index(['Currency', 'Date', 'Closing Price (USD)', '24h Open (USD)',\n",
       "       '24h High (USD)', '24h Low (USD)'],\n",
       "      dtype='object')"
      ]
     },
     "execution_count": 23,
     "metadata": {},
     "output_type": "execute_result"
    }
   ],
   "source": [
    "btc.columns"
   ]
  },
  {
   "cell_type": "code",
   "execution_count": 24,
   "metadata": {},
   "outputs": [],
   "source": [
    "btc.Date = btc.Date.apply(pd.Timestamp)"
   ]
  },
  {
   "cell_type": "code",
   "execution_count": 25,
   "metadata": {},
   "outputs": [],
   "source": [
    "btc = btc.sort_values(\"Date\", ascending=True)"
   ]
  },
  {
   "cell_type": "code",
   "execution_count": 26,
   "metadata": {},
   "outputs": [
    {
     "data": {
      "text/html": [
       "<div>\n",
       "<style scoped>\n",
       "    .dataframe tbody tr th:only-of-type {\n",
       "        vertical-align: middle;\n",
       "    }\n",
       "\n",
       "    .dataframe tbody tr th {\n",
       "        vertical-align: top;\n",
       "    }\n",
       "\n",
       "    .dataframe thead th {\n",
       "        text-align: right;\n",
       "    }\n",
       "</style>\n",
       "<table border=\"1\" class=\"dataframe\">\n",
       "  <thead>\n",
       "    <tr style=\"text-align: right;\">\n",
       "      <th></th>\n",
       "      <th>Currency</th>\n",
       "      <th>Date</th>\n",
       "      <th>Closing Price (USD)</th>\n",
       "      <th>24h Open (USD)</th>\n",
       "      <th>24h High (USD)</th>\n",
       "      <th>24h Low (USD)</th>\n",
       "    </tr>\n",
       "  </thead>\n",
       "  <tbody>\n",
       "    <tr>\n",
       "      <th>0</th>\n",
       "      <td>BTC</td>\n",
       "      <td>2013-10-01</td>\n",
       "      <td>123.654990</td>\n",
       "      <td>124.304660</td>\n",
       "      <td>124.751660</td>\n",
       "      <td>122.563490</td>\n",
       "    </tr>\n",
       "    <tr>\n",
       "      <th>1</th>\n",
       "      <td>BTC</td>\n",
       "      <td>2013-10-02</td>\n",
       "      <td>125.455000</td>\n",
       "      <td>123.654990</td>\n",
       "      <td>125.758500</td>\n",
       "      <td>123.633830</td>\n",
       "    </tr>\n",
       "    <tr>\n",
       "      <th>2</th>\n",
       "      <td>BTC</td>\n",
       "      <td>2013-10-03</td>\n",
       "      <td>108.584830</td>\n",
       "      <td>125.455000</td>\n",
       "      <td>125.665660</td>\n",
       "      <td>83.328330</td>\n",
       "    </tr>\n",
       "    <tr>\n",
       "      <th>3</th>\n",
       "      <td>BTC</td>\n",
       "      <td>2013-10-04</td>\n",
       "      <td>118.674660</td>\n",
       "      <td>108.584830</td>\n",
       "      <td>118.675000</td>\n",
       "      <td>107.058160</td>\n",
       "    </tr>\n",
       "    <tr>\n",
       "      <th>4</th>\n",
       "      <td>BTC</td>\n",
       "      <td>2013-10-05</td>\n",
       "      <td>121.338660</td>\n",
       "      <td>118.674660</td>\n",
       "      <td>121.936330</td>\n",
       "      <td>118.005660</td>\n",
       "    </tr>\n",
       "    <tr>\n",
       "      <th>...</th>\n",
       "      <td>...</td>\n",
       "      <td>...</td>\n",
       "      <td>...</td>\n",
       "      <td>...</td>\n",
       "      <td>...</td>\n",
       "      <td>...</td>\n",
       "    </tr>\n",
       "    <tr>\n",
       "      <th>2754</th>\n",
       "      <td>BTC</td>\n",
       "      <td>2021-04-17</td>\n",
       "      <td>61965.782598</td>\n",
       "      <td>63225.093917</td>\n",
       "      <td>63520.325374</td>\n",
       "      <td>60033.534667</td>\n",
       "    </tr>\n",
       "    <tr>\n",
       "      <th>2755</th>\n",
       "      <td>BTC</td>\n",
       "      <td>2021-04-18</td>\n",
       "      <td>60574.444728</td>\n",
       "      <td>61444.232503</td>\n",
       "      <td>62534.028498</td>\n",
       "      <td>59802.889267</td>\n",
       "    </tr>\n",
       "    <tr>\n",
       "      <th>2756</th>\n",
       "      <td>BTC</td>\n",
       "      <td>2021-04-19</td>\n",
       "      <td>56850.830166</td>\n",
       "      <td>60191.525406</td>\n",
       "      <td>60531.988848</td>\n",
       "      <td>52148.983544</td>\n",
       "    </tr>\n",
       "    <tr>\n",
       "      <th>2757</th>\n",
       "      <td>BTC</td>\n",
       "      <td>2021-04-20</td>\n",
       "      <td>56224.101588</td>\n",
       "      <td>56335.389141</td>\n",
       "      <td>57609.368118</td>\n",
       "      <td>54449.245330</td>\n",
       "    </tr>\n",
       "    <tr>\n",
       "      <th>2758</th>\n",
       "      <td>BTC</td>\n",
       "      <td>2021-04-21</td>\n",
       "      <td>56608.769748</td>\n",
       "      <td>55723.227263</td>\n",
       "      <td>57121.943902</td>\n",
       "      <td>53442.851660</td>\n",
       "    </tr>\n",
       "  </tbody>\n",
       "</table>\n",
       "<p>2759 rows × 6 columns</p>\n",
       "</div>"
      ],
      "text/plain": [
       "     Currency       Date  Closing Price (USD)  24h Open (USD)  24h High (USD)  \\\n",
       "0         BTC 2013-10-01           123.654990      124.304660      124.751660   \n",
       "1         BTC 2013-10-02           125.455000      123.654990      125.758500   \n",
       "2         BTC 2013-10-03           108.584830      125.455000      125.665660   \n",
       "3         BTC 2013-10-04           118.674660      108.584830      118.675000   \n",
       "4         BTC 2013-10-05           121.338660      118.674660      121.936330   \n",
       "...       ...        ...                  ...             ...             ...   \n",
       "2754      BTC 2021-04-17         61965.782598    63225.093917    63520.325374   \n",
       "2755      BTC 2021-04-18         60574.444728    61444.232503    62534.028498   \n",
       "2756      BTC 2021-04-19         56850.830166    60191.525406    60531.988848   \n",
       "2757      BTC 2021-04-20         56224.101588    56335.389141    57609.368118   \n",
       "2758      BTC 2021-04-21         56608.769748    55723.227263    57121.943902   \n",
       "\n",
       "      24h Low (USD)  \n",
       "0        122.563490  \n",
       "1        123.633830  \n",
       "2         83.328330  \n",
       "3        107.058160  \n",
       "4        118.005660  \n",
       "...             ...  \n",
       "2754   60033.534667  \n",
       "2755   59802.889267  \n",
       "2756   52148.983544  \n",
       "2757   54449.245330  \n",
       "2758   53442.851660  \n",
       "\n",
       "[2759 rows x 6 columns]"
      ]
     },
     "execution_count": 26,
     "metadata": {},
     "output_type": "execute_result"
    }
   ],
   "source": [
    "btc"
   ]
  },
  {
   "cell_type": "code",
   "execution_count": 27,
   "metadata": {},
   "outputs": [],
   "source": [
    "btc = btc[(btc.Date >= pd.Timestamp(\"2017\"))]"
   ]
  },
  {
   "cell_type": "code",
   "execution_count": 28,
   "metadata": {},
   "outputs": [
    {
     "data": {
      "text/plain": [
       "1571"
      ]
     },
     "execution_count": 28,
     "metadata": {},
     "output_type": "execute_result"
    }
   ],
   "source": [
    "len(btc)"
   ]
  },
  {
   "cell_type": "code",
   "execution_count": 29,
   "metadata": {},
   "outputs": [
    {
     "data": {
      "text/plain": [
       "1099"
      ]
     },
     "execution_count": 29,
     "metadata": {},
     "output_type": "execute_result"
    }
   ],
   "source": [
    "int(len(btc)*7/10)"
   ]
  },
  {
   "cell_type": "code",
   "execution_count": 30,
   "metadata": {},
   "outputs": [],
   "source": [
    "btc = btc[['24h Open (USD)', '24h High (USD)', '24h Low (USD)', 'Closing Price (USD)']]"
   ]
  },
  {
   "cell_type": "code",
   "execution_count": 31,
   "metadata": {},
   "outputs": [],
   "source": [
    "btc.columns = [\"open\", \"high\", \"low\", \"close\"]"
   ]
  },
  {
   "cell_type": "markdown",
   "metadata": {},
   "source": [
    "class TimeSeriesDataset(Dataset):\n",
    "    def __init__(self, x: np.ndarray, seq_len = WINDOW_SIZE):\n",
    "        self.x = torch.tensor(x).float()\n",
    "        self.seq_len = seq_len\n",
    "        \n",
    "    def __len__(self):\n",
    "        #return len(self.x) - ( self.seq_len -1 ) #sliding window count\n",
    "        return len(self.x) - ( self.seq_len)\n",
    "    \n",
    "    def __getitem__(self, index):\n",
    "        #return (self.x[index:index+self.seq_len], self.x[index+self.seq_len]) # regression\n",
    "        \n",
    "        window = self.x[index:index+self.seq_len]\n",
    "        price_change = self.x[index+self.seq_len] - self.x[index+self.seq_len-1]\n",
    "        price_change = 0 if price_change == 0 else 1 if price_change>0 else 2 #2 düşüş\n",
    "        return (window, price_change)"
   ]
  },
  {
   "cell_type": "code",
   "execution_count": 32,
   "metadata": {},
   "outputs": [],
   "source": [
    "time_series = btc.close.round(2).to_numpy()"
   ]
  },
  {
   "cell_type": "code",
   "execution_count": 33,
   "metadata": {},
   "outputs": [
    {
     "data": {
      "text/plain": [
       "1188      964.325000\n",
       "1189     1009.973750\n",
       "1190     1028.333750\n",
       "1191     1047.099990\n",
       "1192     1140.385000\n",
       "            ...     \n",
       "2754    61965.782598\n",
       "2755    60574.444728\n",
       "2756    56850.830166\n",
       "2757    56224.101588\n",
       "2758    56608.769748\n",
       "Name: close, Length: 1571, dtype: float64"
      ]
     },
     "execution_count": 33,
     "metadata": {},
     "output_type": "execute_result"
    }
   ],
   "source": [
    "btc.close"
   ]
  },
  {
   "cell_type": "code",
   "execution_count": 34,
   "metadata": {},
   "outputs": [],
   "source": [
    "N_CLASSES = 2 ###\n",
    "N_CURRENCIES = 1\n",
    "INPUT_FEATURE_SIZE = 1\n",
    "WINDOW_SIZE = 50\n",
    "TRAIN_PERCENTAGE, VAL_PERCENTAGE, TEST_PERCENTAGE = 0.80, 0.10, 0.10"
   ]
  },
  {
   "cell_type": "code",
   "execution_count": 35,
   "metadata": {},
   "outputs": [],
   "source": [
    "#train dataset ile val dataset ayırabilirim okunması daha kolay olsun diye aslında"
   ]
  },
  {
   "cell_type": "code",
   "execution_count": 36,
   "metadata": {},
   "outputs": [],
   "source": [
    "class TimeSeriesDataset(Dataset):\n",
    "    def __init__(self, \n",
    "                 x: np.ndarray, \n",
    "                 data_use_type,\n",
    "                 train_percentage = TRAIN_PERCENTAGE,\n",
    "                 val_percentage = VAL_PERCENTAGE,\n",
    "                 test_percentage = TEST_PERCENTAGE,\n",
    "                 seq_len = WINDOW_SIZE, \n",
    "                 ):\n",
    "        \n",
    "        self.x = torch.tensor(x).float()\n",
    "        self.seq_len = seq_len\n",
    "        \n",
    "        self.data_use_type = data_use_type\n",
    "        \n",
    "        self.train_size = int(len(self.x) * train_percentage)\n",
    "        self.val_size = int(len(self.x) * val_percentage)\n",
    "        self.test_size = int(len(self.x) * test_percentage)\n",
    "        \n",
    "        self.train_mean = self.x[:self.train_size].mean()\n",
    "        self.train_std = self.x[:self.train_size].std()\n",
    "        \n",
    "        self.train_min = self.x[:self.train_size].min()\n",
    "        self.train_max = self.x[:self.train_size].max()\n",
    "        \n",
    "    def __len__(self):\n",
    "        \n",
    "        if self.data_use_type == \"train\":\n",
    "            return self.train_size - ( self.seq_len)\n",
    "        \n",
    "        if self.data_use_type == \"val\":\n",
    "            return self.val_size\n",
    "        \n",
    "        else:\n",
    "            return self.test_size\n",
    "        \n",
    "    def __getitem__(self, index):\n",
    "        \n",
    "        if self.data_use_type ==\"val\":\n",
    "            index = self.train_size + index - self.seq_len\n",
    "            \n",
    "        elif self.data_use_type ==\"test\":\n",
    "            index = self.train_size + self.val_size + index - self.seq_len\n",
    "        \n",
    "        window = self.x[index:index+self.seq_len]\n",
    "        window = (window -self.train_mean) / self.train_std \n",
    "        \n",
    "        price_change = self.x[index+self.seq_len] - self.x[index+self.seq_len-1]\n",
    "        price_change =  2 if price_change == 0 else 1 if price_change >0 else 0 #2 değişmemesi, 1 artış, 0 düşüş\n",
    "        #burada 2 hiç gelmiyor N_CLASSES = 2 dediğinde run edince patlardı\n",
    "        return (window, price_change)"
   ]
  },
  {
   "cell_type": "code",
   "execution_count": 37,
   "metadata": {},
   "outputs": [],
   "source": [
    "train_dataset = TimeSeriesDataset(time_series, \"train\")\n",
    "val_dataset = TimeSeriesDataset(time_series, \"val\")\n",
    "test_dataset = TimeSeriesDataset(time_series, \"test\")"
   ]
  },
  {
   "cell_type": "code",
   "execution_count": 38,
   "metadata": {},
   "outputs": [
    {
     "data": {
      "text/plain": [
       "157"
      ]
     },
     "execution_count": 38,
     "metadata": {},
     "output_type": "execute_result"
    }
   ],
   "source": [
    "test_dataset.__len__()"
   ]
  },
  {
   "cell_type": "code",
   "execution_count": 39,
   "metadata": {},
   "outputs": [
    {
     "data": {
      "text/plain": [
       "array([1.09836066, 0.91780822])"
      ]
     },
     "execution_count": 39,
     "metadata": {},
     "output_type": "execute_result"
    }
   ],
   "source": [
    "#calculate loss' weights\n",
    "train_labels = [train_dataset[i][1] for i in range (train_dataset.__len__())]\n",
    "samples_size = pd.DataFrame({\"label\": train_labels}).groupby(\"label\").size().to_numpy()\n",
    "loss_weights = (1 / samples_size) * sum(samples_size)/2\n",
    "loss_weights"
   ]
  },
  {
   "cell_type": "code",
   "execution_count": 40,
   "metadata": {},
   "outputs": [],
   "source": [
    "class LSTM_based_classification_model(pl.LightningModule):\n",
    "    def __init__(self,\n",
    "                 train_dataset = train_dataset,\n",
    "                 val_dataset = val_dataset,\n",
    "                 test_dataset = test_dataset,\n",
    "                 weights = loss_weights,\n",
    "                 num_classes = N_CLASSES,\n",
    "                 window_size = WINDOW_SIZE,\n",
    "                 input_size = INPUT_FEATURE_SIZE,\n",
    "                 batch_size=8,\n",
    "                 lstm_hidden_size = 256,\n",
    "                 lstm_stack_size = 1,\n",
    "                 lstm_dropout = 0.2,\n",
    "                 bidirectional = False,\n",
    "                 ):\n",
    "        \n",
    "        super().__init__()\n",
    "        self.num_classes = num_classes\n",
    "        self.window_size = window_size\n",
    "        self.input_size = input_size\n",
    "        self.batch_size = batch_size\n",
    "        \n",
    "        self.lstm_hidden_size = lstm_hidden_size\n",
    "        self.lstm_stack_size = lstm_stack_size\n",
    "        self.lstm_dropout = lstm_dropout\n",
    "        self.bidirectional = bidirectional \n",
    "        \n",
    "#         self.stack_lstm = nn.LSTM(input_size = self.input_size, \n",
    "#                 hidden_size = self.lstm_hidden_size, \n",
    "#                 num_layers= self.lstm_stack_size,\n",
    "#                 dropout = self.lstm_dropout, # sadece stack arasına koyuyor\n",
    "#                 bidirectional = self.bidirectional, \n",
    "#                 batch_first=True,) \n",
    "        \n",
    "        self.lstm_1 = nn.LSTM(input_size = self.input_size, num_layers=1, batch_first=True, hidden_size = 256)\n",
    "        self.batch_norm1 = nn.BatchNorm2d(num_features=256)\n",
    "        \n",
    "        self.lstm_2 = nn.LSTM(input_size = 256, num_layers=1, batch_first=True, hidden_size = 128)\n",
    "        self.batch_norm2 = nn.BatchNorm2d(num_features=128)\n",
    "        \n",
    "        self.lstm_3 = nn.LSTM(input_size = 128, num_layers=1, batch_first=True, hidden_size = 64)\n",
    "        self.batch_norm3 = nn.BatchNorm2d(num_features=64)\n",
    "        \n",
    "        self.dropout = nn.Dropout(0.5)\n",
    "        \n",
    "        #         self.linear1 = nn.Linear(self.lstm_hidden_size, 128)\n",
    "        \n",
    "        self.linear1 = nn.Linear(64, 128)\n",
    "        \n",
    "        self.activation = nn.ReLU()\n",
    "        \n",
    "\n",
    "        self.output_layer = nn.Linear(128, self.num_classes)\n",
    "        \n",
    "        #self.cross_entropy_loss = nn.CrossEntropyLoss(weight= torch.tensor(weights).float()) # loss weight\n",
    "        self.cross_entropy_loss = nn.CrossEntropyLoss()\n",
    "        \n",
    "        self.f1_score = pl.metrics.F1(num_classes=self.num_classes, average=\"macro\")\n",
    "        self.accuracy_score = pl.metrics.Accuracy()\n",
    "        \n",
    "        self.train_dl = DataLoader(train_dataset, batch_size=self.batch_size, )\n",
    "        self.val_dl = DataLoader(val_dataset, batch_size=self.batch_size)\n",
    "        self.test_dl = DataLoader(test_dataset, batch_size=self.batch_size)\n",
    "        \n",
    "    def forward(self, x):\n",
    "        batch_size = x.size()[0]\n",
    "        \n",
    "        x = x.view(batch_size, self.window_size, self.input_size) #(batch, window_len, feature_size)\n",
    "        x, _  = self.lstm_1(x)\n",
    "        \n",
    "        x = x.reshape(256, batch_size, self.window_size) #(feature_size, batch, window_len)\n",
    "        x = self.batch_norm1(x.unsqueeze(0))\n",
    "        \n",
    "        x = x.view(batch_size, self.window_size, 256)\n",
    "        x, _  = self.lstm_2(x)\n",
    "        \n",
    "        x = x.reshape(128, batch_size, self.window_size) #(feature_size, batch, window_len)\n",
    "        x = self.batch_norm2(x.unsqueeze(0))\n",
    "        #         x, _ = self.lstm2(x)\n",
    "        \n",
    "        x = x.view(batch_size, self.window_size, 128)\n",
    "        x, _  = self.lstm_3(x)\n",
    "        \n",
    "        x = x.reshape(64, batch_size, self.window_size) #(feature_size, batch, window_len)\n",
    "        x = self.batch_norm3(x.unsqueeze(0))\n",
    "        \n",
    "        x = x.view(batch_size, self.window_size, 64)\n",
    "        x = x[:, -1, :] # equivalent to return sequence = False on keras :)\n",
    "        \n",
    "#         x = self.dropout(x)\n",
    "        \n",
    "        x = self.linear1(x)\n",
    "        x = self.activation(x)\n",
    "        \n",
    "#         x = self.linear2(x)\n",
    "#         x = self.activation(x)\n",
    "        x = self.dropout(x)\n",
    "            \n",
    "        output = self.output_layer(x)\n",
    "        \n",
    "        #output = F.log_softmax(output, dim = 1)\n",
    "        #output = F.softmax(output)\n",
    "        \n",
    "        return output\n",
    "    \n",
    "    def training_step(self, batch, batch_nb):\n",
    "        x, y = batch\n",
    "        output = self.forward(x)\n",
    "        #loss = F.nll_loss(output, y)\n",
    "        loss = self.cross_entropy_loss(output, y)\n",
    "        \n",
    "        self.log('train_loss', loss, on_epoch=True, prog_bar=True)\n",
    "        \n",
    "        acc = self.accuracy_score(torch.max(output, dim=1)[1], y)\n",
    "        self.log('train_acc', acc, on_epoch=True, prog_bar=True)\n",
    "        \n",
    "        f1 = self.f1_score(torch.max(output, dim=1)[1], y)\n",
    "        self.log('train_f1', f1, on_epoch=True, prog_bar=True)\n",
    "        \n",
    "        return loss\n",
    "    \n",
    "    def validation_step(self, batch, batch_nb):\n",
    "        x, y = batch\n",
    "        output = self(x)\n",
    "        #loss = F.nll_loss(output, y)\n",
    "        loss = self.cross_entropy_loss(output, y)\n",
    "        self.log('val_loss', loss, on_epoch=True, reduce_fx=torch.mean, prog_bar=True)\n",
    "        \n",
    "        #print(torch.max(output, dim=1)[1])\n",
    "        acc = self.accuracy_score(torch.max(output, dim=1)[1], y)\n",
    "        self.log('val_acc', acc, on_epoch=True, reduce_fx=torch.mean, prog_bar=True)\n",
    "        \n",
    "        f1 = self.f1_score(torch.max(output, dim=1)[1], y)\n",
    "        self.log('val_f1', f1, on_epoch=True, reduce_fx=torch.mean, prog_bar=True)\n",
    "        \n",
    "    def test_step(self, batch, batch_nb):\n",
    "        x, y = batch\n",
    "        output = self(x)\n",
    "        \n",
    "        #print(y, torch.max(output, dim=1)[1])\n",
    "        #print(output)\n",
    "        print(F.softmax(output)) # mantıken fark etmiyor\n",
    "        print(y, torch.max(output, dim=1)[1])\n",
    "        \n",
    "        #loss = F.nll_loss(output, y)\n",
    "        loss = self.cross_entropy_loss(output, y)\n",
    "        self.log('test_loss', loss, on_epoch=True, reduce_fx=torch.mean)\n",
    "        \n",
    "        acc = self.accuracy_score(torch.max(output, dim=1)[1], y)\n",
    "        self.log('test_acc', acc, on_epoch=True, reduce_fx=torch.mean)\n",
    "        \n",
    "        f1 = self.f1_score(torch.max(output, dim=1)[1], y)\n",
    "        self.log('test_f1', f1, on_epoch=True, reduce_fx=torch.mean)\n",
    "        \n",
    "    def configure_optimizers(self):\n",
    "        \n",
    "        optimizer = torch.optim.AdamW(model.parameters(), lr= 1e-3)#AdamW does weight decay\n",
    "        scheduler = torch.optim.lr_scheduler.StepLR(optimizer, step_size=10, gamma=0.1)\n",
    "\n",
    "        return [optimizer], [{\"scheduler\": scheduler}]\n",
    "    \n",
    "    def train_dataloader(self):\n",
    "        return self.train_dl\n",
    "\n",
    "    def val_dataloader(self):\n",
    "        return self.val_dl\n",
    "\n",
    "    def test_dataloader(self):\n",
    "        return self.test_dl"
   ]
  },
  {
   "cell_type": "code",
   "execution_count": 41,
   "metadata": {},
   "outputs": [],
   "source": [
    "!rm -rf ../output/models/lstm_v1/version_*"
   ]
  },
  {
   "cell_type": "code",
   "execution_count": 42,
   "metadata": {},
   "outputs": [],
   "source": [
    "#logger = WandbLogger(name='lstm.v4',project='pytorchlightning')\n",
    "logger = TensorBoardLogger(\"../output/models/lstm_model_logs\", name=\"lstm_v1\")"
   ]
  },
  {
   "cell_type": "code",
   "execution_count": 43,
   "metadata": {},
   "outputs": [
    {
     "name": "stderr",
     "output_type": "stream",
     "text": [
      "GPU available: True, used: True\n",
      "TPU available: False, using: 0 TPU cores\n"
     ]
    }
   ],
   "source": [
    "model = LSTM_based_classification_model(batch_size=8)\n",
    "trainer = pl.Trainer(gpus=-1, \n",
    "                     logger = logger)"
   ]
  },
  {
   "cell_type": "code",
   "execution_count": 45,
   "metadata": {},
   "outputs": [
    {
     "name": "stderr",
     "output_type": "stream",
     "text": [
      "LOCAL_RANK: 0 - CUDA_VISIBLE_DEVICES: [0]\n",
      "\n",
      "   | Name               | Type             | Params\n",
      "---------------------------------------------------------\n",
      "0  | lstm_1             | LSTM             | 265 K \n",
      "1  | batch_norm1        | BatchNorm2d      | 512   \n",
      "2  | lstm_2             | LSTM             | 197 K \n",
      "3  | batch_norm2        | BatchNorm2d      | 256   \n",
      "4  | lstm_3             | LSTM             | 49.7 K\n",
      "5  | batch_norm3        | BatchNorm2d      | 128   \n",
      "6  | dropout            | Dropout          | 0     \n",
      "7  | linear1            | Linear           | 8.3 K \n",
      "8  | activation         | ReLU             | 0     \n",
      "9  | output_layer       | Linear           | 258   \n",
      "10 | cross_entropy_loss | CrossEntropyLoss | 0     \n",
      "11 | f1_score           | F1               | 0     \n",
      "12 | accuracy_score     | Accuracy         | 0     \n",
      "---------------------------------------------------------\n",
      "521 K     Trainable params\n",
      "0         Non-trainable params\n",
      "521 K     Total params\n",
      "2.088     Total estimated model params size (MB)\n",
      "/home/aysenurk/anaconda3/lib/python3.8/site-packages/pytorch_lightning/utilities/distributed.py:68: UserWarning: The dataloader, val dataloader 0, does not have many workers which may be a bottleneck. Consider increasing the value of the `num_workers` argument` (try 8 which is the number of cpus on this machine) in the `DataLoader` init to improve performance.\n",
      "  warnings.warn(*args, **kwargs)\n"
     ]
    },
    {
     "data": {
      "application/vnd.jupyter.widget-view+json": {
       "model_id": "",
       "version_major": 2,
       "version_minor": 0
      },
      "text/plain": [
       "HBox(children=(HTML(value='Validation sanity check'), FloatProgress(value=1.0, bar_style='info', layout=Layout…"
      ]
     },
     "metadata": {},
     "output_type": "display_data"
    },
    {
     "name": "stderr",
     "output_type": "stream",
     "text": [
      "/home/aysenurk/anaconda3/lib/python3.8/site-packages/pytorch_lightning/utilities/distributed.py:68: UserWarning: The dataloader, train dataloader, does not have many workers which may be a bottleneck. Consider increasing the value of the `num_workers` argument` (try 8 which is the number of cpus on this machine) in the `DataLoader` init to improve performance.\n",
      "  warnings.warn(*args, **kwargs)\n"
     ]
    },
    {
     "data": {
      "application/vnd.jupyter.widget-view+json": {
       "model_id": "39aa3e62afcc4d14a2b153df04bc003d",
       "version_major": 2,
       "version_minor": 0
      },
      "text/plain": [
       "HBox(children=(HTML(value='Training'), FloatProgress(value=1.0, bar_style='info', layout=Layout(flex='2'), max…"
      ]
     },
     "metadata": {},
     "output_type": "display_data"
    },
    {
     "data": {
      "application/vnd.jupyter.widget-view+json": {
       "model_id": "",
       "version_major": 2,
       "version_minor": 0
      },
      "text/plain": [
       "HBox(children=(HTML(value='Validating'), FloatProgress(value=1.0, bar_style='info', layout=Layout(flex='2'), m…"
      ]
     },
     "metadata": {},
     "output_type": "display_data"
    },
    {
     "data": {
      "application/vnd.jupyter.widget-view+json": {
       "model_id": "",
       "version_major": 2,
       "version_minor": 0
      },
      "text/plain": [
       "HBox(children=(HTML(value='Validating'), FloatProgress(value=1.0, bar_style='info', layout=Layout(flex='2'), m…"
      ]
     },
     "metadata": {},
     "output_type": "display_data"
    },
    {
     "data": {
      "application/vnd.jupyter.widget-view+json": {
       "model_id": "",
       "version_major": 2,
       "version_minor": 0
      },
      "text/plain": [
       "HBox(children=(HTML(value='Validating'), FloatProgress(value=1.0, bar_style='info', layout=Layout(flex='2'), m…"
      ]
     },
     "metadata": {},
     "output_type": "display_data"
    },
    {
     "data": {
      "application/vnd.jupyter.widget-view+json": {
       "model_id": "",
       "version_major": 2,
       "version_minor": 0
      },
      "text/plain": [
       "HBox(children=(HTML(value='Validating'), FloatProgress(value=1.0, bar_style='info', layout=Layout(flex='2'), m…"
      ]
     },
     "metadata": {},
     "output_type": "display_data"
    },
    {
     "data": {
      "application/vnd.jupyter.widget-view+json": {
       "model_id": "",
       "version_major": 2,
       "version_minor": 0
      },
      "text/plain": [
       "HBox(children=(HTML(value='Validating'), FloatProgress(value=1.0, bar_style='info', layout=Layout(flex='2'), m…"
      ]
     },
     "metadata": {},
     "output_type": "display_data"
    },
    {
     "data": {
      "application/vnd.jupyter.widget-view+json": {
       "model_id": "",
       "version_major": 2,
       "version_minor": 0
      },
      "text/plain": [
       "HBox(children=(HTML(value='Validating'), FloatProgress(value=1.0, bar_style='info', layout=Layout(flex='2'), m…"
      ]
     },
     "metadata": {},
     "output_type": "display_data"
    },
    {
     "data": {
      "application/vnd.jupyter.widget-view+json": {
       "model_id": "",
       "version_major": 2,
       "version_minor": 0
      },
      "text/plain": [
       "HBox(children=(HTML(value='Validating'), FloatProgress(value=1.0, bar_style='info', layout=Layout(flex='2'), m…"
      ]
     },
     "metadata": {},
     "output_type": "display_data"
    },
    {
     "data": {
      "application/vnd.jupyter.widget-view+json": {
       "model_id": "",
       "version_major": 2,
       "version_minor": 0
      },
      "text/plain": [
       "HBox(children=(HTML(value='Validating'), FloatProgress(value=1.0, bar_style='info', layout=Layout(flex='2'), m…"
      ]
     },
     "metadata": {},
     "output_type": "display_data"
    },
    {
     "data": {
      "application/vnd.jupyter.widget-view+json": {
       "model_id": "",
       "version_major": 2,
       "version_minor": 0
      },
      "text/plain": [
       "HBox(children=(HTML(value='Validating'), FloatProgress(value=1.0, bar_style='info', layout=Layout(flex='2'), m…"
      ]
     },
     "metadata": {},
     "output_type": "display_data"
    },
    {
     "data": {
      "application/vnd.jupyter.widget-view+json": {
       "model_id": "",
       "version_major": 2,
       "version_minor": 0
      },
      "text/plain": [
       "HBox(children=(HTML(value='Validating'), FloatProgress(value=1.0, bar_style='info', layout=Layout(flex='2'), m…"
      ]
     },
     "metadata": {},
     "output_type": "display_data"
    },
    {
     "data": {
      "application/vnd.jupyter.widget-view+json": {
       "model_id": "",
       "version_major": 2,
       "version_minor": 0
      },
      "text/plain": [
       "HBox(children=(HTML(value='Validating'), FloatProgress(value=1.0, bar_style='info', layout=Layout(flex='2'), m…"
      ]
     },
     "metadata": {},
     "output_type": "display_data"
    },
    {
     "data": {
      "application/vnd.jupyter.widget-view+json": {
       "model_id": "",
       "version_major": 2,
       "version_minor": 0
      },
      "text/plain": [
       "HBox(children=(HTML(value='Validating'), FloatProgress(value=1.0, bar_style='info', layout=Layout(flex='2'), m…"
      ]
     },
     "metadata": {},
     "output_type": "display_data"
    },
    {
     "data": {
      "application/vnd.jupyter.widget-view+json": {
       "model_id": "",
       "version_major": 2,
       "version_minor": 0
      },
      "text/plain": [
       "HBox(children=(HTML(value='Validating'), FloatProgress(value=1.0, bar_style='info', layout=Layout(flex='2'), m…"
      ]
     },
     "metadata": {},
     "output_type": "display_data"
    },
    {
     "data": {
      "application/vnd.jupyter.widget-view+json": {
       "model_id": "",
       "version_major": 2,
       "version_minor": 0
      },
      "text/plain": [
       "HBox(children=(HTML(value='Validating'), FloatProgress(value=1.0, bar_style='info', layout=Layout(flex='2'), m…"
      ]
     },
     "metadata": {},
     "output_type": "display_data"
    },
    {
     "data": {
      "application/vnd.jupyter.widget-view+json": {
       "model_id": "",
       "version_major": 2,
       "version_minor": 0
      },
      "text/plain": [
       "HBox(children=(HTML(value='Validating'), FloatProgress(value=1.0, bar_style='info', layout=Layout(flex='2'), m…"
      ]
     },
     "metadata": {},
     "output_type": "display_data"
    },
    {
     "data": {
      "application/vnd.jupyter.widget-view+json": {
       "model_id": "",
       "version_major": 2,
       "version_minor": 0
      },
      "text/plain": [
       "HBox(children=(HTML(value='Validating'), FloatProgress(value=1.0, bar_style='info', layout=Layout(flex='2'), m…"
      ]
     },
     "metadata": {},
     "output_type": "display_data"
    },
    {
     "data": {
      "application/vnd.jupyter.widget-view+json": {
       "model_id": "",
       "version_major": 2,
       "version_minor": 0
      },
      "text/plain": [
       "HBox(children=(HTML(value='Validating'), FloatProgress(value=1.0, bar_style='info', layout=Layout(flex='2'), m…"
      ]
     },
     "metadata": {},
     "output_type": "display_data"
    },
    {
     "data": {
      "application/vnd.jupyter.widget-view+json": {
       "model_id": "",
       "version_major": 2,
       "version_minor": 0
      },
      "text/plain": [
       "HBox(children=(HTML(value='Validating'), FloatProgress(value=1.0, bar_style='info', layout=Layout(flex='2'), m…"
      ]
     },
     "metadata": {},
     "output_type": "display_data"
    },
    {
     "data": {
      "application/vnd.jupyter.widget-view+json": {
       "model_id": "",
       "version_major": 2,
       "version_minor": 0
      },
      "text/plain": [
       "HBox(children=(HTML(value='Validating'), FloatProgress(value=1.0, bar_style='info', layout=Layout(flex='2'), m…"
      ]
     },
     "metadata": {},
     "output_type": "display_data"
    },
    {
     "data": {
      "application/vnd.jupyter.widget-view+json": {
       "model_id": "",
       "version_major": 2,
       "version_minor": 0
      },
      "text/plain": [
       "HBox(children=(HTML(value='Validating'), FloatProgress(value=1.0, bar_style='info', layout=Layout(flex='2'), m…"
      ]
     },
     "metadata": {},
     "output_type": "display_data"
    },
    {
     "data": {
      "application/vnd.jupyter.widget-view+json": {
       "model_id": "",
       "version_major": 2,
       "version_minor": 0
      },
      "text/plain": [
       "HBox(children=(HTML(value='Validating'), FloatProgress(value=1.0, bar_style='info', layout=Layout(flex='2'), m…"
      ]
     },
     "metadata": {},
     "output_type": "display_data"
    },
    {
     "data": {
      "application/vnd.jupyter.widget-view+json": {
       "model_id": "",
       "version_major": 2,
       "version_minor": 0
      },
      "text/plain": [
       "HBox(children=(HTML(value='Validating'), FloatProgress(value=1.0, bar_style='info', layout=Layout(flex='2'), m…"
      ]
     },
     "metadata": {},
     "output_type": "display_data"
    },
    {
     "data": {
      "application/vnd.jupyter.widget-view+json": {
       "model_id": "",
       "version_major": 2,
       "version_minor": 0
      },
      "text/plain": [
       "HBox(children=(HTML(value='Validating'), FloatProgress(value=1.0, bar_style='info', layout=Layout(flex='2'), m…"
      ]
     },
     "metadata": {},
     "output_type": "display_data"
    },
    {
     "data": {
      "application/vnd.jupyter.widget-view+json": {
       "model_id": "",
       "version_major": 2,
       "version_minor": 0
      },
      "text/plain": [
       "HBox(children=(HTML(value='Validating'), FloatProgress(value=1.0, bar_style='info', layout=Layout(flex='2'), m…"
      ]
     },
     "metadata": {},
     "output_type": "display_data"
    },
    {
     "data": {
      "application/vnd.jupyter.widget-view+json": {
       "model_id": "",
       "version_major": 2,
       "version_minor": 0
      },
      "text/plain": [
       "HBox(children=(HTML(value='Validating'), FloatProgress(value=1.0, bar_style='info', layout=Layout(flex='2'), m…"
      ]
     },
     "metadata": {},
     "output_type": "display_data"
    },
    {
     "data": {
      "application/vnd.jupyter.widget-view+json": {
       "model_id": "",
       "version_major": 2,
       "version_minor": 0
      },
      "text/plain": [
       "HBox(children=(HTML(value='Validating'), FloatProgress(value=1.0, bar_style='info', layout=Layout(flex='2'), m…"
      ]
     },
     "metadata": {},
     "output_type": "display_data"
    },
    {
     "data": {
      "application/vnd.jupyter.widget-view+json": {
       "model_id": "",
       "version_major": 2,
       "version_minor": 0
      },
      "text/plain": [
       "HBox(children=(HTML(value='Validating'), FloatProgress(value=1.0, bar_style='info', layout=Layout(flex='2'), m…"
      ]
     },
     "metadata": {},
     "output_type": "display_data"
    },
    {
     "data": {
      "application/vnd.jupyter.widget-view+json": {
       "model_id": "",
       "version_major": 2,
       "version_minor": 0
      },
      "text/plain": [
       "HBox(children=(HTML(value='Validating'), FloatProgress(value=1.0, bar_style='info', layout=Layout(flex='2'), m…"
      ]
     },
     "metadata": {},
     "output_type": "display_data"
    },
    {
     "name": "stdout",
     "output_type": "stream",
     "text": [
      "\n"
     ]
    },
    {
     "name": "stderr",
     "output_type": "stream",
     "text": [
      "/home/aysenurk/anaconda3/lib/python3.8/site-packages/pytorch_lightning/utilities/distributed.py:68: UserWarning: Detected KeyboardInterrupt, attempting graceful shutdown...\n",
      "  warnings.warn(*args, **kwargs)\n"
     ]
    },
    {
     "data": {
      "text/plain": [
       "1"
      ]
     },
     "execution_count": 45,
     "metadata": {},
     "output_type": "execute_result"
    }
   ],
   "source": [
    "trainer.fit(model)"
   ]
  },
  {
   "cell_type": "code",
   "execution_count": 46,
   "metadata": {},
   "outputs": [
    {
     "name": "stderr",
     "output_type": "stream",
     "text": [
      "LOCAL_RANK: 0 - CUDA_VISIBLE_DEVICES: [0]\n",
      "/home/aysenurk/anaconda3/lib/python3.8/site-packages/pytorch_lightning/utilities/distributed.py:68: UserWarning: The dataloader, test dataloader 0, does not have many workers which may be a bottleneck. Consider increasing the value of the `num_workers` argument` (try 8 which is the number of cpus on this machine) in the `DataLoader` init to improve performance.\n",
      "  warnings.warn(*args, **kwargs)\n"
     ]
    },
    {
     "data": {
      "application/vnd.jupyter.widget-view+json": {
       "model_id": "2e8700b2f7bc4d3ba5a7d439f5716f9b",
       "version_major": 2,
       "version_minor": 0
      },
      "text/plain": [
       "HBox(children=(HTML(value='Testing'), FloatProgress(value=1.0, bar_style='info', layout=Layout(flex='2'), max=…"
      ]
     },
     "metadata": {},
     "output_type": "display_data"
    },
    {
     "name": "stderr",
     "output_type": "stream",
     "text": [
      "<ipython-input-40-1fa05d6bbe1e>:142: UserWarning: Implicit dimension choice for softmax has been deprecated. Change the call to include dim=X as an argument.\n",
      "  print(F.softmax(output)) # mantıken fark etmiyor\n"
     ]
    },
    {
     "name": "stdout",
     "output_type": "stream",
     "text": [
      "tensor([[0.4476, 0.5524],\n",
      "        [0.4478, 0.5522],\n",
      "        [0.4476, 0.5524],\n",
      "        [0.4486, 0.5514],\n",
      "        [0.4510, 0.5490],\n",
      "        [0.4483, 0.5517],\n",
      "        [0.4464, 0.5536],\n",
      "        [0.4481, 0.5519]], device='cuda:0')\n",
      "tensor([0, 0, 1, 1, 1, 1, 1, 0], device='cuda:0') tensor([1, 1, 1, 1, 1, 1, 1, 1], device='cuda:0')\n",
      "tensor([[0.4453, 0.5547],\n",
      "        [0.4450, 0.5550],\n",
      "        [0.4446, 0.5554],\n",
      "        [0.4456, 0.5544],\n",
      "        [0.4483, 0.5517],\n",
      "        [0.4457, 0.5543],\n",
      "        [0.4450, 0.5550],\n",
      "        [0.4466, 0.5534]], device='cuda:0')\n",
      "tensor([1, 0, 1, 0, 0, 0, 1, 1], device='cuda:0') tensor([1, 1, 1, 1, 1, 1, 1, 1], device='cuda:0')\n",
      "tensor([[0.4444, 0.5556],\n",
      "        [0.4444, 0.5556],\n",
      "        [0.4444, 0.5556],\n",
      "        [0.4453, 0.5547],\n",
      "        [0.4480, 0.5520],\n",
      "        [0.4454, 0.5546],\n",
      "        [0.4446, 0.5554],\n",
      "        [0.4462, 0.5538]], device='cuda:0')\n",
      "tensor([1, 0, 1, 1, 0, 1, 1, 0], device='cuda:0') tensor([1, 1, 1, 1, 1, 1, 1, 1], device='cuda:0')\n",
      "tensor([[0.4441, 0.5559],\n",
      "        [0.4442, 0.5558],\n",
      "        [0.4444, 0.5556],\n",
      "        [0.4455, 0.5545],\n",
      "        [0.4485, 0.5515],\n",
      "        [0.4458, 0.5542],\n",
      "        [0.4451, 0.5549],\n",
      "        [0.4467, 0.5533]], device='cuda:0')\n",
      "tensor([0, 0, 0, 0, 1, 1, 1, 1], device='cuda:0') tensor([1, 1, 1, 1, 1, 1, 1, 1], device='cuda:0')\n",
      "tensor([[0.4447, 0.5553],\n",
      "        [0.4445, 0.5555],\n",
      "        [0.4443, 0.5557],\n",
      "        [0.4452, 0.5548],\n",
      "        [0.4480, 0.5520],\n",
      "        [0.4449, 0.5551],\n",
      "        [0.4441, 0.5559],\n",
      "        [0.4457, 0.5543]], device='cuda:0')\n",
      "tensor([1, 1, 1, 1, 0, 0, 1, 0], device='cuda:0') tensor([1, 1, 1, 1, 1, 1, 1, 1], device='cuda:0')\n",
      "tensor([[0.4439, 0.5561],\n",
      "        [0.4437, 0.5563],\n",
      "        [0.4437, 0.5563],\n",
      "        [0.4447, 0.5553],\n",
      "        [0.4477, 0.5523],\n",
      "        [0.4446, 0.5554],\n",
      "        [0.4438, 0.5562],\n",
      "        [0.4454, 0.5546]], device='cuda:0')\n",
      "tensor([1, 1, 1, 1, 1, 1, 1, 1], device='cuda:0') tensor([1, 1, 1, 1, 1, 1, 1, 1], device='cuda:0')\n",
      "tensor([[0.4437, 0.5563],\n",
      "        [0.4431, 0.5569],\n",
      "        [0.4430, 0.5570],\n",
      "        [0.4441, 0.5559],\n",
      "        [0.4470, 0.5530],\n",
      "        [0.4440, 0.5560],\n",
      "        [0.4432, 0.5568],\n",
      "        [0.4448, 0.5552]], device='cuda:0')\n",
      "tensor([1, 1, 1, 0, 1, 1, 1, 1], device='cuda:0') tensor([1, 1, 1, 1, 1, 1, 1, 1], device='cuda:0')\n",
      "tensor([[0.4435, 0.5565],\n",
      "        [0.4424, 0.5576],\n",
      "        [0.4421, 0.5579],\n",
      "        [0.4433, 0.5567],\n",
      "        [0.4464, 0.5536],\n",
      "        [0.4431, 0.5569],\n",
      "        [0.4423, 0.5577],\n",
      "        [0.4443, 0.5557]], device='cuda:0')\n",
      "tensor([0, 0, 0, 0, 1, 1, 0, 0], device='cuda:0') tensor([1, 1, 1, 1, 1, 1, 1, 1], device='cuda:0')\n",
      "tensor([[0.4438, 0.5562],\n",
      "        [0.4424, 0.5576],\n",
      "        [0.4424, 0.5576],\n",
      "        [0.4441, 0.5559],\n",
      "        [0.4472, 0.5528],\n",
      "        [0.4436, 0.5564],\n",
      "        [0.4431, 0.5569],\n",
      "        [0.4456, 0.5544]], device='cuda:0')\n",
      "tensor([1, 0, 1, 0, 0, 1, 0, 1], device='cuda:0') tensor([1, 1, 1, 1, 1, 1, 1, 1], device='cuda:0')\n",
      "tensor([[0.4454, 0.5546],\n",
      "        [0.4430, 0.5570],\n",
      "        [0.4428, 0.5572],\n",
      "        [0.4449, 0.5551],\n",
      "        [0.4481, 0.5519],\n",
      "        [0.4441, 0.5559],\n",
      "        [0.4439, 0.5561],\n",
      "        [0.4466, 0.5534]], device='cuda:0')\n",
      "tensor([1, 0, 0, 1, 1, 0, 0, 1], device='cuda:0') tensor([1, 1, 1, 1, 1, 1, 1, 1], device='cuda:0')\n",
      "tensor([[0.4467, 0.5533],\n",
      "        [0.4442, 0.5558],\n",
      "        [0.4444, 0.5556],\n",
      "        [0.4468, 0.5532],\n",
      "        [0.4491, 0.5509],\n",
      "        [0.4458, 0.5542],\n",
      "        [0.4454, 0.5546],\n",
      "        [0.4479, 0.5521]], device='cuda:0')\n",
      "tensor([1, 1, 0, 1, 1, 0, 1, 1], device='cuda:0') tensor([1, 1, 1, 1, 1, 1, 1, 1], device='cuda:0')\n",
      "tensor([[0.4472, 0.5528],\n",
      "        [0.4451, 0.5549],\n",
      "        [0.4446, 0.5554],\n",
      "        [0.4468, 0.5532],\n",
      "        [0.4486, 0.5514],\n",
      "        [0.4463, 0.5537],\n",
      "        [0.4457, 0.5543],\n",
      "        [0.4485, 0.5515]], device='cuda:0')\n",
      "tensor([0, 1, 1, 0, 1, 0, 1, 1], device='cuda:0') tensor([1, 1, 1, 1, 1, 1, 1, 1], device='cuda:0')\n",
      "tensor([[0.4473, 0.5527],\n",
      "        [0.4464, 0.5536],\n",
      "        [0.4453, 0.5547],\n",
      "        [0.4480, 0.5520],\n",
      "        [0.4489, 0.5511],\n",
      "        [0.4509, 0.5491],\n",
      "        [0.4540, 0.5460],\n",
      "        [0.4560, 0.5440]], device='cuda:0')\n",
      "tensor([0, 1, 0, 1, 0, 0, 1, 0], device='cuda:0') tensor([1, 1, 1, 1, 1, 1, 1, 1], device='cuda:0')\n",
      "tensor([[0.4535, 0.5465],\n",
      "        [0.4562, 0.5438],\n",
      "        [0.4579, 0.5421],\n",
      "        [0.4624, 0.5376],\n",
      "        [0.4611, 0.5389],\n",
      "        [0.4662, 0.5338],\n",
      "        [0.4670, 0.5330],\n",
      "        [0.4698, 0.5302]], device='cuda:0')\n",
      "tensor([0, 1, 0, 1, 0, 1, 0, 1], device='cuda:0') tensor([1, 1, 1, 1, 1, 1, 1, 1], device='cuda:0')\n",
      "tensor([[0.4688, 0.5312],\n",
      "        [0.4700, 0.5300],\n",
      "        [0.4690, 0.5310],\n",
      "        [0.4718, 0.5282],\n",
      "        [0.4700, 0.5300],\n",
      "        [0.4732, 0.5268],\n",
      "        [0.4733, 0.5267],\n",
      "        [0.4757, 0.5243]], device='cuda:0')\n",
      "tensor([0, 1, 1, 1, 1, 1, 0, 1], device='cuda:0') tensor([1, 1, 1, 1, 1, 1, 1, 1], device='cuda:0')\n",
      "tensor([[0.4737, 0.5263],\n",
      "        [0.4741, 0.5259],\n",
      "        [0.4723, 0.5277],\n",
      "        [0.4743, 0.5257],\n",
      "        [0.4731, 0.5269],\n",
      "        [0.4748, 0.5252],\n",
      "        [0.4735, 0.5265],\n",
      "        [0.4765, 0.5235]], device='cuda:0')\n",
      "tensor([0, 0, 1, 1, 0, 1, 1, 0], device='cuda:0') tensor([1, 1, 1, 1, 1, 1, 1, 1], device='cuda:0')\n",
      "tensor([[0.4741, 0.5259],\n",
      "        [0.4744, 0.5256],\n",
      "        [0.4721, 0.5279],\n",
      "        [0.4739, 0.5261],\n",
      "        [0.4725, 0.5275],\n",
      "        [0.4746, 0.5254],\n",
      "        [0.4730, 0.5270],\n",
      "        [0.4763, 0.5237]], device='cuda:0')\n",
      "tensor([0, 1, 0, 0, 1, 1, 0, 1], device='cuda:0') tensor([1, 1, 1, 1, 1, 1, 1, 1], device='cuda:0')\n",
      "tensor([[0.4736, 0.5264],\n",
      "        [0.4730, 0.5270],\n",
      "        [0.4709, 0.5291],\n",
      "        [0.4729, 0.5271],\n",
      "        [0.4715, 0.5285],\n",
      "        [0.4729, 0.5271],\n",
      "        [0.4713, 0.5287],\n",
      "        [0.4734, 0.5266]], device='cuda:0')\n",
      "tensor([1, 0, 1, 0, 0, 1, 1, 0], device='cuda:0') tensor([1, 1, 1, 1, 1, 1, 1, 1], device='cuda:0')\n",
      "tensor([[0.4729, 0.5271],\n",
      "        [0.4707, 0.5293],\n",
      "        [0.4678, 0.5322],\n",
      "        [0.4700, 0.5300],\n",
      "        [0.4705, 0.5295],\n",
      "        [0.4688, 0.5312],\n",
      "        [0.4676, 0.5324],\n",
      "        [0.4679, 0.5321]], device='cuda:0')\n",
      "tensor([0, 1, 1, 1, 1, 1, 1, 0], device='cuda:0') tensor([1, 1, 1, 1, 1, 1, 1, 1], device='cuda:0')\n",
      "tensor([[0.4638, 0.5362],\n",
      "        [0.4515, 0.5485],\n",
      "        [0.4578, 0.5422],\n",
      "        [0.4596, 0.5404],\n",
      "        [0.4577, 0.5423]], device='cuda:0')\n",
      "tensor([1, 0, 0, 0, 0], device='cuda:0') tensor([1, 1, 1, 1, 1], device='cuda:0')\n",
      "\n",
      "--------------------------------------------------------------------------------\n",
      "DATALOADER:0 TEST RESULTS\n",
      "{'test_acc': 0.5796178579330444,\n",
      " 'test_f1': 0.35844093561172485,\n",
      " 'test_loss': 0.6828314661979675}\n",
      "--------------------------------------------------------------------------------\n"
     ]
    },
    {
     "data": {
      "text/plain": [
       "[{'test_loss': 0.6828314661979675,\n",
       "  'test_acc': 0.5796178579330444,\n",
       "  'test_f1': 0.35844093561172485}]"
      ]
     },
     "execution_count": 46,
     "metadata": {},
     "output_type": "execute_result"
    }
   ],
   "source": [
    "trainer.test()"
   ]
  },
  {
   "cell_type": "code",
   "execution_count": null,
   "metadata": {},
   "outputs": [],
   "source": [
    "test = TimeSeriesDataset(time_series, \"test\")\n",
    "labels = [test[i][1] for i in range(test.__len__())]"
   ]
  },
  {
   "cell_type": "code",
   "execution_count": null,
   "metadata": {},
   "outputs": [],
   "source": [
    "pd.DataFrame({\"label\": labels}).groupby(\"label\").size()"
   ]
  },
  {
   "cell_type": "code",
   "execution_count": null,
   "metadata": {},
   "outputs": [],
   "source": [
    "#dropout, batch normalization "
   ]
  },
  {
   "cell_type": "code",
   "execution_count": null,
   "metadata": {},
   "outputs": [],
   "source": [
    "183 / (183+131)"
   ]
  },
  {
   "cell_type": "code",
   "execution_count": null,
   "metadata": {},
   "outputs": [],
   "source": []
  }
 ],
 "metadata": {
  "kernelspec": {
   "display_name": "py3_multi_task_price_change_prediction",
   "language": "python",
   "name": "py3_multi_task_price_change_prediction"
  },
  "language_info": {
   "codemirror_mode": {
    "name": "ipython",
    "version": 3
   },
   "file_extension": ".py",
   "mimetype": "text/x-python",
   "name": "python",
   "nbconvert_exporter": "python",
   "pygments_lexer": "ipython3",
   "version": "3.8.5"
  }
 },
 "nbformat": 4,
 "nbformat_minor": 4
}
