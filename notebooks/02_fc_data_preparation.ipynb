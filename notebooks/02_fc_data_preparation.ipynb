{
 "cells": [
  {
   "cell_type": "code",
   "execution_count": 2,
   "metadata": {},
   "outputs": [],
   "source": [
    "import pandas as pd\n",
    "import numpy as np\n",
    "#import torch\n",
    "try:\n",
    "    from PyEMD import EEMD\n",
    "except:\n",
    "    !pip install EMD-signal\n",
    "    from PyEMD import EEMD\n",
    "    \n",
    "from ta import add_all_ta_features"
   ]
  },
  {
   "cell_type": "code",
   "execution_count": 92,
   "metadata": {},
   "outputs": [],
   "source": [
    "def get_data(currency_lst,\n",
    "             frequency, \n",
    "             window_size,\n",
    "             neutral_quantile = 0.25,\n",
    "             beg_date = pd.Timestamp(2013,1,1),\n",
    "             end_date = pd.Timestamp.now(),\n",
    "             log_price = True, \n",
    "             include_indicators = True,\n",
    "             include_imfs = True):\n",
    "        \n",
    "        currency_dfs = {}\n",
    "        for cur in currency_lst: \n",
    "            currency_dfs[cur] = pd.read_csv(f\"../data/0_raw/Binance/{str.lower(cur)}_usdt_1d.csv\", index_col=0)        \n",
    "        \n",
    "        for cur, df in currency_dfs.items():\n",
    "           \n",
    "            if include_indicators:\n",
    "                df = add_all_ta_features(df, \n",
    "                                         open=\"Open\", high=\"High\", low=\"Low\", close=\"Close\", volume=\"Volume\", \n",
    "                                         fillna=True).reset_index()\n",
    "            else:\n",
    "                df.drop(\"Volume\", axis=1, inplace=True)\n",
    "            \n",
    "            df.Date = df.Date.apply(pd.Timestamp)\n",
    "            df.sort_values(\"Date\", ascending=True, inplace=True)\n",
    "            df.set_index(\"Date\", inplace=True)\n",
    "            df.drop([\"Open\", \"High\", \"Low\"], axis=1, inplace=True)\n",
    "            df.rename(str.lower, axis=1, inplace=True)\n",
    "            \n",
    "            if log_price:\n",
    "                df[\"close\"] = df[\"close\"].apply(np.log)\n",
    "           \n",
    "            price_diff = df[\"close\"].diff().dropna()\n",
    "\n",
    "            rolling_quantiles = price_diff.abs().rolling(window_size).quantile(neutral_quantile)\n",
    "            rolling_quantiles.dropna(inplace=True)\n",
    "            conditions = [(price_diff[window_size-1:] < 0) & (price_diff[window_size-1:].abs() > rolling_quantiles),\n",
    "                          (price_diff[window_size-1:] > 0) & (price_diff[window_size-1:].abs() > rolling_quantiles)]\n",
    "\n",
    "            #1 is decrease, 2 is decrease\n",
    "            classes = [1,2] #0 is the default class if none of conditions is met\n",
    "\n",
    "            y = pd.DataFrame(np.select(conditions, classes, default=0), index=price_diff[window_size-1:].index)\n",
    "            df.insert(loc=0, column=\"change_dir\", value=y)\n",
    "      \n",
    "            if include_imfs:\n",
    "                eemd = EEMD()\n",
    "                imfs = eemd(df[PRICE_TYPE].values)\n",
    "                imf_features = [\"imf_\"+str(i) for i in range(imfs.shape[0])]\n",
    "                df = pd.concat((df, pd.DataFrame(imfs.T, columns=imf_features, index=df.index)), axis=1)\n",
    "                \n",
    "            currency_dfs[cur] = df\n",
    "\n",
    "        min_dates = [df.index.min() for cur, df in currency_dfs.items()]\n",
    "        max_dates = [df.index.max() for cur, df in currency_dfs.items()]\n",
    "        beg_date = max([max(min_dates), beg_date])\n",
    "        end_date = min([min(max_dates), end_date])\n",
    "        common_range = pd.date_range(beg_date, end_date, freq=frequency)\n",
    "        \n",
    "        arr = np.array([currency_dfs[cur].loc[common_range].values for cur in currency_lst])\n",
    "        features = df.columns.tolist()\n",
    "        \n",
    "        return arr, y, features, currency_dfs"
   ]
  },
  {
   "cell_type": "code",
   "execution_count": 90,
   "metadata": {},
   "outputs": [],
   "source": [
    "CURRENCY_LST = ['BTC', 'ETH', 'LTC']\n",
    "PRICE_TYPE = 'close'\n",
    "FREQUENCY = \"D\"\n",
    "WINDOW_SIZE = 50\n",
    "NEUTRAL_QUANTILE = 0.25"
   ]
  },
  {
   "cell_type": "code",
   "execution_count": 93,
   "metadata": {},
   "outputs": [],
   "source": [
    "arr, y, features, dfs = get_data(CURRENCY_LST,\n",
    "                                 FREQUENCY, \n",
    "                                 WINDOW_SIZE,\n",
    "                                 neutral_quantile = NEUTRAL_QUANTILE,\n",
    "                                 log_price=True,\n",
    "                                 include_indicators = False,\n",
    "                                 include_imfs = False\n",
    "                                )"
   ]
  },
  {
   "cell_type": "code",
   "execution_count": 96,
   "metadata": {},
   "outputs": [
    {
     "data": {
      "text/plain": [
       "(3, 1242, 2)"
      ]
     },
     "execution_count": 96,
     "metadata": {},
     "output_type": "execute_result"
    }
   ],
   "source": [
    "arr.shape"
   ]
  },
  {
   "cell_type": "code",
   "execution_count": 97,
   "metadata": {},
   "outputs": [
    {
     "data": {
      "text/html": [
       "<div>\n",
       "<style scoped>\n",
       "    .dataframe tbody tr th:only-of-type {\n",
       "        vertical-align: middle;\n",
       "    }\n",
       "\n",
       "    .dataframe tbody tr th {\n",
       "        vertical-align: top;\n",
       "    }\n",
       "\n",
       "    .dataframe thead th {\n",
       "        text-align: right;\n",
       "    }\n",
       "</style>\n",
       "<table border=\"1\" class=\"dataframe\">\n",
       "  <thead>\n",
       "    <tr style=\"text-align: right;\">\n",
       "      <th></th>\n",
       "      <th>change_dir</th>\n",
       "      <th>close</th>\n",
       "    </tr>\n",
       "    <tr>\n",
       "      <th>Date</th>\n",
       "      <th></th>\n",
       "      <th></th>\n",
       "    </tr>\n",
       "  </thead>\n",
       "  <tbody>\n",
       "    <tr>\n",
       "      <th>2017-10-05</th>\n",
       "      <td>NaN</td>\n",
       "      <td>8.364608</td>\n",
       "    </tr>\n",
       "    <tr>\n",
       "      <th>2017-10-06</th>\n",
       "      <td>2.0</td>\n",
       "      <td>8.382289</td>\n",
       "    </tr>\n",
       "  </tbody>\n",
       "</table>\n",
       "</div>"
      ],
      "text/plain": [
       "            change_dir     close\n",
       "Date                            \n",
       "2017-10-05         NaN  8.364608\n",
       "2017-10-06         2.0  8.382289"
      ]
     },
     "execution_count": 97,
     "metadata": {},
     "output_type": "execute_result"
    }
   ],
   "source": [
    "dfs['BTC'].iloc[WINDOW_SIZE-1:WINDOW_SIZE+1]"
   ]
  },
  {
   "cell_type": "code",
   "execution_count": 100,
   "metadata": {},
   "outputs": [],
   "source": [
    "N_CURRENCIES = 1\n",
    "INPUT_FEATURE_SIZE = 1\n",
    "WINDOW_SIZE = 50\n",
    "TRAIN_PERCENTAGE, VAL_PERCENTAGE, TEST_PERCENTAGE = 0.70, 0.15, 0.15"
   ]
  },
  {
   "cell_type": "code",
   "execution_count": 101,
   "metadata": {},
   "outputs": [],
   "source": [
    "class TimeSeriesDataset():\n",
    "    def __init__(self, \n",
    "                 x: np.ndarray, \n",
    "                 data_use_type,\n",
    "                 train_percentage = TRAIN_PERCENTAGE,\n",
    "                 val_percentage = VAL_PERCENTAGE,\n",
    "                 test_percentage = TEST_PERCENTAGE,\n",
    "                 seq_len = WINDOW_SIZE, \n",
    "                 ):\n",
    "        \n",
    "        self.x = torch.tensor(x).float()\n",
    "        self.seq_len = seq_len\n",
    "        \n",
    "        self.data_use_type = data_use_type\n",
    "        \n",
    "        #self.train_size = int(len(self.x) * train_percentage)\n",
    "        self.val_size = int(len(self.x) * val_percentage)\n",
    "        self.test_size = int(len(self.x) * test_percentage)\n",
    "        self.train_size = len(self.x) - self.val_size - self.test_size \n",
    "        \n",
    "    def __len__(self):\n",
    "        \n",
    "        if self.data_use_type == \"train\":\n",
    "            return self.train_size - self.seq_len\n",
    "        \n",
    "        if self.data_use_type == \"val\":\n",
    "            return self.val_size \n",
    "        else:\n",
    "            return self.test_size\n",
    "        \n",
    "    def __getitem__(self, index):\n",
    "        \n",
    "        if self.data_use_type ==\"val\":\n",
    "            index = self.train_size + index - self.seq_len\n",
    "            \n",
    "        elif self.data_use_type ==\"test\":\n",
    "            index = self.train_size + self.val_size + index - self.seq_len\n",
    "        \n",
    "        window = self.x[index:index+self.seq_len, 1]\n",
    "        price_change = self.x[index+self.seq_len, 0]\n",
    "        \n",
    "        return (window, price_change)"
   ]
  },
  {
   "cell_type": "code",
   "execution_count": 102,
   "metadata": {},
   "outputs": [],
   "source": [
    "a = TimeSeriesDataset(arr[0], 'train')\n",
    "b = TimeSeriesDataset(arr[0], 'val')\n",
    "c = TimeSeriesDataset(arr[0], 'test')"
   ]
  },
  {
   "cell_type": "code",
   "execution_count": 103,
   "metadata": {},
   "outputs": [
    {
     "data": {
      "text/plain": [
       "1242"
      ]
     },
     "execution_count": 103,
     "metadata": {},
     "output_type": "execute_result"
    }
   ],
   "source": [
    "len(a) + len(b) + len(c) + WINDOW_SIZE"
   ]
  },
  {
   "cell_type": "code",
   "execution_count": 104,
   "metadata": {},
   "outputs": [
    {
     "data": {
      "text/plain": [
       "(array([9.68242246, 9.7010641 , 9.77222957, 9.85758287, 9.84479962,\n",
       "        9.8445997 , 9.75818429, 9.71044756, 9.64812035, 9.49751807,\n",
       "        9.49551931, 9.51044496, 9.52510294, 9.66071575, 9.64601068,\n",
       "        9.55973659, 9.57351713, 9.42867317, 9.52634456, 9.50151633,\n",
       "        9.59390814, 9.61042503, 9.61976696, 9.7386359 , 9.74506551,\n",
       "        9.68967719, 9.60928695, 9.57498349, 9.60959222, 9.49090568,\n",
       "        9.52806729, 9.56170122, 9.50859065, 9.51339838, 9.29651807,\n",
       "        9.30463094, 9.30218729, 9.34792429, 9.45719576, 9.35270761,\n",
       "        9.28359548, 9.28722548, 9.33697214, 9.32145858, 9.3137089 ,\n",
       "        9.3493194 , 9.38260738, 9.32821229, 9.2338137 , 9.23845152]),\n",
       " 1.0)"
      ]
     },
     "execution_count": 104,
     "metadata": {},
     "output_type": "execute_result"
    }
   ],
   "source": [
    "a[0]"
   ]
  },
  {
   "cell_type": "code",
   "execution_count": null,
   "metadata": {},
   "outputs": [],
   "source": []
  }
 ],
 "metadata": {
  "kernelspec": {
   "display_name": "Python 3",
   "language": "python",
   "name": "python3"
  },
  "language_info": {
   "codemirror_mode": {
    "name": "ipython",
    "version": 3
   },
   "file_extension": ".py",
   "mimetype": "text/x-python",
   "name": "python",
   "nbconvert_exporter": "python",
   "pygments_lexer": "ipython3",
   "version": "3.8.3"
  }
 },
 "nbformat": 4,
 "nbformat_minor": 4
}
