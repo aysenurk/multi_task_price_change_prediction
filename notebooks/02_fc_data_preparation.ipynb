{
 "cells": [
  {
   "cell_type": "code",
   "execution_count": 1,
   "metadata": {},
   "outputs": [],
   "source": [
    "import pandas as pd\n",
    "import numpy as np\n",
    "import torch\n",
    "try:\n",
    "    from PyEMD import EEMD\n",
    "except:\n",
    "    !pip install EMD-signal\n",
    "    from PyEMD import EEMD"
   ]
  },
  {
   "cell_type": "code",
   "execution_count": 2,
   "metadata": {},
   "outputs": [],
   "source": [
    "def get_data(currency_lst,\n",
    "             frequency, \n",
    "             window_size,\n",
    "             neutral_quantile = 0.25,\n",
    "             beg_date = pd.Timestamp(2013,1,1),\n",
    "             end_date = pd.Timestamp.now(),\n",
    "             log_price = True, \n",
    "             include_indicators = True,\n",
    "             include_imfs = True):\n",
    "        \n",
    "        currency_dfs = {}\n",
    "        for cur in currency_lst: \n",
    "            currency_dfs[cur] = pd.read_csv(f\"../data/0_raw/Binance/{str.lower(cur)}_usdt_1d_indicators.csv\", index_col=0)\n",
    "        \n",
    "        for cur, df in currency_dfs.items():\n",
    "            df.Date = df.Date.apply(pd.Timestamp)\n",
    "            df.sort_values(\"Date\", ascending=True, inplace=True)\n",
    "            df.set_index(\"Date\", inplace=True)\n",
    "            df.drop([\"Timestamp\",\"Open\", \"High\", \"Low\"], axis=1, inplace=True)\n",
    "            df.rename(str.lower, axis=1, inplace=True)\n",
    "            \n",
    "            if log_price:\n",
    "                df[\"close\"] = df[\"close\"].apply(np.log)\n",
    "           \n",
    "            price_diff = df[\"close\"].diff().dropna()\n",
    "\n",
    "            rolling_quantiles = price_diff.abs().rolling(window_size).quantile(neutral_quantile)\n",
    "            rolling_quantiles.dropna(inplace=True)\n",
    "            conditions = [(price_diff[window_size-1:] < 0) & (price_diff[window_size-1:].abs() > rolling_quantiles),\n",
    "                          (price_diff[window_size-1:] > 0) & (price_diff[window_size-1:].abs() > rolling_quantiles)]\n",
    "\n",
    "            #1 is decrease, 2 is decrease\n",
    "            classes = [1,2] #0 is the default class if none of conditions is met\n",
    "\n",
    "            y = pd.DataFrame(np.select(conditions, classes, default=0), index=price_diff[window_size-1:].index)\n",
    "            df.insert(loc=0, column=\"change_dir\", value=y)\n",
    "            \n",
    "            if not include_indicators:\n",
    "                df = df[['change_dir', 'close']]\n",
    "            \n",
    "            if include_imfs:\n",
    "                eemd = EEMD()\n",
    "                imfs = eemd(df[PRICE_TYPE].values)\n",
    "                imf_features = [\"imf_\"+str(i) for i in range(imfs.shape[0])]\n",
    "                df = pd.concat((df, pd.DataFrame(imfs.T, columns=imf_features, index=df.index)), axis=1)\n",
    "                \n",
    "            currency_dfs[cur] = df\n",
    "\n",
    "        min_dates = [df.index.min() for cur, df in currency_dfs.items()]\n",
    "        max_dates = [df.index.max() for cur, df in currency_dfs.items()]\n",
    "        beg_date = max([max(min_dates), beg_date])\n",
    "        end_date = min([min(max_dates), end_date])\n",
    "        common_range = pd.date_range(beg_date, end_date, freq=frequency)\n",
    "        \n",
    "        arr = np.array([currency_dfs[cur].loc[common_range].values for cur in currency_lst])\n",
    "        features = df.columns.tolist()\n",
    "        \n",
    "        return arr, y, features, currency_dfs"
   ]
  },
  {
   "cell_type": "code",
   "execution_count": 18,
   "metadata": {},
   "outputs": [],
   "source": [
    "CURRENCY_LST = ['BTC', 'ETH']\n",
    "PRICE_TYPE = 'close'\n",
    "FREQUENCY = \"D\"\n",
    "WINDOW_SIZE = 50\n",
    "NEUTRAL_QUANTILE = 0.25"
   ]
  },
  {
   "cell_type": "code",
   "execution_count": 19,
   "metadata": {},
   "outputs": [],
   "source": [
    "arr, y, features, dfs = get_data(CURRENCY_LST,\n",
    "                                 FREQUENCY, \n",
    "                                 WINDOW_SIZE,\n",
    "                                 neutral_quantile = NEUTRAL_QUANTILE,\n",
    "                                 log_price=True,\n",
    "                                 include_indicators = False,\n",
    "                                 include_imfs = False\n",
    "                                )"
   ]
  },
  {
   "cell_type": "code",
   "execution_count": 60,
   "metadata": {},
   "outputs": [
    {
     "data": {
      "text/plain": [
       "(2, 1360, 2)"
      ]
     },
     "execution_count": 60,
     "metadata": {},
     "output_type": "execute_result"
    }
   ],
   "source": [
    "arr.shape"
   ]
  },
  {
   "cell_type": "code",
   "execution_count": 67,
   "metadata": {},
   "outputs": [
    {
     "data": {
      "text/html": [
       "<div>\n",
       "<style scoped>\n",
       "    .dataframe tbody tr th:only-of-type {\n",
       "        vertical-align: middle;\n",
       "    }\n",
       "\n",
       "    .dataframe tbody tr th {\n",
       "        vertical-align: top;\n",
       "    }\n",
       "\n",
       "    .dataframe thead th {\n",
       "        text-align: right;\n",
       "    }\n",
       "</style>\n",
       "<table border=\"1\" class=\"dataframe\">\n",
       "  <thead>\n",
       "    <tr style=\"text-align: right;\">\n",
       "      <th></th>\n",
       "      <th>change_dir</th>\n",
       "      <th>close</th>\n",
       "    </tr>\n",
       "    <tr>\n",
       "      <th>Date</th>\n",
       "      <th></th>\n",
       "      <th></th>\n",
       "    </tr>\n",
       "  </thead>\n",
       "  <tbody>\n",
       "    <tr>\n",
       "      <th>2017-10-05</th>\n",
       "      <td>NaN</td>\n",
       "      <td>8.364608</td>\n",
       "    </tr>\n",
       "    <tr>\n",
       "      <th>2017-10-06</th>\n",
       "      <td>2.0</td>\n",
       "      <td>8.382289</td>\n",
       "    </tr>\n",
       "  </tbody>\n",
       "</table>\n",
       "</div>"
      ],
      "text/plain": [
       "            change_dir     close\n",
       "Date                            \n",
       "2017-10-05         NaN  8.364608\n",
       "2017-10-06         2.0  8.382289"
      ]
     },
     "execution_count": 67,
     "metadata": {},
     "output_type": "execute_result"
    }
   ],
   "source": [
    "dfs['BTC'].iloc[WINDOW_SIZE-1:WINDOW_SIZE+1]"
   ]
  },
  {
   "cell_type": "code",
   "execution_count": 21,
   "metadata": {},
   "outputs": [],
   "source": [
    "N_CURRENCIES = 1\n",
    "INPUT_FEATURE_SIZE = 1\n",
    "WINDOW_SIZE = 50\n",
    "TRAIN_PERCENTAGE, VAL_PERCENTAGE, TEST_PERCENTAGE = 0.70, 0.15, 0.15"
   ]
  },
  {
   "cell_type": "code",
   "execution_count": 54,
   "metadata": {},
   "outputs": [],
   "source": [
    "class TimeSeriesDataset():\n",
    "    def __init__(self, \n",
    "                 x: np.ndarray, \n",
    "                 data_use_type,\n",
    "                 train_percentage = TRAIN_PERCENTAGE,\n",
    "                 val_percentage = VAL_PERCENTAGE,\n",
    "                 test_percentage = TEST_PERCENTAGE,\n",
    "                 seq_len = WINDOW_SIZE, \n",
    "                 ):\n",
    "        \n",
    "        self.x = torch.tensor(x).float()\n",
    "        self.seq_len = seq_len\n",
    "        \n",
    "        self.data_use_type = data_use_type\n",
    "        \n",
    "        #self.train_size = int(len(self.x) * train_percentage)\n",
    "        self.val_size = int(len(self.x) * val_percentage)\n",
    "        self.test_size = int(len(self.x) * test_percentage)\n",
    "        self.train_size = len(self.x) - self.val_size - self.test_size \n",
    "        \n",
    "    def __len__(self):\n",
    "        \n",
    "        if self.data_use_type == \"train\":\n",
    "            return self.train_size - self.seq_len\n",
    "        \n",
    "        if self.data_use_type == \"val\":\n",
    "            return self.val_size \n",
    "        else:\n",
    "            return self.test_size\n",
    "        \n",
    "    def __getitem__(self, index):\n",
    "        \n",
    "        if self.data_use_type ==\"val\":\n",
    "            index = self.train_size + index - self.seq_len\n",
    "            \n",
    "        elif self.data_use_type ==\"test\":\n",
    "            index = self.train_size + self.val_size + index - self.seq_len\n",
    "        \n",
    "        window = self.x[index:index+self.seq_len, 1]\n",
    "        price_change = self.x[index+self.seq_len, 0]\n",
    "        \n",
    "        return (window, price_change)"
   ]
  },
  {
   "cell_type": "code",
   "execution_count": 55,
   "metadata": {},
   "outputs": [
    {
     "data": {
      "text/plain": [
       "(2, 1360, 2)"
      ]
     },
     "execution_count": 55,
     "metadata": {},
     "output_type": "execute_result"
    }
   ],
   "source": [
    "arr.shape"
   ]
  },
  {
   "cell_type": "code",
   "execution_count": 56,
   "metadata": {},
   "outputs": [],
   "source": [
    "a = TimeSeriesDataset(arr[0], 'train')\n",
    "b = TimeSeriesDataset(arr[0], 'val')\n",
    "c = TimeSeriesDataset(arr[0], 'test')"
   ]
  },
  {
   "cell_type": "code",
   "execution_count": 68,
   "metadata": {},
   "outputs": [
    {
     "data": {
      "text/plain": [
       "1360"
      ]
     },
     "execution_count": 68,
     "metadata": {},
     "output_type": "execute_result"
    }
   ],
   "source": [
    "len(a) + len(b) + len(c) + WINDOW_SIZE"
   ]
  },
  {
   "cell_type": "code",
   "execution_count": 59,
   "metadata": {},
   "outputs": [
    {
     "data": {
      "text/plain": [
       "(array([8.3628945 , 8.32078164, 8.32844624, 8.31539275, 8.29804166,\n",
       "        8.30399997, 8.3221535 , 8.37008664, 8.36186715, 8.37503959,\n",
       "        8.3686955 , 8.38633024, 8.43108613, 8.42401154, 8.46059956,\n",
       "        8.48361779, 8.40562232, 8.41384842, 8.31876908, 8.38171018,\n",
       "        8.4381002 , 8.45353109, 8.36236228, 8.35674506, 8.32612227,\n",
       "        8.34485444, 8.33416418, 8.28012565, 8.06746894, 8.2160881 ,\n",
       "        8.2201205 , 8.2160854 , 8.30276406, 8.27130288, 8.26873183,\n",
       "        8.19146028, 8.18754124, 8.23747929, 8.20522389, 8.27403824,\n",
       "        8.26419592, 8.34117175, 8.33674987, 8.33679538, 8.38446376,\n",
       "        8.38445691, 8.384804  , 8.36869318, 8.34488295, 8.36460829]),\n",
       " 2.0)"
      ]
     },
     "execution_count": 59,
     "metadata": {},
     "output_type": "execute_result"
    }
   ],
   "source": [
    "a[0]"
   ]
  }
 ],
 "metadata": {
  "kernelspec": {
   "display_name": "Python 3",
   "language": "python",
   "name": "python3"
  },
  "language_info": {
   "codemirror_mode": {
    "name": "ipython",
    "version": 3
   },
   "file_extension": ".py",
   "mimetype": "text/x-python",
   "name": "python",
   "nbconvert_exporter": "python",
   "pygments_lexer": "ipython3",
   "version": "3.8.3"
  }
 },
 "nbformat": 4,
 "nbformat_minor": 4
}
