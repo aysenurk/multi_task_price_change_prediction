{
 "cells": [
  {
   "cell_type": "code",
   "execution_count": 3,
   "source": [
    "import pandas as pd\r\n",
    "import numpy as np\r\n",
    "import torch\r\n",
    "from torch.utils.data import DataLoader, Dataset\r\n",
    "from TimeSeriesLearningUtils import TimeSeriesDataset, get_data"
   ],
   "outputs": [],
   "metadata": {}
  },
  {
   "cell_type": "code",
   "execution_count": 5,
   "source": [
    "CURRENCY_LST = ['BTC', 'ETH', 'LTC']\r\n",
    "N_CLASSES = 3\r\n",
    "FREQUENCY = \"D\"\r\n",
    "WINDOW_SIZE = 50\r\n",
    "NEUTRAL_QUANTILE = 0.33"
   ],
   "outputs": [],
   "metadata": {}
  },
  {
   "cell_type": "code",
   "execution_count": 6,
   "source": [
    "X, y, features, dfs = get_data(currency_lst= CURRENCY_LST,\r\n",
    "                               data_frequency='1d',\r\n",
    "                               pred_frequency=FREQUENCY,\r\n",
    "                               n_classes= N_CLASSES, \r\n",
    "                               window_size=  WINDOW_SIZE,\r\n",
    "                               neutral_quantile = NEUTRAL_QUANTILE,\r\n",
    "                               log_price=True,\r\n",
    "                               remove_trend=True,\r\n",
    "                               ma_period=7,\r\n",
    "                               include_indicators = False,\r\n",
    "                               include_imfs = False,\r\n",
    "                               open_high_low_volume = False\r\n",
    "                               )"
   ],
   "outputs": [],
   "metadata": {}
  },
  {
   "cell_type": "code",
   "execution_count": 7,
   "source": [
    "(X.shape, y.shape)"
   ],
   "outputs": [
    {
     "output_type": "execute_result",
     "data": {
      "text/plain": [
       "((3, 1235, 1), (3, 1235))"
      ]
     },
     "metadata": {},
     "execution_count": 7
    }
   ],
   "metadata": {}
  },
  {
   "cell_type": "code",
   "execution_count": 8,
   "source": [
    "dfs['BTC']"
   ],
   "outputs": [
    {
     "output_type": "execute_result",
     "data": {
      "text/plain": [
       "            change_dir     close  pct_diff\n",
       "Timestamp                                 \n",
       "2017-08-24           1  0.047386  0.005760\n",
       "2017-08-25           2  0.033297 -0.000982\n",
       "2017-08-26           1  0.039814  0.001575\n",
       "2017-08-27           2  0.025855 -0.000757\n",
       "2017-08-28           1  0.030877  0.002107\n",
       "...                ...       ...       ...\n",
       "2021-05-03           2  0.019363  0.000950\n",
       "2021-05-04           0 -0.047812 -0.006569\n",
       "2021-05-05           1  0.022211  0.007041\n",
       "2021-05-06           0 -0.003484 -0.001671\n",
       "2021-05-07           2 -0.008315 -0.000863\n",
       "\n",
       "[1353 rows x 3 columns]"
      ],
      "text/html": [
       "<div>\n",
       "<style scoped>\n",
       "    .dataframe tbody tr th:only-of-type {\n",
       "        vertical-align: middle;\n",
       "    }\n",
       "\n",
       "    .dataframe tbody tr th {\n",
       "        vertical-align: top;\n",
       "    }\n",
       "\n",
       "    .dataframe thead th {\n",
       "        text-align: right;\n",
       "    }\n",
       "</style>\n",
       "<table border=\"1\" class=\"dataframe\">\n",
       "  <thead>\n",
       "    <tr style=\"text-align: right;\">\n",
       "      <th></th>\n",
       "      <th>change_dir</th>\n",
       "      <th>close</th>\n",
       "      <th>pct_diff</th>\n",
       "    </tr>\n",
       "    <tr>\n",
       "      <th>Timestamp</th>\n",
       "      <th></th>\n",
       "      <th></th>\n",
       "      <th></th>\n",
       "    </tr>\n",
       "  </thead>\n",
       "  <tbody>\n",
       "    <tr>\n",
       "      <th>2017-08-24</th>\n",
       "      <td>1</td>\n",
       "      <td>0.047386</td>\n",
       "      <td>0.005760</td>\n",
       "    </tr>\n",
       "    <tr>\n",
       "      <th>2017-08-25</th>\n",
       "      <td>2</td>\n",
       "      <td>0.033297</td>\n",
       "      <td>-0.000982</td>\n",
       "    </tr>\n",
       "    <tr>\n",
       "      <th>2017-08-26</th>\n",
       "      <td>1</td>\n",
       "      <td>0.039814</td>\n",
       "      <td>0.001575</td>\n",
       "    </tr>\n",
       "    <tr>\n",
       "      <th>2017-08-27</th>\n",
       "      <td>2</td>\n",
       "      <td>0.025855</td>\n",
       "      <td>-0.000757</td>\n",
       "    </tr>\n",
       "    <tr>\n",
       "      <th>2017-08-28</th>\n",
       "      <td>1</td>\n",
       "      <td>0.030877</td>\n",
       "      <td>0.002107</td>\n",
       "    </tr>\n",
       "    <tr>\n",
       "      <th>...</th>\n",
       "      <td>...</td>\n",
       "      <td>...</td>\n",
       "      <td>...</td>\n",
       "    </tr>\n",
       "    <tr>\n",
       "      <th>2021-05-03</th>\n",
       "      <td>2</td>\n",
       "      <td>0.019363</td>\n",
       "      <td>0.000950</td>\n",
       "    </tr>\n",
       "    <tr>\n",
       "      <th>2021-05-04</th>\n",
       "      <td>0</td>\n",
       "      <td>-0.047812</td>\n",
       "      <td>-0.006569</td>\n",
       "    </tr>\n",
       "    <tr>\n",
       "      <th>2021-05-05</th>\n",
       "      <td>1</td>\n",
       "      <td>0.022211</td>\n",
       "      <td>0.007041</td>\n",
       "    </tr>\n",
       "    <tr>\n",
       "      <th>2021-05-06</th>\n",
       "      <td>0</td>\n",
       "      <td>-0.003484</td>\n",
       "      <td>-0.001671</td>\n",
       "    </tr>\n",
       "    <tr>\n",
       "      <th>2021-05-07</th>\n",
       "      <td>2</td>\n",
       "      <td>-0.008315</td>\n",
       "      <td>-0.000863</td>\n",
       "    </tr>\n",
       "  </tbody>\n",
       "</table>\n",
       "<p>1353 rows × 3 columns</p>\n",
       "</div>"
      ]
     },
     "metadata": {},
     "execution_count": 8
    }
   ],
   "metadata": {}
  },
  {
   "cell_type": "code",
   "execution_count": 9,
   "source": [
    "#the first WINDOW_SIZE values of change direction will be seen as NaN \r\n",
    "\r\n",
    "dfs['BTC']['change_dir'].value_counts() / len(dfs['BTC'])"
   ],
   "outputs": [
    {
     "output_type": "execute_result",
     "data": {
      "text/plain": [
       "1    0.367332\n",
       "2    0.330377\n",
       "0    0.302291\n",
       "Name: change_dir, dtype: float64"
      ]
     },
     "metadata": {},
     "execution_count": 9
    }
   ],
   "metadata": {}
  },
  {
   "cell_type": "code",
   "execution_count": 8,
   "source": [
    "N_CURRENCIES = 3\r\n",
    "INPUT_FEATURE_SIZE = 1\r\n",
    "WINDOW_SIZE = 50\r\n",
    "TRAIN_PERCENTAGE, VAL_PERCENTAGE, TEST_PERCENTAGE = 0.70, 0.15, 0.15"
   ],
   "outputs": [],
   "metadata": {}
  },
  {
   "cell_type": "code",
   "execution_count": 10,
   "source": [
    "#datasets for the currency at 0 index of X\r\n",
    "train, val, test = [TimeSeriesDataset(X[0], y[0], dtype) for dtype in ['train', 'val', 'test']]"
   ],
   "outputs": [],
   "metadata": {}
  }
 ],
 "metadata": {
  "kernelspec": {
   "name": "python3",
   "display_name": "Python 3.8.3 64-bit ('base': conda)"
  },
  "language_info": {
   "codemirror_mode": {
    "name": "ipython",
    "version": 3
   },
   "file_extension": ".py",
   "mimetype": "text/x-python",
   "name": "python",
   "nbconvert_exporter": "python",
   "pygments_lexer": "ipython3",
   "version": "3.8.3"
  },
  "interpreter": {
   "hash": "cf5a346d587ec1341992060547c85a6411ea706a55887781b800d60fda342a75"
  }
 },
 "nbformat": 4,
 "nbformat_minor": 4
}