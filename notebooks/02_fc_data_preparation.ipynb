{
 "cells": [
  {
   "cell_type": "code",
   "execution_count": 1,
   "source": [
    "import pandas as pd\r\n",
    "import numpy as np\r\n",
    "import torch\r\n",
    "from torch.utils.data import DataLoader, Dataset\r\n",
    "from src.TimeSeriesLearningUtils import *\r\n",
    "from datetime import datetime"
   ],
   "outputs": [],
   "metadata": {}
  },
  {
   "cell_type": "code",
   "execution_count": 2,
   "source": [
    "def get_data(currency_list,\r\n",
    "             data_frequency,\r\n",
    "             pred_frequency, \r\n",
    "             num_classes,\r\n",
    "             window_size,\r\n",
    "             neutral_quantile = 0.33,\r\n",
    "             beg_date = pd.Timestamp(2017,1,1),\r\n",
    "             end_date = pd.Timestamp.now(),\r\n",
    "             log_price = True,\r\n",
    "             remove_trend = False,\r\n",
    "             decompose = False,\r\n",
    "             ma_period = 7, #in terms of days\r\n",
    "             indicators = False,\r\n",
    "             imfs = False,\r\n",
    "             ohlv = False,\r\n",
    "              **kwargs):\r\n",
    "\r\n",
    "        X, y, dfs = {}, {}, {}     \r\n",
    "        \r\n",
    "        for cur in currency_list:\r\n",
    "            df = pd.read_csv(f\"../data/0_raw/Binance/{str.lower(cur)}_usdt_{data_frequency}.csv\", header=None,index_col=0)\r\n",
    "            df.index = pd.to_datetime(df.index, unit='ms')\r\n",
    "            df.sort_index(inplace=True)\r\n",
    "            df.columns = [\"open\",\"high\",\"low\",\"close\",\"volume\"]\r\n",
    "            \r\n",
    "            if indicators:\r\n",
    "                from ta import add_all_ta_features\r\n",
    "                indicators_df = add_all_ta_features(df, open=\"open\", high=\"high\", low=\"low\", close=\"close\", volume=\"volume\", fillna=True)\r\n",
    "                df[indicators_df.columns] = indicators_df\r\n",
    "          \r\n",
    "            if imfs:\r\n",
    "                from PyEMD import EEMD\r\n",
    "                eemd = EEMD(parallel=True, processes=2)\r\n",
    "                imfs_result = eemd(df[\"close\"].values, max_imf=7)\r\n",
    "                imf_features = [\"imf_\"+str(i) for i in range(imfs_result.shape[0])]\r\n",
    "                df = pd.concat((df, pd.DataFrame(imfs_result.T, columns=imf_features, index=df.index)), axis=1)\r\n",
    "            \r\n",
    "            if log_price:\r\n",
    "                df[[\"close\", \"open\", \"high\", \"low\"]] = df[[\"close\", \"open\", \"high\", \"low\"]].apply(np.log, axis=1)\r\n",
    "                   \r\n",
    "            if num_classes == 3:\r\n",
    "                pct_diff = df['close'].pct_change()\r\n",
    "                quantile_value = pct_diff.abs().quantile(neutral_quantile).loc[neutral_quantile]\r\n",
    "                \r\n",
    "                conditions = [(pct_diff < 0) & (pct_diff.abs() > quantile_value),\r\n",
    "                              (pct_diff > 0) & (pct_diff.abs() > quantile_value)]\r\n",
    "\r\n",
    "                classes = [0,1] # 2 is the default class if none of conditions is met, i.e. price change in the neutral range\r\n",
    "            \r\n",
    "                change_dir = np.select(conditions, classes, default=2)\r\n",
    "            \r\n",
    "            else: \r\n",
    "                change_dir = df['close'].diff().apply(lambda x: 0 if x <= 0 else 1)\r\n",
    "            \r\n",
    "            df.insert(loc=0, column=\"change_dir\", value=change_dir)   \r\n",
    "            \r\n",
    "            if remove_trend:\r\n",
    "                #from statsmodels.tsa.seasonal import seasonal_decompose\r\n",
    "                #ma_period = ma_period if pred_frequency in ['d', 'D'] else ma_period * 4\r\n",
    "                #components = seasonal_decompose(df[\"close\"], model=\"additive\", period = ma_period, two_sided=False)\r\n",
    "                #df[\"close\"] -= components.trend\r\n",
    "                df['diff'] = df['close'].diff()\r\n",
    "                #df['diff'] = df['close'].pct_change()\r\n",
    "                if not decompose:\r\n",
    "                    df.drop('close', axis=1, inplace=True)  \r\n",
    "\r\n",
    "            if decompose: \r\n",
    "                from statsmodels.tsa.seasonal import seasonal_decompose\r\n",
    "                ma_period = ma_period if pred_frequency == '1d' else ma_period * 4 #if pred_frequency is 6h, then multiply the ma_period by 4 \r\n",
    "                components = seasonal_decompose(df[\"close\"], model=\"additive\", period = ma_period, two_sided=False)\r\n",
    "                df['trend'] = components.trend\r\n",
    "                df['residual'] = components.resid  \r\n",
    "                df['seasonal'] = components.seasonal\r\n",
    "\r\n",
    "            if ohlv: #keeping open, high, low, and volume\r\n",
    "                df[['open_d', 'high_d', 'low_d', 'volume_d']] = df[[\"open\", \"high\", \"low\", \"volume\"]].diff() \r\n",
    "            else:\r\n",
    "                df.drop([\"open\", \"high\", \"low\", \"volume\"], axis=1, inplace=True)\r\n",
    "            \r\n",
    "            dfs[cur] = df.dropna()\r\n",
    "        \r\n",
    "        min_dates = [df.index.min() for cur, df in dfs.items()]\r\n",
    "        max_dates = [df.index.max() for cur, df in dfs.items()]\r\n",
    "        beg_date = max([max(min_dates), beg_date])\r\n",
    "        end_date = min([min(max_dates), end_date])\r\n",
    "        common_range = pd.date_range(beg_date, end_date, freq=data_frequency)\r\n",
    "        \r\n",
    "        missing = set()\r\n",
    "        common_set = set(common_range)\r\n",
    "        for cur, df in dfs.items():\r\n",
    "            missing_steps = common_set.difference(df.index)\r\n",
    "            missing |= missing_steps\r\n",
    "        common_range = common_range.drop(missing)\r\n",
    "        \r\n",
    "        X = np.array([dfs[cur].loc[common_range].drop([\"change_dir\"], axis=1).values for cur in currency_list])\r\n",
    "        y = np.array([dfs[cur].loc[common_range, \"change_dir\"].values for cur in currency_list])\r\n",
    "        features = df.columns.tolist()\r\n",
    "        features.remove(\"change_dir\")\r\n",
    "\r\n",
    "        return X, y, features, dfs, common_range"
   ],
   "outputs": [],
   "metadata": {}
  },
  {
   "cell_type": "code",
   "execution_count": 3,
   "source": [
    "def get_data2(currency_list,\r\n",
    "             data_frequency,\r\n",
    "             pred_frequency,\r\n",
    "             num_classes,\r\n",
    "             window_size,\r\n",
    "             neutral_quantile = 0.33,\r\n",
    "             beg_date = pd.Timestamp(2017,1,1),\r\n",
    "             end_date = pd.Timestamp.now(),\r\n",
    "             log_price = True,\r\n",
    "             remove_trend = False,\r\n",
    "             ma_period = 0,\r\n",
    "             include_indicators = False,\r\n",
    "             include_imfs = False,\r\n",
    "             ohlv = False,\r\n",
    "             drop_missing = True,\r\n",
    "              **kwargs):\r\n",
    "\r\n",
    "        X, y, dfs = {}, {}, {}     \r\n",
    "        \r\n",
    "        for cur in currency_list:\r\n",
    "            df = pd.read_csv(f\"../data/0_raw/Binance/{str.lower(cur)}_usdt_{data_frequency}.csv\", header=None,index_col=0)\r\n",
    "            df.index = pd.to_datetime(df.index, unit='ms')\r\n",
    "            df.sort_index(inplace=True)\r\n",
    "            df.columns = [\"open\",\"high\",\"low\",\"close\",\"volume\"]\r\n",
    "            \r\n",
    "            if include_indicators:\r\n",
    "                from ta import add_all_ta_features\r\n",
    "                indicators_df = add_all_ta_features(df, open=\"open\", high=\"high\", low=\"low\", close=\"close\", volume=\"volume\", fillna=True)\r\n",
    "                df[indicators_df.columns] = indicators_df\r\n",
    "            \r\n",
    "            if include_imfs:\r\n",
    "                from PyEMD import EEMD\r\n",
    "                eemd = EEMD(parallel=True, processes=2)\r\n",
    "                imfs = eemd(df[\"close\"].values, max_imf=7)\r\n",
    "                imf_features = [\"imf_\"+str(i) for i in range(imfs.shape[0])]\r\n",
    "                df = pd.concat((df, pd.DataFrame(imfs.T, columns=imf_features, index=df.index)), axis=1)\r\n",
    "            \r\n",
    "            if log_price:\r\n",
    "                df[[\"close\", \"open\", \"high\", \"low\"]] = df[[\"close\", \"open\", \"high\", \"low\"]].apply(np.log, axis=1)\r\n",
    "                   \r\n",
    "            if num_classes == 3:\r\n",
    "                df['pct_diff'] = df['close'].pct_change()\r\n",
    "                neutral_quantiles = df['pct_diff'].abs().quantile(neutral_quantile).loc[neutral_quantile]\r\n",
    "\r\n",
    "                conditions = [(df['pct_diff'] < 0) & (df['pct_diff'].abs() > neutral_quantiles),\r\n",
    "                              (df['pct_diff'] > 0) & (df['pct_diff'].abs() > neutral_quantiles)]\r\n",
    "\r\n",
    "                classes = [0,1] # 2 is the default class if none of conditions is met, i.e. price change in the neutral range\r\n",
    "            \r\n",
    "                change_dir = np.select(conditions, classes, default=2)\r\n",
    "            \r\n",
    "            else:\r\n",
    "                df['diff'] = df['close'].diff()\r\n",
    "                change_dir = df['diff'].apply(lambda x: 0 if x <= 0 else 1)\r\n",
    "            \r\n",
    "            df.insert(loc=0, column=\"change_dir\", value=change_dir)   \r\n",
    "            df.dropna(inplace=True)  \r\n",
    "            \r\n",
    "            if remove_trend:\r\n",
    "                from statsmodels.tsa.seasonal import seasonal_decompose\r\n",
    "                components = seasonal_decompose(df[\"close\"].values, period=3, model=\"additive\")#, period = ma_period, two_sided=False)\r\n",
    "                df[\"close\"] -= components.trend\r\n",
    "                df.dropna(inplace=True)\r\n",
    "                \r\n",
    "            if not ohlv: #keeping open, high, low, and volume\r\n",
    "                df.drop([\"open\", \"high\", \"low\", \"volume\"], axis=1, inplace=True)\r\n",
    "\r\n",
    "            dfs[cur] = df\r\n",
    "        \r\n",
    "        min_dates = [df.index.min() for cur, df in dfs.items()]\r\n",
    "        max_dates = [df.index.max() for cur, df in dfs.items()]\r\n",
    "        beg_date = max([max(min_dates), beg_date])\r\n",
    "        end_date = min([min(max_dates), end_date])\r\n",
    "        common_range = pd.date_range(beg_date, end_date, freq=data_frequency)\r\n",
    "        \r\n",
    "        missing = set()\r\n",
    "        common_set = set(common_range)\r\n",
    "        for cur, df in dfs.items():\r\n",
    "            missing_steps = common_set.difference(df.index)\r\n",
    "            missing |= missing_steps\r\n",
    "        common_range = common_range.drop(missing)\r\n",
    "        \r\n",
    "        diff_col = 'pct_diff' if num_classes == 3 else 'diff'\r\n",
    "\r\n",
    "        X = np.array([dfs[cur].loc[common_range].drop([\"change_dir\", diff_col], axis=1).values for cur in currency_list])\r\n",
    "        y = np.array([dfs[cur].loc[common_range, \"change_dir\"].values for cur in currency_list])\r\n",
    "        features = df.columns.tolist()\r\n",
    "        features.remove(\"change_dir\")\r\n",
    "        \r\n",
    "        return X, y, features, dfs, common_range"
   ],
   "outputs": [],
   "metadata": {}
  },
  {
   "cell_type": "code",
   "execution_count": 7,
   "source": [
    "CURRENCY_LST = ['BTC', 'ETH', 'LTC', 'XRP', 'ADA']\r\n",
    "num_classes = 2\r\n",
    "DATA_FREQ = '1d'\r\n",
    "PRED_FREQ = '1d'\r\n",
    "WINDOW_SIZE = 400\r\n",
    "NEUTRAL_QUANTILE = 0.33,\r\n",
    "dataset_percentages = [0.90, 0.0, 0.1]\r\n",
    "train_pct = 0.9\r\n",
    "LOOK_AHEAD = 3"
   ],
   "outputs": [],
   "metadata": {}
  },
  {
   "cell_type": "code",
   "execution_count": 8,
   "source": [
    "X, y, features, dfs, common_range = get_data(currency_list= CURRENCY_LST,\r\n",
    "                               data_frequency=DATA_FREQ,\r\n",
    "                               pred_frequency=PRED_FREQ,\r\n",
    "                               num_classes = num_classes, \r\n",
    "                               window_size = WINDOW_SIZE,\r\n",
    "                               neutral_quantile = NEUTRAL_QUANTILE,\r\n",
    "                               log_price = True,\r\n",
    "                               remove_trend = True,\r\n",
    "                               ma_period = 7,\r\n",
    "                               indicators = False,\r\n",
    "                               imfs = False,\r\n",
    "                               decompose = False,\r\n",
    "                               ohlv = False,\r\n",
    "                               beg_date = pd.Timestamp(2017,1,1),\r\n",
    "                               end_date = pd.Timestamp(2022,1,1))\r\n",
    "\r\n",
    "train_dataset, val_dataset, test_dataset = [TimeSeriesDataset(X, y, dtype, CURRENCY_LST, dataset_percentages, WINDOW_SIZE, DATA_FREQ, PRED_FREQ) for dtype in ['train', 'val', 'test']]"
   ],
   "outputs": [],
   "metadata": {}
  },
  {
   "cell_type": "code",
   "execution_count": 12,
   "source": [
    "X.shape"
   ],
   "outputs": [
    {
     "output_type": "execute_result",
     "data": {
      "text/plain": [
       "(5, 1197, 1)"
      ]
     },
     "metadata": {},
     "execution_count": 12
    }
   ],
   "metadata": {}
  },
  {
   "cell_type": "code",
   "execution_count": 7,
   "source": [
    "df = dfs['BTC']\r\n",
    "df.describe()"
   ],
   "outputs": [
    {
     "output_type": "execute_result",
     "data": {
      "text/html": [
       "<div>\n",
       "<style scoped>\n",
       "    .dataframe tbody tr th:only-of-type {\n",
       "        vertical-align: middle;\n",
       "    }\n",
       "\n",
       "    .dataframe tbody tr th {\n",
       "        vertical-align: top;\n",
       "    }\n",
       "\n",
       "    .dataframe thead th {\n",
       "        text-align: right;\n",
       "    }\n",
       "</style>\n",
       "<table border=\"1\" class=\"dataframe\">\n",
       "  <thead>\n",
       "    <tr style=\"text-align: right;\">\n",
       "      <th></th>\n",
       "      <th>change_dir</th>\n",
       "      <th>diff</th>\n",
       "    </tr>\n",
       "  </thead>\n",
       "  <tbody>\n",
       "    <tr>\n",
       "      <th>count</th>\n",
       "      <td>1460.000000</td>\n",
       "      <td>1460.000000</td>\n",
       "    </tr>\n",
       "    <tr>\n",
       "      <th>mean</th>\n",
       "      <td>0.530822</td>\n",
       "      <td>0.001648</td>\n",
       "    </tr>\n",
       "    <tr>\n",
       "      <th>std</th>\n",
       "      <td>0.499220</td>\n",
       "      <td>0.043587</td>\n",
       "    </tr>\n",
       "    <tr>\n",
       "      <th>min</th>\n",
       "      <td>0.000000</td>\n",
       "      <td>-0.502607</td>\n",
       "    </tr>\n",
       "    <tr>\n",
       "      <th>25%</th>\n",
       "      <td>0.000000</td>\n",
       "      <td>-0.015750</td>\n",
       "    </tr>\n",
       "    <tr>\n",
       "      <th>50%</th>\n",
       "      <td>1.000000</td>\n",
       "      <td>0.001810</td>\n",
       "    </tr>\n",
       "    <tr>\n",
       "      <th>75%</th>\n",
       "      <td>1.000000</td>\n",
       "      <td>0.019939</td>\n",
       "    </tr>\n",
       "    <tr>\n",
       "      <th>max</th>\n",
       "      <td>1.000000</td>\n",
       "      <td>0.202952</td>\n",
       "    </tr>\n",
       "  </tbody>\n",
       "</table>\n",
       "</div>"
      ],
      "text/plain": [
       "        change_dir         diff\n",
       "count  1460.000000  1460.000000\n",
       "mean      0.530822     0.001648\n",
       "std       0.499220     0.043587\n",
       "min       0.000000    -0.502607\n",
       "25%       0.000000    -0.015750\n",
       "50%       1.000000     0.001810\n",
       "75%       1.000000     0.019939\n",
       "max       1.000000     0.202952"
      ]
     },
     "metadata": {},
     "execution_count": 7
    }
   ],
   "metadata": {}
  },
  {
   "cell_type": "code",
   "execution_count": 13,
   "source": [
    "def rolling_window(a, window):\r\n",
    "    shape = a.shape[:-1] + (a.shape[-1] - window + 1, window)\r\n",
    "    strides = a.strides + (a.strides[-1],)\r\n",
    "    return np.lib.stride_tricks.as_strided(a, shape=shape, strides=strides)"
   ],
   "outputs": [],
   "metadata": {}
  },
  {
   "cell_type": "code",
   "execution_count": 14,
   "source": [
    "from sklearn.ensemble import RandomForestClassifier, GradientBoostingClassifier\r\n",
    "from sklearn.linear_model import LogisticRegression, RidgeClassifier\r\n",
    "from sklearn.preprocessing import StandardScaler, MinMaxScaler\r\n",
    "from xgboost import XGBClassifier"
   ],
   "outputs": [],
   "metadata": {}
  },
  {
   "cell_type": "code",
   "execution_count": 15,
   "source": [
    "LOOK_AHEAD=6\r\n",
    "data = {}\r\n",
    "for i, cur in enumerate(CURRENCY_LST):\r\n",
    "    seq_X = rolling_window(X[i].squeeze(), WINDOW_SIZE)[:-1]\r\n",
    "    \r\n",
    "    train_size = int(len(seq_X) * train_pct)\r\n",
    "    test_size = len(seq_X) - train_size\r\n",
    "\r\n",
    "    data[cur] = pd.DataFrame(np.hstack((seq_X, y[i][WINDOW_SIZE:].reshape(-1,1))))\r\n",
    "    X_train = seq_X[:train_size]\r\n",
    "    X_test = seq_X[train_size-WINDOW_SIZE:]\r\n",
    "    scaler = StandardScaler()\r\n",
    "    X_train = scaler.fit_transform(X_train)\r\n",
    "    X_test = scaler.transform(X_test)\r\n",
    "    y_train = y[i][WINDOW_SIZE:train_size+WINDOW_SIZE]\r\n",
    "    y_test = y[i][train_size:]\r\n",
    "    lr = LogisticRegression()\r\n",
    "    lr.fit(X_train[:-LOOK_AHEAD], y_train[LOOK_AHEAD:])\r\n",
    "    print(cur)\r\n",
    "    #print(lr.coef_)\r\n",
    "    print(lr.score(X_train[:-LOOK_AHEAD], y_train[LOOK_AHEAD:]))\r\n",
    "    print(lr.score(X_test[:-LOOK_AHEAD], y_test[LOOK_AHEAD:]))"
   ],
   "outputs": [
    {
     "output_type": "stream",
     "name": "stdout",
     "text": [
      "BTC\n",
      "0.9353023909985936\n",
      "0.8734177215189873\n",
      "ETH\n",
      "0.9563994374120957\n",
      "0.8881856540084389\n",
      "LTC\n",
      "0.929676511954993\n",
      "0.8586497890295358\n",
      "XRP\n",
      "0.8987341772151899\n",
      "0.8396624472573839\n",
      "ADA\n",
      "0.9240506329113924\n",
      "0.8502109704641351\n"
     ]
    }
   ],
   "metadata": {}
  },
  {
   "cell_type": "code",
   "execution_count": 16,
   "source": [
    "data = {}\r\n",
    "for i, cur in enumerate(CURRENCY_LST):\r\n",
    "    seq_X = rolling_window(X[i].squeeze(), WINDOW_SIZE)[:-1]\r\n",
    "\r\n",
    "    train_size = int(len(seq_X) * train_pct)\r\n",
    "    test_size = len(seq_X) - train_size\r\n",
    "\r\n",
    "    data[cur] = pd.DataFrame(np.hstack((seq_X, y[i][WINDOW_SIZE:].reshape(-1,1))))\r\n",
    "    X_train = seq_X[:train_size]\r\n",
    "    X_test = seq_X[train_size-WINDOW_SIZE:]\r\n",
    "    scaler = StandardScaler()\r\n",
    "    X_train = scaler.fit_transform(X_train)\r\n",
    "    X_test = scaler.transform(X_test)\r\n",
    "    \r\n",
    "    y_train = y[i][WINDOW_SIZE:train_size+WINDOW_SIZE]\r\n",
    "    y_test = y[i][train_size:]\r\n",
    "    lr = LogisticRegression(max_iter=1000)\r\n",
    "    lr.fit(X_train, y_train)\r\n",
    "    print(cur)\r\n",
    "    #print(lr.coef_)\r\n",
    "    print(lr.score(X_train, y_train))\r\n",
    "    print(lr.score(X_test, y_test))"
   ],
   "outputs": [
    {
     "output_type": "stream",
     "name": "stdout",
     "text": [
      "BTC\n",
      "0.9274755927475593\n",
      "0.8770833333333333\n",
      "ETH\n",
      "0.9567642956764296\n",
      "0.8916666666666667\n",
      "LTC\n",
      "0.9400278940027894\n",
      "0.8541666666666666\n",
      "XRP\n",
      "0.9316596931659693\n",
      "0.8645833333333334\n",
      "ADA\n",
      "0.9567642956764296\n",
      "0.88125\n"
     ]
    }
   ],
   "metadata": {}
  },
  {
   "cell_type": "code",
   "execution_count": 17,
   "source": [
    "data = {}\r\n",
    "for i, cur in enumerate(CURRENCY_LST):\r\n",
    "    seq_X = rolling_window(X[i].squeeze(), WINDOW_SIZE)[:-1]\r\n",
    "    \r\n",
    "    train_size = int(len(seq_X) * train_pct)\r\n",
    "    test_size = len(seq_X) - train_size\r\n",
    "\r\n",
    "    data[cur] = pd.DataFrame(np.hstack((seq_X, y[i][WINDOW_SIZE:].reshape(-1,1))))\r\n",
    "    X_train = seq_X[:train_size]\r\n",
    "    X_test = seq_X[train_size-WINDOW_SIZE:]\r\n",
    "    \r\n",
    "    scaler = StandardScaler()\r\n",
    "    X_train = scaler.fit_transform(X_train)\r\n",
    "    X_test = scaler.transform(X_test)\r\n",
    "    \r\n",
    "    y_train = y[i][WINDOW_SIZE:train_size+WINDOW_SIZE]\r\n",
    "    y_test = y[i][train_size:]\r\n",
    "    rf = RandomForestClassifier(n_estimators=100, class_weight='balanced', n_jobs=-1)\r\n",
    "    rf.fit(X_train, y_train)\r\n",
    "    print(cur)\r\n",
    "    print(rf.score(X_train, y_train))\r\n",
    "    print(rf.score(X_test, y_test))"
   ],
   "outputs": [
    {
     "output_type": "stream",
     "name": "stdout",
     "text": [
      "BTC\n",
      "1.0\n",
      "0.9166666666666666\n",
      "ETH\n",
      "1.0\n",
      "0.9354166666666667\n",
      "LTC\n",
      "1.0\n",
      "0.9104166666666667\n",
      "XRP\n",
      "1.0\n",
      "0.9104166666666667\n",
      "ADA\n",
      "1.0\n",
      "0.9166666666666666\n"
     ]
    }
   ],
   "metadata": {}
  },
  {
   "cell_type": "code",
   "execution_count": 18,
   "source": [
    "pd.DataFrame(rf.feature_importances_).hist()"
   ],
   "outputs": [
    {
     "output_type": "execute_result",
     "data": {
      "text/plain": [
       "array([[<AxesSubplot:title={'center':'0'}>]], dtype=object)"
      ]
     },
     "metadata": {},
     "execution_count": 18
    },
    {
     "output_type": "display_data",
     "data": {
      "image/png": "[encoded data removed]",
      "text/plain": [
       "<Figure size 432x288 with 1 Axes>"
      ]
     },
     "metadata": {
      "needs_background": "light"
     }
    }
   ],
   "metadata": {}
  },
  {
   "cell_type": "code",
   "execution_count": 19,
   "source": [
    "np.argmax(rf.feature_importances_)"
   ],
   "outputs": [
    {
     "output_type": "execute_result",
     "data": {
      "text/plain": [
       "399"
      ]
     },
     "metadata": {},
     "execution_count": 19
    }
   ],
   "metadata": {}
  },
  {
   "cell_type": "code",
   "execution_count": 20,
   "source": [
    "data = {}\r\n",
    "for i, cur in enumerate(CURRENCY_LST):\r\n",
    "    seq_X = rolling_window(X[i].squeeze(), WINDOW_SIZE)[:-1]\r\n",
    "    \r\n",
    "    train_size = int(len(seq_X) * train_pct)\r\n",
    "    test_size = len(seq_X) - train_size\r\n",
    "\r\n",
    "    data[cur] = pd.DataFrame(np.hstack((seq_X, y[i][WINDOW_SIZE:].reshape(-1,1))))\r\n",
    "    X_train = seq_X[:train_size]\r\n",
    "    X_test = seq_X[train_size-WINDOW_SIZE:]\r\n",
    "    \r\n",
    "    scaler = StandardScaler()\r\n",
    "    X_train = scaler.fit_transform(X_train)\r\n",
    "    X_test = scaler.transform(X_test)\r\n",
    "    \r\n",
    "    y_train = y[i][WINDOW_SIZE:train_size+WINDOW_SIZE]\r\n",
    "    y_test = y[i][train_size:]\r\n",
    "    xgb = XGBClassifier(n_estimators=100, use_label_encoder=False, eval_metric='logloss', n_jobs=-1)\r\n",
    "    xgb.fit(X_train, y_train)\r\n",
    "    print(cur)\r\n",
    "    print(xgb.score(X_train, y_train))\r\n",
    "    print(xgb.score(X_test, y_test))"
   ],
   "outputs": [
    {
     "output_type": "stream",
     "name": "stdout",
     "text": [
      "BTC\n",
      "1.0\n",
      "0.9125\n",
      "ETH\n",
      "1.0\n",
      "0.91875\n",
      "LTC\n",
      "1.0\n",
      "0.9166666666666666\n",
      "XRP\n",
      "1.0\n",
      "0.9208333333333333\n",
      "ADA\n",
      "1.0\n",
      "0.9083333333333333\n"
     ]
    }
   ],
   "metadata": {}
  },
  {
   "cell_type": "code",
   "execution_count": 72,
   "source": [
    "#!pip install -U numpy==1.18 --user #required if keras produces an error related to numpy"
   ],
   "outputs": [
    {
     "output_type": "stream",
     "name": "stdout",
     "text": [
      "Requirement already satisfied: numpy==1.18 in c:\\users\\furkan\\appdata\\roaming\\python\\python38\\site-packages (1.18.0)\n"
     ]
    }
   ],
   "metadata": {}
  },
  {
   "cell_type": "code",
   "execution_count": 21,
   "source": [
    "from keras.models import Sequential\r\n",
    "from keras.layers import LSTM\r\n",
    "from keras.layers import Dense, Bidirectional"
   ],
   "outputs": [],
   "metadata": {}
  },
  {
   "cell_type": "code",
   "execution_count": null,
   "source": [
    "batch_size = 16\r\n",
    "# define model\r\n",
    "model = Sequential()\r\n",
    "model.add(Bidirectional(LSTM(50, activation='relu', input_shape=(WINDOW_SIZE, 1))))\r\n",
    "#model.add(Bidirectional(LSTM(100, activation='relu', input_shape=(200,WINDOW_SIZE, 1))))\r\n",
    "model.add(Dense(1, activation='sigmoid'))\r\n",
    "model.compile(optimizer='Adam', loss='binary_crossentropy', metrics=['acc'])\r\n",
    "# fit model\r\n",
    "model.fit(X_train.reshape(X_train.shape[0],-1,1), \r\n",
    "          y_train, \r\n",
    "          epochs=30, \r\n",
    "          batch_size=batch_size, \r\n",
    "          verbose=2,\r\n",
    "         validation_data=(X_test.reshape(X_test.shape[0],-1,1), y_test))"
   ],
   "outputs": [],
   "metadata": {}
  },
  {
   "cell_type": "code",
   "execution_count": 22,
   "source": [
    "X_train.reshape(X_train.shape[0],-1,1).shape"
   ],
   "outputs": [
    {
     "output_type": "execute_result",
     "data": {
      "text/plain": [
       "(717, 400, 1)"
      ]
     },
     "metadata": {},
     "execution_count": 22
    }
   ],
   "metadata": {}
  },
  {
   "cell_type": "code",
   "execution_count": 23,
   "source": [
    "batch_size = 8\r\n",
    "model = Sequential()\r\n",
    "model.add(Dense(100, activation='relu'))\r\n",
    "model.add(Dense(1, activation='sigmoid'))\r\n",
    "model.compile(optimizer='adam', loss='binary_crossentropy', metrics=['acc'])\r\n",
    "model.fit(X_train, y_train, epochs=20, batch_size=batch_size, verbose=2, validation_data=(X_test, y_test))"
   ],
   "outputs": [
    {
     "output_type": "stream",
     "name": "stdout",
     "text": [
      "Epoch 1/20\n",
      "90/90 - 2s - loss: 0.8139 - acc: 0.4937 - val_loss: 0.4028 - val_acc: 0.8583\n",
      "Epoch 2/20\n",
      "90/90 - 0s - loss: 0.3647 - acc: 0.8842 - val_loss: 0.2854 - val_acc: 0.9333\n",
      "Epoch 3/20\n",
      "90/90 - 0s - loss: 0.2191 - acc: 0.9833 - val_loss: 0.2333 - val_acc: 0.9312\n",
      "Epoch 4/20\n",
      "90/90 - 0s - loss: 0.1297 - acc: 0.9986 - val_loss: 0.2125 - val_acc: 0.9271\n"
     ]
    }
   ],
   "metadata": {}
  }
 ],
 "metadata": {
  "interpreter": {
   "hash": "cf5a346d587ec1341992060547c85a6411ea706a55887781b800d60fda342a75"
  },
  "kernelspec": {
   "name": "python3",
   "display_name": "Python 3.8.8 64-bit ('base': conda)"
  },
  "language_info": {
   "codemirror_mode": {
    "name": "ipython",
    "version": 3
   },
   "file_extension": ".py",
   "mimetype": "text/x-python",
   "name": "python",
   "nbconvert_exporter": "python",
   "pygments_lexer": "ipython3",
   "version": "3.8.8"
  }
 },
 "nbformat": 4,
 "nbformat_minor": 4
}